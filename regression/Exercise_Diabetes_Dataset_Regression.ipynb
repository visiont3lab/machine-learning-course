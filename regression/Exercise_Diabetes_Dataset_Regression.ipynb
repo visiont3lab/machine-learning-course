{
  "nbformat": 4,
  "nbformat_minor": 0,
  "metadata": {
    "colab": {
      "name": "Exercise-Diabetes-Dataset-Regression.ipynb",
      "provenance": [],
      "collapsed_sections": [],
      "authorship_tag": "ABX9TyM95O70opt/XhXPO4RvyaNM",
      "include_colab_link": true
    },
    "kernelspec": {
      "name": "python3",
      "display_name": "Python 3"
    },
    "language_info": {
      "name": "python"
    }
  },
  "cells": [
    {
      "cell_type": "markdown",
      "metadata": {
        "id": "view-in-github",
        "colab_type": "text"
      },
      "source": [
        "<a href=\"https://colab.research.google.com/github/visiont3lab/machine-learning-course/blob/main/regression/Exercise_Diabetes_Dataset_Regression.ipynb\" target=\"_parent\"><img src=\"https://colab.research.google.com/assets/colab-badge.svg\" alt=\"Open In Colab\"/></a>"
      ]
    },
    {
      "cell_type": "code",
      "metadata": {
        "id": "WwyyYomconuR"
      },
      "source": [
        "import pandas as pd\n",
        "from sklearn.datasets import load_diabetes\n",
        "from sklearn.model_selection import train_test_split\n",
        "from sklearn.metrics import mean_squared_error\n",
        "from sklearn import linear_model\n",
        "from sklearn.ensemble import RandomForestRegressor,GradientBoostingRegressor\n",
        "import plotly.graph_objects as go\n",
        "import numpy as np"
      ],
      "execution_count": 8,
      "outputs": []
    },
    {
      "cell_type": "code",
      "metadata": {
        "colab": {
          "base_uri": "https://localhost:8080/",
          "height": 450
        },
        "id": "zLjnz_E0oqOF",
        "outputId": "645c52de-cc95-44d9-ca8d-271259b72615"
      },
      "source": [
        "# Lettura dati  e preparazione\n",
        "d = load_diabetes()\n",
        "X = d[\"data\"]\n",
        "print(X.shape)\n",
        "Y = d[\"target\"].reshape(-1,1)\n",
        "print(Y.shape)\n",
        "df = pd.DataFrame(d[\"data\"], columns=d[\"feature_names\"])\n",
        "df[\"Output-Index-Diabetes\"] = Y\n",
        "#df.to_excel(\"a.xlsx\")\n",
        "#df.to_csv(\"a.csv\")\n",
        "#df.info()\n",
        "#df.describe()\n",
        "df"
      ],
      "execution_count": 9,
      "outputs": [
        {
          "output_type": "stream",
          "name": "stdout",
          "text": [
            "(442, 10)\n",
            "(442, 1)\n"
          ]
        },
        {
          "output_type": "execute_result",
          "data": {
            "text/html": [
              "<div>\n",
              "<style scoped>\n",
              "    .dataframe tbody tr th:only-of-type {\n",
              "        vertical-align: middle;\n",
              "    }\n",
              "\n",
              "    .dataframe tbody tr th {\n",
              "        vertical-align: top;\n",
              "    }\n",
              "\n",
              "    .dataframe thead th {\n",
              "        text-align: right;\n",
              "    }\n",
              "</style>\n",
              "<table border=\"1\" class=\"dataframe\">\n",
              "  <thead>\n",
              "    <tr style=\"text-align: right;\">\n",
              "      <th></th>\n",
              "      <th>age</th>\n",
              "      <th>sex</th>\n",
              "      <th>bmi</th>\n",
              "      <th>bp</th>\n",
              "      <th>s1</th>\n",
              "      <th>s2</th>\n",
              "      <th>s3</th>\n",
              "      <th>s4</th>\n",
              "      <th>s5</th>\n",
              "      <th>s6</th>\n",
              "      <th>Output-Index-Diabetes</th>\n",
              "    </tr>\n",
              "  </thead>\n",
              "  <tbody>\n",
              "    <tr>\n",
              "      <th>0</th>\n",
              "      <td>0.038076</td>\n",
              "      <td>0.050680</td>\n",
              "      <td>0.061696</td>\n",
              "      <td>0.021872</td>\n",
              "      <td>-0.044223</td>\n",
              "      <td>-0.034821</td>\n",
              "      <td>-0.043401</td>\n",
              "      <td>-0.002592</td>\n",
              "      <td>0.019908</td>\n",
              "      <td>-0.017646</td>\n",
              "      <td>151.0</td>\n",
              "    </tr>\n",
              "    <tr>\n",
              "      <th>1</th>\n",
              "      <td>-0.001882</td>\n",
              "      <td>-0.044642</td>\n",
              "      <td>-0.051474</td>\n",
              "      <td>-0.026328</td>\n",
              "      <td>-0.008449</td>\n",
              "      <td>-0.019163</td>\n",
              "      <td>0.074412</td>\n",
              "      <td>-0.039493</td>\n",
              "      <td>-0.068330</td>\n",
              "      <td>-0.092204</td>\n",
              "      <td>75.0</td>\n",
              "    </tr>\n",
              "    <tr>\n",
              "      <th>2</th>\n",
              "      <td>0.085299</td>\n",
              "      <td>0.050680</td>\n",
              "      <td>0.044451</td>\n",
              "      <td>-0.005671</td>\n",
              "      <td>-0.045599</td>\n",
              "      <td>-0.034194</td>\n",
              "      <td>-0.032356</td>\n",
              "      <td>-0.002592</td>\n",
              "      <td>0.002864</td>\n",
              "      <td>-0.025930</td>\n",
              "      <td>141.0</td>\n",
              "    </tr>\n",
              "    <tr>\n",
              "      <th>3</th>\n",
              "      <td>-0.089063</td>\n",
              "      <td>-0.044642</td>\n",
              "      <td>-0.011595</td>\n",
              "      <td>-0.036656</td>\n",
              "      <td>0.012191</td>\n",
              "      <td>0.024991</td>\n",
              "      <td>-0.036038</td>\n",
              "      <td>0.034309</td>\n",
              "      <td>0.022692</td>\n",
              "      <td>-0.009362</td>\n",
              "      <td>206.0</td>\n",
              "    </tr>\n",
              "    <tr>\n",
              "      <th>4</th>\n",
              "      <td>0.005383</td>\n",
              "      <td>-0.044642</td>\n",
              "      <td>-0.036385</td>\n",
              "      <td>0.021872</td>\n",
              "      <td>0.003935</td>\n",
              "      <td>0.015596</td>\n",
              "      <td>0.008142</td>\n",
              "      <td>-0.002592</td>\n",
              "      <td>-0.031991</td>\n",
              "      <td>-0.046641</td>\n",
              "      <td>135.0</td>\n",
              "    </tr>\n",
              "    <tr>\n",
              "      <th>...</th>\n",
              "      <td>...</td>\n",
              "      <td>...</td>\n",
              "      <td>...</td>\n",
              "      <td>...</td>\n",
              "      <td>...</td>\n",
              "      <td>...</td>\n",
              "      <td>...</td>\n",
              "      <td>...</td>\n",
              "      <td>...</td>\n",
              "      <td>...</td>\n",
              "      <td>...</td>\n",
              "    </tr>\n",
              "    <tr>\n",
              "      <th>437</th>\n",
              "      <td>0.041708</td>\n",
              "      <td>0.050680</td>\n",
              "      <td>0.019662</td>\n",
              "      <td>0.059744</td>\n",
              "      <td>-0.005697</td>\n",
              "      <td>-0.002566</td>\n",
              "      <td>-0.028674</td>\n",
              "      <td>-0.002592</td>\n",
              "      <td>0.031193</td>\n",
              "      <td>0.007207</td>\n",
              "      <td>178.0</td>\n",
              "    </tr>\n",
              "    <tr>\n",
              "      <th>438</th>\n",
              "      <td>-0.005515</td>\n",
              "      <td>0.050680</td>\n",
              "      <td>-0.015906</td>\n",
              "      <td>-0.067642</td>\n",
              "      <td>0.049341</td>\n",
              "      <td>0.079165</td>\n",
              "      <td>-0.028674</td>\n",
              "      <td>0.034309</td>\n",
              "      <td>-0.018118</td>\n",
              "      <td>0.044485</td>\n",
              "      <td>104.0</td>\n",
              "    </tr>\n",
              "    <tr>\n",
              "      <th>439</th>\n",
              "      <td>0.041708</td>\n",
              "      <td>0.050680</td>\n",
              "      <td>-0.015906</td>\n",
              "      <td>0.017282</td>\n",
              "      <td>-0.037344</td>\n",
              "      <td>-0.013840</td>\n",
              "      <td>-0.024993</td>\n",
              "      <td>-0.011080</td>\n",
              "      <td>-0.046879</td>\n",
              "      <td>0.015491</td>\n",
              "      <td>132.0</td>\n",
              "    </tr>\n",
              "    <tr>\n",
              "      <th>440</th>\n",
              "      <td>-0.045472</td>\n",
              "      <td>-0.044642</td>\n",
              "      <td>0.039062</td>\n",
              "      <td>0.001215</td>\n",
              "      <td>0.016318</td>\n",
              "      <td>0.015283</td>\n",
              "      <td>-0.028674</td>\n",
              "      <td>0.026560</td>\n",
              "      <td>0.044528</td>\n",
              "      <td>-0.025930</td>\n",
              "      <td>220.0</td>\n",
              "    </tr>\n",
              "    <tr>\n",
              "      <th>441</th>\n",
              "      <td>-0.045472</td>\n",
              "      <td>-0.044642</td>\n",
              "      <td>-0.073030</td>\n",
              "      <td>-0.081414</td>\n",
              "      <td>0.083740</td>\n",
              "      <td>0.027809</td>\n",
              "      <td>0.173816</td>\n",
              "      <td>-0.039493</td>\n",
              "      <td>-0.004220</td>\n",
              "      <td>0.003064</td>\n",
              "      <td>57.0</td>\n",
              "    </tr>\n",
              "  </tbody>\n",
              "</table>\n",
              "<p>442 rows × 11 columns</p>\n",
              "</div>"
            ],
            "text/plain": [
              "          age       sex       bmi  ...        s5        s6  Output-Index-Diabetes\n",
              "0    0.038076  0.050680  0.061696  ...  0.019908 -0.017646                  151.0\n",
              "1   -0.001882 -0.044642 -0.051474  ... -0.068330 -0.092204                   75.0\n",
              "2    0.085299  0.050680  0.044451  ...  0.002864 -0.025930                  141.0\n",
              "3   -0.089063 -0.044642 -0.011595  ...  0.022692 -0.009362                  206.0\n",
              "4    0.005383 -0.044642 -0.036385  ... -0.031991 -0.046641                  135.0\n",
              "..        ...       ...       ...  ...       ...       ...                    ...\n",
              "437  0.041708  0.050680  0.019662  ...  0.031193  0.007207                  178.0\n",
              "438 -0.005515  0.050680 -0.015906  ... -0.018118  0.044485                  104.0\n",
              "439  0.041708  0.050680 -0.015906  ... -0.046879  0.015491                  132.0\n",
              "440 -0.045472 -0.044642  0.039062  ...  0.044528 -0.025930                  220.0\n",
              "441 -0.045472 -0.044642 -0.073030  ... -0.004220  0.003064                   57.0\n",
              "\n",
              "[442 rows x 11 columns]"
            ]
          },
          "metadata": {},
          "execution_count": 9
        }
      ]
    },
    {
      "cell_type": "code",
      "metadata": {
        "colab": {
          "base_uri": "https://localhost:8080/"
        },
        "id": "1vixwGfqoq4P",
        "outputId": "514e1fda-094b-4896-ee7c-56a2537fbc6e"
      },
      "source": [
        "# Shuffle --> mescolate 90 training -- 10%\n",
        "X_train, X_test, y_train, y_test = train_test_split( X, Y, test_size=0.10,shuffle=True, random_state=5)\n",
        "print(X_train.shape)\n",
        "print(X_test.shape)"
      ],
      "execution_count": 96,
      "outputs": [
        {
          "output_type": "stream",
          "name": "stdout",
          "text": [
            "(397, 10)\n",
            "(45, 10)\n"
          ]
        }
      ]
    },
    {
      "cell_type": "code",
      "metadata": {
        "id": "NGhRP6UcyePZ"
      },
      "source": [
        "#from sklearn.preprocessing import StandardScaler\n",
        "#sc = StandardScaler()\n",
        "#X_train = sc.fit_transform(X_train)\n",
        "#X_test = sc.transform(X_test)\n",
        "#age sex  bmi bp s1 s2 s3 s4 s5\n",
        "#print(sc.mean_)\n",
        "#print(sc.var_)"
      ],
      "execution_count": 105,
      "outputs": []
    },
    {
      "cell_type": "code",
      "metadata": {
        "id": "-iVzmv-CsNU_"
      },
      "source": [
        "#from sklearn.preprocessing import PolynomialFeatures\n",
        "#print(X_train.shape)\n",
        "#poly = PolynomialFeatures(degree=3,interaction_only=False)\n",
        "#X_train_poly = poly.fit_transform(X_train)\n",
        "#X_test_poly = poly.transform(X_test)\n",
        "#print(X_train_poly.shape)"
      ],
      "execution_count": 76,
      "outputs": []
    },
    {
      "cell_type": "code",
      "metadata": {
        "colab": {
          "base_uri": "https://localhost:8080/"
        },
        "id": "729edtgmu3GB",
        "outputId": "4ab42065-4f6a-41bc-a116-50427c5e7cf7"
      },
      "source": [
        "#from sklearn.decomposition import PCA\n",
        "#print(X_train.shape)\n",
        "#pca = PCA(n_components=0.99)\n",
        "#X_train = pca.fit_transform(X_train)\n",
        "#X_test = pca.transform(X_test)\n",
        "#print(X_train.shape)\n",
        "#X_test = pca.transform(X_test)"
      ],
      "execution_count": 80,
      "outputs": [
        {
          "output_type": "stream",
          "name": "stdout",
          "text": [
            "(397, 10)\n",
            "(397, 9)\n"
          ]
        }
      ]
    },
    {
      "cell_type": "code",
      "metadata": {
        "colab": {
          "base_uri": "https://localhost:8080/"
        },
        "id": "md51_553ovtD",
        "outputId": "28edf584-c3ca-41db-b4b8-c29bdf93b471"
      },
      "source": [
        "# Training\n",
        "# 1. Variabili Categoriche: Assicurarci che i dati che i dati siano tuti numeri\n",
        "\n",
        "# Definisco il modello\n",
        "model = linear_model.LinearRegression()\n",
        "#model  = GradientBoostingRegressor()\n",
        "\n",
        "# Allenamento\n",
        "model.fit(X_train,y_train)\n",
        "y_hat_train  = model.predict(X_train) # --> y_test\n",
        "RMSE_train = np.sqrt( mean_squared_error(y_train,y_hat_train) )\n",
        "print(RMSE_train)\n",
        "\n",
        "# Predirre\n",
        "y_hat_test  = model.predict(X_test) # --> y_test\n",
        "RMSE_test = np.sqrt( mean_squared_error(y_test,y_hat_test) )\n",
        "print(RMSE_test)"
      ],
      "execution_count": 97,
      "outputs": [
        {
          "output_type": "stream",
          "name": "stdout",
          "text": [
            "53.41006594722853\n",
            "54.68852288280682\n"
          ]
        }
      ]
    },
    {
      "cell_type": "code",
      "metadata": {
        "id": "cvMMTPZBoyLd"
      },
      "source": [
        "# Salvo in excel i dati\n",
        "d[\"feature_names\"]\n",
        "df_test = pd.DataFrame(X_test,columns=d[\"feature_names\"])\n",
        "df_test[\"y_test\"] = y_test\n",
        "df_test[\"y_hat_test\"] = y_hat_test\n",
        "df_test.to_excel(\"test_results.xlsx\", index=None)"
      ],
      "execution_count": 12,
      "outputs": []
    },
    {
      "cell_type": "code",
      "metadata": {
        "colab": {
          "base_uri": "https://localhost:8080/",
          "height": 542
        },
        "id": "LAoN7UEWoz-S",
        "outputId": "b91c613e-2660-4d30-e776-1d67f1ed50a5"
      },
      "source": [
        "# Visualizazione\n",
        "x = np.linspace(start=0,stop=45,num=45)\n",
        "fig = go.Figure()\n",
        "fig.add_trace( go.Scatter( x=x, y=y_test.flatten(),mode=\"markers+lines\", name=\"y_test\") )\n",
        "fig.add_trace( go.Scatter( x=x, y=y_hat_test.flatten(),mode=\"markers+lines\", name=\"y_hat_test\") )\n",
        "fig.update_layout(title_text=\"Results\", hovermode=\"x\")\n",
        "fig.show()"
      ],
      "execution_count": 13,
      "outputs": [
        {
          "output_type": "display_data",
          "data": {
            "text/html": [
              "<html>\n",
              "<head><meta charset=\"utf-8\" /></head>\n",
              "<body>\n",
              "    <div>\n",
              "            <script src=\"https://cdnjs.cloudflare.com/ajax/libs/mathjax/2.7.5/MathJax.js?config=TeX-AMS-MML_SVG\"></script><script type=\"text/javascript\">if (window.MathJax) {MathJax.Hub.Config({SVG: {font: \"STIX-Web\"}});}</script>\n",
              "                <script type=\"text/javascript\">window.PlotlyConfig = {MathJaxConfig: 'local'};</script>\n",
              "        <script src=\"https://cdn.plot.ly/plotly-latest.min.js\"></script>    \n",
              "            <div id=\"761dcbc1-8330-4e7a-acd8-e1578240966f\" class=\"plotly-graph-div\" style=\"height:525px; width:100%;\"></div>\n",
              "            <script type=\"text/javascript\">\n",
              "                \n",
              "                    window.PLOTLYENV=window.PLOTLYENV || {};\n",
              "                    \n",
              "                if (document.getElementById(\"761dcbc1-8330-4e7a-acd8-e1578240966f\")) {\n",
              "                    Plotly.newPlot(\n",
              "                        '761dcbc1-8330-4e7a-acd8-e1578240966f',\n",
              "                        [{\"mode\": \"markers+lines\", \"name\": \"y_test\", \"type\": \"scatter\", \"x\": [0.0, 1.0227272727272727, 2.0454545454545454, 3.0681818181818183, 4.090909090909091, 5.113636363636363, 6.136363636363637, 7.159090909090909, 8.181818181818182, 9.204545454545455, 10.227272727272727, 11.25, 12.272727272727273, 13.295454545454545, 14.318181818181818, 15.34090909090909, 16.363636363636363, 17.386363636363637, 18.40909090909091, 19.43181818181818, 20.454545454545453, 21.477272727272727, 22.5, 23.522727272727273, 24.545454545454547, 25.568181818181817, 26.59090909090909, 27.613636363636363, 28.636363636363637, 29.65909090909091, 30.68181818181818, 31.704545454545453, 32.72727272727273, 33.75, 34.77272727272727, 35.79545454545455, 36.81818181818182, 37.84090909090909, 38.86363636363636, 39.88636363636363, 40.90909090909091, 41.93181818181818, 42.95454545454545, 43.97727272727273, 45.0], \"y\": [281.0, 332.0, 178.0, 155.0, 137.0, 65.0, 31.0, 275.0, 138.0, 173.0, 90.0, 221.0, 198.0, 88.0, 268.0, 107.0, 83.0, 63.0, 65.0, 93.0, 103.0, 144.0, 156.0, 84.0, 42.0, 181.0, 233.0, 109.0, 92.0, 101.0, 71.0, 140.0, 150.0, 49.0, 109.0, 91.0, 215.0, 44.0, 212.0, 116.0, 42.0, 59.0, 140.0, 281.0, 200.0]}, {\"mode\": \"markers+lines\", \"name\": \"y_hat_test\", \"type\": \"scatter\", \"x\": [0.0, 1.0227272727272727, 2.0454545454545454, 3.0681818181818183, 4.090909090909091, 5.113636363636363, 6.136363636363637, 7.159090909090909, 8.181818181818182, 9.204545454545455, 10.227272727272727, 11.25, 12.272727272727273, 13.295454545454545, 14.318181818181818, 15.34090909090909, 16.363636363636363, 17.386363636363637, 18.40909090909091, 19.43181818181818, 20.454545454545453, 21.477272727272727, 22.5, 23.522727272727273, 24.545454545454547, 25.568181818181817, 26.59090909090909, 27.613636363636363, 28.636363636363637, 29.65909090909091, 30.68181818181818, 31.704545454545453, 32.72727272727273, 33.75, 34.77272727272727, 35.79545454545455, 36.81818181818182, 37.84090909090909, 38.86363636363636, 39.88636363636363, 40.90909090909091, 41.93181818181818, 42.95454545454545, 43.97727272727273, 45.0], \"y\": [196.53197553960098, 221.63554007634713, 125.17078277551275, 156.0854997549097, 204.86667389979272, 129.86842416294863, 97.42570626145613, 236.97639133033718, 177.4373822073238, 217.81468267084665, 52.86961524154131, 205.15996427380418, 177.5923138536569, 145.0307858826141, 228.1373262203341, 115.10211982179142, 124.37875233301216, 59.61117641346601, 77.01904277733757, 142.5941294661421, 131.40806681706923, 124.8081210176311, 159.73880318829305, 185.7678360667983, 128.1131841600052, 84.12790832357159, 257.9276013762252, 205.94460474127834, 75.83697649786882, 187.86447293540922, 88.57433832589757, 129.0641029334244, 125.66071773384206, 89.38276525630931, 111.36897199901156, 177.73113800947831, 247.12857481176394, 127.2899276926776, 194.92149737007495, 46.63429982561743, 79.25218565355938, 137.97038260316083, 173.97632259782006, 233.9305926122745, 149.5474339194069]}],\n",
              "                        {\"hovermode\": \"x\", \"template\": {\"data\": {\"bar\": [{\"error_x\": {\"color\": \"#2a3f5f\"}, \"error_y\": {\"color\": \"#2a3f5f\"}, \"marker\": {\"line\": {\"color\": \"#E5ECF6\", \"width\": 0.5}}, \"type\": \"bar\"}], \"barpolar\": [{\"marker\": {\"line\": {\"color\": \"#E5ECF6\", \"width\": 0.5}}, \"type\": \"barpolar\"}], \"carpet\": [{\"aaxis\": {\"endlinecolor\": \"#2a3f5f\", \"gridcolor\": \"white\", \"linecolor\": \"white\", \"minorgridcolor\": \"white\", \"startlinecolor\": \"#2a3f5f\"}, \"baxis\": {\"endlinecolor\": \"#2a3f5f\", \"gridcolor\": \"white\", \"linecolor\": \"white\", \"minorgridcolor\": \"white\", \"startlinecolor\": \"#2a3f5f\"}, \"type\": \"carpet\"}], \"choropleth\": [{\"colorbar\": {\"outlinewidth\": 0, \"ticks\": \"\"}, \"type\": \"choropleth\"}], \"contour\": [{\"colorbar\": {\"outlinewidth\": 0, \"ticks\": \"\"}, \"colorscale\": [[0.0, \"#0d0887\"], [0.1111111111111111, \"#46039f\"], [0.2222222222222222, \"#7201a8\"], [0.3333333333333333, \"#9c179e\"], [0.4444444444444444, \"#bd3786\"], [0.5555555555555556, \"#d8576b\"], [0.6666666666666666, \"#ed7953\"], [0.7777777777777778, \"#fb9f3a\"], [0.8888888888888888, \"#fdca26\"], [1.0, \"#f0f921\"]], \"type\": \"contour\"}], \"contourcarpet\": [{\"colorbar\": {\"outlinewidth\": 0, \"ticks\": \"\"}, \"type\": \"contourcarpet\"}], \"heatmap\": [{\"colorbar\": {\"outlinewidth\": 0, \"ticks\": \"\"}, \"colorscale\": [[0.0, \"#0d0887\"], [0.1111111111111111, \"#46039f\"], [0.2222222222222222, \"#7201a8\"], [0.3333333333333333, \"#9c179e\"], [0.4444444444444444, \"#bd3786\"], [0.5555555555555556, \"#d8576b\"], [0.6666666666666666, \"#ed7953\"], [0.7777777777777778, \"#fb9f3a\"], [0.8888888888888888, \"#fdca26\"], [1.0, \"#f0f921\"]], \"type\": \"heatmap\"}], \"heatmapgl\": [{\"colorbar\": {\"outlinewidth\": 0, \"ticks\": \"\"}, \"colorscale\": [[0.0, \"#0d0887\"], [0.1111111111111111, \"#46039f\"], [0.2222222222222222, \"#7201a8\"], [0.3333333333333333, \"#9c179e\"], [0.4444444444444444, \"#bd3786\"], [0.5555555555555556, \"#d8576b\"], [0.6666666666666666, \"#ed7953\"], [0.7777777777777778, \"#fb9f3a\"], [0.8888888888888888, \"#fdca26\"], [1.0, \"#f0f921\"]], \"type\": \"heatmapgl\"}], \"histogram\": [{\"marker\": {\"colorbar\": {\"outlinewidth\": 0, \"ticks\": \"\"}}, \"type\": \"histogram\"}], \"histogram2d\": [{\"colorbar\": {\"outlinewidth\": 0, \"ticks\": \"\"}, \"colorscale\": [[0.0, \"#0d0887\"], [0.1111111111111111, \"#46039f\"], [0.2222222222222222, \"#7201a8\"], [0.3333333333333333, \"#9c179e\"], [0.4444444444444444, \"#bd3786\"], [0.5555555555555556, \"#d8576b\"], [0.6666666666666666, \"#ed7953\"], [0.7777777777777778, \"#fb9f3a\"], [0.8888888888888888, \"#fdca26\"], [1.0, \"#f0f921\"]], \"type\": \"histogram2d\"}], \"histogram2dcontour\": [{\"colorbar\": {\"outlinewidth\": 0, \"ticks\": \"\"}, \"colorscale\": [[0.0, \"#0d0887\"], [0.1111111111111111, \"#46039f\"], [0.2222222222222222, \"#7201a8\"], [0.3333333333333333, \"#9c179e\"], [0.4444444444444444, \"#bd3786\"], [0.5555555555555556, \"#d8576b\"], [0.6666666666666666, \"#ed7953\"], [0.7777777777777778, \"#fb9f3a\"], [0.8888888888888888, \"#fdca26\"], [1.0, \"#f0f921\"]], \"type\": \"histogram2dcontour\"}], \"mesh3d\": [{\"colorbar\": {\"outlinewidth\": 0, \"ticks\": \"\"}, \"type\": \"mesh3d\"}], \"parcoords\": [{\"line\": {\"colorbar\": {\"outlinewidth\": 0, \"ticks\": \"\"}}, \"type\": \"parcoords\"}], \"pie\": [{\"automargin\": true, \"type\": \"pie\"}], \"scatter\": [{\"marker\": {\"colorbar\": {\"outlinewidth\": 0, \"ticks\": \"\"}}, \"type\": \"scatter\"}], \"scatter3d\": [{\"line\": {\"colorbar\": {\"outlinewidth\": 0, \"ticks\": \"\"}}, \"marker\": {\"colorbar\": {\"outlinewidth\": 0, \"ticks\": \"\"}}, \"type\": \"scatter3d\"}], \"scattercarpet\": [{\"marker\": {\"colorbar\": {\"outlinewidth\": 0, \"ticks\": \"\"}}, \"type\": \"scattercarpet\"}], \"scattergeo\": [{\"marker\": {\"colorbar\": {\"outlinewidth\": 0, \"ticks\": \"\"}}, \"type\": \"scattergeo\"}], \"scattergl\": [{\"marker\": {\"colorbar\": {\"outlinewidth\": 0, \"ticks\": \"\"}}, \"type\": \"scattergl\"}], \"scattermapbox\": [{\"marker\": {\"colorbar\": {\"outlinewidth\": 0, \"ticks\": \"\"}}, \"type\": \"scattermapbox\"}], \"scatterpolar\": [{\"marker\": {\"colorbar\": {\"outlinewidth\": 0, \"ticks\": \"\"}}, \"type\": \"scatterpolar\"}], \"scatterpolargl\": [{\"marker\": {\"colorbar\": {\"outlinewidth\": 0, \"ticks\": \"\"}}, \"type\": \"scatterpolargl\"}], \"scatterternary\": [{\"marker\": {\"colorbar\": {\"outlinewidth\": 0, \"ticks\": \"\"}}, \"type\": \"scatterternary\"}], \"surface\": [{\"colorbar\": {\"outlinewidth\": 0, \"ticks\": \"\"}, \"colorscale\": [[0.0, \"#0d0887\"], [0.1111111111111111, \"#46039f\"], [0.2222222222222222, \"#7201a8\"], [0.3333333333333333, \"#9c179e\"], [0.4444444444444444, \"#bd3786\"], [0.5555555555555556, \"#d8576b\"], [0.6666666666666666, \"#ed7953\"], [0.7777777777777778, \"#fb9f3a\"], [0.8888888888888888, \"#fdca26\"], [1.0, \"#f0f921\"]], \"type\": \"surface\"}], \"table\": [{\"cells\": {\"fill\": {\"color\": \"#EBF0F8\"}, \"line\": {\"color\": \"white\"}}, \"header\": {\"fill\": {\"color\": \"#C8D4E3\"}, \"line\": {\"color\": \"white\"}}, \"type\": \"table\"}]}, \"layout\": {\"annotationdefaults\": {\"arrowcolor\": \"#2a3f5f\", \"arrowhead\": 0, \"arrowwidth\": 1}, \"coloraxis\": {\"colorbar\": {\"outlinewidth\": 0, \"ticks\": \"\"}}, \"colorscale\": {\"diverging\": [[0, \"#8e0152\"], [0.1, \"#c51b7d\"], [0.2, \"#de77ae\"], [0.3, \"#f1b6da\"], [0.4, \"#fde0ef\"], [0.5, \"#f7f7f7\"], [0.6, \"#e6f5d0\"], [0.7, \"#b8e186\"], [0.8, \"#7fbc41\"], [0.9, \"#4d9221\"], [1, \"#276419\"]], \"sequential\": [[0.0, \"#0d0887\"], [0.1111111111111111, \"#46039f\"], [0.2222222222222222, \"#7201a8\"], [0.3333333333333333, \"#9c179e\"], [0.4444444444444444, \"#bd3786\"], [0.5555555555555556, \"#d8576b\"], [0.6666666666666666, \"#ed7953\"], [0.7777777777777778, \"#fb9f3a\"], [0.8888888888888888, \"#fdca26\"], [1.0, \"#f0f921\"]], \"sequentialminus\": [[0.0, \"#0d0887\"], [0.1111111111111111, \"#46039f\"], [0.2222222222222222, \"#7201a8\"], [0.3333333333333333, \"#9c179e\"], [0.4444444444444444, \"#bd3786\"], [0.5555555555555556, \"#d8576b\"], [0.6666666666666666, \"#ed7953\"], [0.7777777777777778, \"#fb9f3a\"], [0.8888888888888888, \"#fdca26\"], [1.0, \"#f0f921\"]]}, \"colorway\": [\"#636efa\", \"#EF553B\", \"#00cc96\", \"#ab63fa\", \"#FFA15A\", \"#19d3f3\", \"#FF6692\", \"#B6E880\", \"#FF97FF\", \"#FECB52\"], \"font\": {\"color\": \"#2a3f5f\"}, \"geo\": {\"bgcolor\": \"white\", \"lakecolor\": \"white\", \"landcolor\": \"#E5ECF6\", \"showlakes\": true, \"showland\": true, \"subunitcolor\": \"white\"}, \"hoverlabel\": {\"align\": \"left\"}, \"hovermode\": \"closest\", \"mapbox\": {\"style\": \"light\"}, \"paper_bgcolor\": \"white\", \"plot_bgcolor\": \"#E5ECF6\", \"polar\": {\"angularaxis\": {\"gridcolor\": \"white\", \"linecolor\": \"white\", \"ticks\": \"\"}, \"bgcolor\": \"#E5ECF6\", \"radialaxis\": {\"gridcolor\": \"white\", \"linecolor\": \"white\", \"ticks\": \"\"}}, \"scene\": {\"xaxis\": {\"backgroundcolor\": \"#E5ECF6\", \"gridcolor\": \"white\", \"gridwidth\": 2, \"linecolor\": \"white\", \"showbackground\": true, \"ticks\": \"\", \"zerolinecolor\": \"white\"}, \"yaxis\": {\"backgroundcolor\": \"#E5ECF6\", \"gridcolor\": \"white\", \"gridwidth\": 2, \"linecolor\": \"white\", \"showbackground\": true, \"ticks\": \"\", \"zerolinecolor\": \"white\"}, \"zaxis\": {\"backgroundcolor\": \"#E5ECF6\", \"gridcolor\": \"white\", \"gridwidth\": 2, \"linecolor\": \"white\", \"showbackground\": true, \"ticks\": \"\", \"zerolinecolor\": \"white\"}}, \"shapedefaults\": {\"line\": {\"color\": \"#2a3f5f\"}}, \"ternary\": {\"aaxis\": {\"gridcolor\": \"white\", \"linecolor\": \"white\", \"ticks\": \"\"}, \"baxis\": {\"gridcolor\": \"white\", \"linecolor\": \"white\", \"ticks\": \"\"}, \"bgcolor\": \"#E5ECF6\", \"caxis\": {\"gridcolor\": \"white\", \"linecolor\": \"white\", \"ticks\": \"\"}}, \"title\": {\"x\": 0.05}, \"xaxis\": {\"automargin\": true, \"gridcolor\": \"white\", \"linecolor\": \"white\", \"ticks\": \"\", \"title\": {\"standoff\": 15}, \"zerolinecolor\": \"white\", \"zerolinewidth\": 2}, \"yaxis\": {\"automargin\": true, \"gridcolor\": \"white\", \"linecolor\": \"white\", \"ticks\": \"\", \"title\": {\"standoff\": 15}, \"zerolinecolor\": \"white\", \"zerolinewidth\": 2}}}, \"title\": {\"text\": \"Results\"}},\n",
              "                        {\"responsive\": true}\n",
              "                    ).then(function(){\n",
              "                            \n",
              "var gd = document.getElementById('761dcbc1-8330-4e7a-acd8-e1578240966f');\n",
              "var x = new MutationObserver(function (mutations, observer) {{\n",
              "        var display = window.getComputedStyle(gd).display;\n",
              "        if (!display || display === 'none') {{\n",
              "            console.log([gd, 'removed!']);\n",
              "            Plotly.purge(gd);\n",
              "            observer.disconnect();\n",
              "        }}\n",
              "}});\n",
              "\n",
              "// Listen for the removal of the full notebook cells\n",
              "var notebookContainer = gd.closest('#notebook-container');\n",
              "if (notebookContainer) {{\n",
              "    x.observe(notebookContainer, {childList: true});\n",
              "}}\n",
              "\n",
              "// Listen for the clearing of the current output cell\n",
              "var outputEl = gd.closest('.output');\n",
              "if (outputEl) {{\n",
              "    x.observe(outputEl, {childList: true});\n",
              "}}\n",
              "\n",
              "                        })\n",
              "                };\n",
              "                \n",
              "            </script>\n",
              "        </div>\n",
              "</body>\n",
              "</html>"
            ]
          },
          "metadata": {}
        }
      ]
    },
    {
      "cell_type": "markdown",
      "metadata": {
        "id": "1IWegWopo7JP"
      },
      "source": [
        "## Extra: Comparazione Linear Regression numpy - sklearn"
      ]
    },
    {
      "cell_type": "code",
      "metadata": {
        "colab": {
          "base_uri": "https://localhost:8080/"
        },
        "id": "lW2YSHUYo8i9",
        "outputId": "3c3e5508-7273-4aec-fff1-63965edf7570"
      },
      "source": [
        "\n",
        "# Definisco il modello\n",
        "model = linear_model.LinearRegression()\n",
        "#model  = GradientBoostingRegressor()\n",
        "\n",
        "# Allenamento\n",
        "model.fit(X,Y)\n",
        "\n",
        "# Predico su nuovi dati\n",
        "age = -0.001882\t\n",
        "sex = -0.044642\t\n",
        "bmi = -0.051474\t\n",
        "bp = -0.026328\t\n",
        "s1 = -0.008449\t\n",
        "s2 = -0.019163\t\n",
        "s3 = 0.074412\t\n",
        "s4 = -0.039493\t\n",
        "s5 = -0.068330\t\n",
        "s6 = -0.092204\n",
        "model.predict( np.array([[age,sex,bmi,bp,s1,s2,s3,s4,s5,s6]]) )\n",
        "\n",
        "\n",
        "a0 = model.intercept_[0]\n",
        "a1 = model.coef_[0][0]\n",
        "a2 = model.coef_[0][1]\n",
        "a3 = model.coef_[0][2]\n",
        "a4 = model.coef_[0][3]\n",
        "a5 = model.coef_[0][4]\n",
        "a6 = model.coef_[0][5]\n",
        "a7 = model.coef_[0][6]\n",
        "a8 = model.coef_[0][7]\n",
        "a9 = model.coef_[0][8]\n",
        "a10 = model.coef_[0][9]\n",
        "\n",
        "age = -0.001882\t\n",
        "sex = -0.044642\t\n",
        "bmi = -0.051474\t\n",
        "bp = -0.026328\t\n",
        "s1 = -0.008449\t\n",
        "s2 = -0.019163\t\n",
        "s3 = 0.074412\t\n",
        "s4 = -0.039493\t\n",
        "s5 = -0.068330\t\n",
        "s6 = -0.092204\t\n",
        "\n",
        "# y = a0 + a1*x1 + a2*x2 + a3*x3 + a4*x4 + a5*x5 + a6*x6 + a7*x7 + a8*x8 + a9*x9 + a10*x10\n",
        "y_hat_np = a0 + a1*age + a2*sex + a3*bmi + a4*bp + a5*s1 + a6*s2 + a7*s3 + a8*s4 + a9*s5 + a10*s6\n",
        "print(y_hat_np)\n",
        "#print(model.coef_)\n",
        "#print(model.intercept_)\n",
        "y_hat_sklearn = model.predict(np.array([[age,sex,bmi,bp,s1,s2,s3,s4,s5,s6]]))\n",
        "print(y_hat_sklearn)\n"
      ],
      "execution_count": 21,
      "outputs": [
        {
          "output_type": "stream",
          "name": "stdout",
          "text": [
            "68.07271595070212\n",
            "[[68.07271595]]\n"
          ]
        }
      ]
    },
    {
      "cell_type": "code",
      "metadata": {
        "id": "S0_ov7sXpIRZ"
      },
      "source": [
        ""
      ],
      "execution_count": 1,
      "outputs": []
    }
  ]
}