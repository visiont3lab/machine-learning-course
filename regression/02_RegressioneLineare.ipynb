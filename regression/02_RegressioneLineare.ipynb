{
  "nbformat": 4,
  "nbformat_minor": 0,
  "metadata": {
    "colab": {
      "name": "02_RegressioneLineare.ipynb",
      "provenance": [],
      "collapsed_sections": [
        "Uv4e_IRchuED",
        "9bDC-kI8fytD",
        "g9lsyvRciv37",
        "c5tx_AkEiykB"
      ],
      "include_colab_link": true
    },
    "kernelspec": {
      "name": "python3",
      "display_name": "Python 3"
    }
  },
  "cells": [
    {
      "cell_type": "markdown",
      "metadata": {
        "id": "view-in-github",
        "colab_type": "text"
      },
      "source": [
        "<a href=\"https://colab.research.google.com/github/visiont3lab/machine-learning-course/blob/main/regression/02_RegressioneLineare.ipynb\" target=\"_parent\"><img src=\"https://colab.research.google.com/assets/colab-badge.svg\" alt=\"Open In Colab\"/></a>"
      ]
    },
    {
      "cell_type": "markdown",
      "metadata": {
        "id": "Yn_sFk2N8C9f"
      },
      "source": [
        "# Cosa andremo a fare oggi?\n",
        "\n",
        "  * Introduzione alla libreria scikit-learn\n",
        "  * Regressione vs Classificazione \n",
        "  * Regressione Lineare\n",
        "    * Regressione Lineare: Esempio 1: Stima del salario mensile di un individuo basandoci solo sull'etá della persona.\n",
        "    * Regressione Lineare: Esempio 2: Stima del salario mensile di un individuo prima basandoci sull'etá, sul numero di ore di lavoro mensili e sull'indice (1-10) di esperienza della persona.\n",
        "    * Regressione Lineare Esempio 3: Utilizzeremo la regressione lineare per approssimare delle curve nello spazio 2D.\n",
        "  * Scikit-Learn datasets Spiegazione, nozioni su come scaricarli applicazione della regressione lineare a un dataset di scikit-learn (diabetes dataset)\n"
      ]
    },
    {
      "cell_type": "markdown",
      "metadata": {
        "id": "u1uyDVNR-ZYS"
      },
      "source": [
        "# Introduzione alla libreria scikit-learn\n",
        "\n",
        "[Scikit-learn](https://scikit-learn.org/stable/) è una libreria di machine learning.\n",
        "* [Sklearn Installation page](https://scikit-learn.org/stable/install.html)  \n",
        "\n",
        "```\n",
        "# Pip packet manager\n",
        "pip install -U scikit-learn\n",
        "# Conda packet manager \n",
        "conda install scikit-learn\n",
        "```"
      ]
    },
    {
      "cell_type": "markdown",
      "metadata": {
        "id": "8Ux8rA9UfvX3"
      },
      "source": [
        "# Regressione vs Classificazione\n",
        "Appartengono entrambi alla cateria di \"Supervised Learning\" (Apprendimento Supervisionato). Con ciò intendiamo quella situazione in cui io mi creo un dataset (quindi racconto una serie di dati) e con questi dati cerco di risolvere un problema. Posso risolvere due tipi di problema:\n",
        "\n",
        "## Regressione: Spiegazione      \n",
        "<center><h2>Qualè il valore di?</h2></center>\n",
        "Quando parliamo di regressione vogliamo stimare, predirre un NUMERO usando dei dati precedenemente raccolti. Quello che vogliamo predirre dipende dagli input che abbiamo.\n",
        "\n",
        "### Esempi Regressione:\n",
        "  * Dato il salario mensile delle persone che lavorano in Google e la loro età vogliamo capire (stimare, predirre) quanto guadagnerà marco che ha 20 anni se venisse assunto domani.\n",
        "  * Dati gli ultimi match dell'inter e la qualità degli ultimi acquisti vogliamo stimare il numero di punti che esso otterrà a fine campionato.\n",
        "  * Vogliamo approssimare una curva nello spazio. Cioè data una curva nella spazio 2D vogliamo trovare una funzione matematica capace di approssimarla.\n",
        "  * Vogliamo stimare il numero di anni che un pc appena comprato durerà, analizzando quando normamente dura.\n",
        "  * Vogliamo stimare la qualità di questo corso (da 1 a 10) sulla base delle vostre valutazioni e del numero di ore del corso.\n",
        "  * Vogliamo predirre il numero di studenti che passerà l'esame analizzando il vostro background (1-10), il numero di domande fatte e il numero di esercitazioni che avete risolto correttamente.\n",
        "\n",
        "## Classificazione: Spiegazione\n",
        "<center><h2>Chi tra?</h2></center>\n",
        "Parliamo invece di classificazione quando volgiamo DISTINGUERE (cioè capire se un qualcosa è a o b). Non ci interessa in questa caso avere una percentuale o un indicazione numerica vogliamo differenziare qualcosa. \n",
        "\n",
        "### Esempi Classificazione:\n",
        "\n",
        "  * Quale squadra di calcio vincerà il campionato? Nel campionato italiano ci sono 20 squadre, tra queste 20 voglio indovinare quale vincerà.\n",
        "  * Dati un insieme di data relativi a un paziente vogliamo capire se ha un raffreddore o semplicemente la febbre. (O uno o l'altro)\n",
        "  * Sulla base delle specifiche vogliamo campire se è più adatto come gaming laptop il mac pro, il dex xps o l'msi. Chi tra questi tre pc è più adatto?\n",
        "  * Sulla base del numero di persone assunte, più altre informazione vogliamo capire se è meglio per uno studente incerto inscriversi a giurisprudenza, oppure a ingegneria.\n",
        "  * Basandoci sulle citazioni più famose dei filosi vogliamo capire chi ha è più conosciuto tra Risultati relativi a Immanuel Kant\n",
        "  * Raccogliendo dati di 100 persone che hanno seguito le seguenti diete  (Dieta dissociata, Dieta Mediterranea, Cronodieta, Dieta del biscotto) vogliamo capire quale tra queste è più adatta a me."
      ]
    },
    {
      "cell_type": "markdown",
      "metadata": {
        "id": "vMrBNvnEd_A9"
      },
      "source": [
        "# Regressione Lineare\n",
        "\n",
        "Significato:\n",
        "\n",
        "* dato una serie di dati misurati vogliamo trovare una relazione matematica tra i dati misurati e l'output desirato. <br>\n",
        "Vogliamo predirre qualcosa.\n"
      ]
    },
    {
      "cell_type": "markdown",
      "metadata": {
        "id": "kyBkV1yfeM27"
      },
      "source": [
        "## Regressione Lineare: Esempio 1: Stima del salario mensile di un individuo basandoci solo sull'etá della persona.\n"
      ]
    },
    {
      "cell_type": "markdown",
      "metadata": {
        "id": "cAFpH3LgE2ni"
      },
      "source": [
        "### Spiegazione del Problema\n",
        "Vogliamo predirre il salario di un lavoratore mensile in euro basandoci sulla sua età.\n",
        "\n",
        "Definiamo il problema matematicamente (caso lineare):\n",
        "\n",
        "<h2><center>$Y = w_0*1 + w_1*X1$</center></h2>\n",
        "\n",
        "  * Y: salario che voglio predire\n",
        "  * X1: età del lavoratore esempio X1=25 anni \n",
        "  * $w_0$ e w1 sono i due parametri da stimare (Sconosciuti)\n",
        "\n",
        "Il problema di regressione consiste nel determinare le variabili sconosciute ($w_0$, $w_1$) utilizzando un dataset (insieme dei dati raccolti). Una volta indiviudati i parametri $w_0$ e $w_1$ saremo in grado di stimare quanto guandagna una persona a noi sconosciuta semplicemente basandoci sulla sue età.\n",
        "\n",
        "* Step 1) Dato un insieme di dati raccolti ( Y e X1) vogliamo stimare i parametri sconosciuti $w_0$ e $w_1$ (sono due numeri)\n",
        "\n",
        "```\n",
        "Dati Raccolti:\n",
        "Y = Salario al mese in euro\n",
        "X1 = Età del lavoratore\n",
        "1) Marco:    Y=1100   X1=19\n",
        "2) Daniele:  Y=1150   X1=21\n",
        "3) Davide:   Y=1155   X1=22\n",
        "4) Marta:    Y=1170   X1=23\n",
        "6) Alessia:  Y=1200   X1=26\n",
        "9) Stella:   Y=1750   X1=33\n",
        "10) Chiara   Y=1640   X1=29  \n",
        "```\n",
        "* Step 2) Vogliamo rispondere alla seguente domanda: \n",
        "  <h2><center>Quanto guadagnerá Giada se ha 25 anni?</center>\n",
        "\n",
        "  Vediamo chiaramente che all'aumentare dell'età aumenta il guadagno e ad occhio possiamo dire che Giada guadagnerà intorno ai 1180 euro. Matematicamente ci stiamo chiedendo il valore di Y (salario di giada) conoscendo la sua età (X1=25 anni) e i due parametri $w_0$ e $w_1$ (ottenuti nello step 1)\n",
        "\n",
        "Andremo a risolvere il sopra citato problema usando la libreria [scikit-learn](https://scikit-learn.org/stable/). In particolare ci focalizzero sulla Regressione lineare.\n",
        "\n",
        "\n"
      ]
    },
    {
      "cell_type": "markdown",
      "metadata": {
        "id": "5NBI8v1_edYv"
      },
      "source": [
        "### Scikit-Learn Regressione Lineare\n",
        "Dobbiamo capire come scrivere il seguente problema usando la libreria scikit-learn.\n",
        "\n",
        "*  [Linear Model Regression Descrizione]( https://scikit-learn.org/stable/modules/linear_model.html)\n",
        "* [Scikit-Learn Linear Regression Documentazione](https://scikit-learn.org/stable/modules/generated/sklearn.linear_model.LinearRegression.html)\n",
        "\n",
        "<h2><center>$Y = w_0*1 + w_1*X_1 + w_2*X_2 + ... w_N*X_N$</center></h2>\n",
        "Dove $X_0, X_1 ... X_N$ rappresentano gli input, nel nostro caso abbiamo solo l`etá ma avremmo potuto avere anche altri valore come il numero di ore di lavoro etc ..\n",
        "Quindi nel nostro caso avremo $X_1,X_2 ...X_N =0$ e $X_1$ (sarebbe l`etá).\n",
        "Quindi la sopra descritta equazione diventa\n",
        "<h2><center>$Y = w_0*1 + w_1*X_1$</center></h2>"
      ]
    },
    {
      "cell_type": "markdown",
      "metadata": {
        "id": "n5YeNhipelEF"
      },
      "source": [
        "\n",
        "### Creiamo il dataset usando numpy\n",
        "Cominciamo importando entrable le librerie scikit-learn e numpy. Sucessivamente andiamo a scrivere il dataset creato usando numpy."
      ]
    },
    {
      "cell_type": "code",
      "metadata": {
        "id": "XcVmPClBvQc7",
        "colab": {
          "base_uri": "https://localhost:8080/"
        },
        "outputId": "bd5cd1a0-d018-4423-c037-2d1cde2f0b88"
      },
      "source": [
        "# Installare libreria se non installata\n",
        "!pip install scikit-learn"
      ],
      "execution_count": 1,
      "outputs": [
        {
          "output_type": "stream",
          "name": "stdout",
          "text": [
            "Requirement already satisfied: scikit-learn in /usr/local/lib/python3.7/dist-packages (0.22.2.post1)\n",
            "Requirement already satisfied: numpy>=1.11.0 in /usr/local/lib/python3.7/dist-packages (from scikit-learn) (1.19.5)\n",
            "Requirement already satisfied: joblib>=0.11 in /usr/local/lib/python3.7/dist-packages (from scikit-learn) (1.0.1)\n",
            "Requirement already satisfied: scipy>=0.17.0 in /usr/local/lib/python3.7/dist-packages (from scikit-learn) (1.4.1)\n"
          ]
        }
      ]
    },
    {
      "cell_type": "code",
      "metadata": {
        "id": "OPrvcg8r-YmU",
        "colab": {
          "base_uri": "https://localhost:8080/"
        },
        "outputId": "e0c87764-7f50-4b5c-e810-31ca342cd7d3"
      },
      "source": [
        "#--------------- Importiamo le librerie ---------------------\n",
        "from sklearn import linear_model  # dalla libreria sklearn importa la classe / funzione chi si chiama linear-model\n",
        "import numpy as np\n",
        "# -----------------------------------------------------------\n",
        "\n",
        "#------------- Creiamo il dataset usando numpy --------------\n",
        "'''\n",
        "Y = Salario al mese in euro\n",
        "X1 = Età del lavoratore\n",
        "Equazione = Y = b + a*X --> Y = w0 + w1*X1\n",
        "1) Marco:    Y=1100   X1=19  Y=w0*1+w1*X1 --> 1100 = w0*1 + w1*19\n",
        "2) Daniele:  Y=1150   X1=21  Y=w0*1+w1*X1 --> 1150 = w0*1 + w1*21\n",
        "3) Davide:   Y=1155   X1=22  Y=w0*1+w1*X1 --> 1155 = w0*1 + w1*22 \n",
        "4) Marta:    Y=1170   X1=23  Y=w0*1+w1*X1 --> 1170 = w0*1 + w1*23\n",
        "6) Alessia:  Y=1200   X1=26  Y=w0*1+w1*X1 --> 1200 = w0*1 + w1*26\n",
        "9) Stella:   Y=1750   X1=33  Y=w0*1+w1*X1 --> 1750 = w0*1 + w1*33\n",
        "10) Chiara   Y=1640   X1=29  Y=w0*1+w1*X1 --> 1640 = w0*1 + w1*29\n",
        "'''\n",
        "X= np.array([[1,19],[1,21], [1,22], [1,23], [1,26], [1,33],[1,29]])\n",
        "Y= np.array([[1100],[1150],[1155],[1170],[1200],[1750],[1640]])\n",
        "#Y= np.array([1100,1150,1155,1170,1200,1750,1640])\n",
        "print(\"X input data: \\n\",X, X.shape) \n",
        "print(\"Y output data: \\n\",Y, Y.shape)\n",
        "#------------------------------------------------------------\n",
        "\n"
      ],
      "execution_count": 2,
      "outputs": [
        {
          "output_type": "stream",
          "name": "stdout",
          "text": [
            "X input data: \n",
            " [[ 1 19]\n",
            " [ 1 21]\n",
            " [ 1 22]\n",
            " [ 1 23]\n",
            " [ 1 26]\n",
            " [ 1 33]\n",
            " [ 1 29]] (7, 2)\n",
            "Y output data: \n",
            " [[1100]\n",
            " [1150]\n",
            " [1155]\n",
            " [1170]\n",
            " [1200]\n",
            " [1750]\n",
            " [1640]] (7, 1)\n"
          ]
        }
      ]
    },
    {
      "cell_type": "markdown",
      "metadata": {
        "id": "0D1sdbcY6WqA"
      },
      "source": [
        "#### Implementazione Numpy Linear Regression Closed form solution"
      ]
    },
    {
      "cell_type": "code",
      "metadata": {
        "id": "-NiUcgh9xON8",
        "colab": {
          "base_uri": "https://localhost:8080/"
        },
        "outputId": "1e172256-4334-477d-9345-b214e70654d5"
      },
      "source": [
        "# Soluzione Closed form solution Numpy\n",
        "W = np.matmul( np.matmul( np.linalg.inv( np.matmul( X.T, X ) ), X.T ), Y)  # somme e dei prodotti\n",
        "#W = (XT*X)^-1XTY\n",
        "\n",
        "Y_hat = np.matmul(X,W)\n",
        "\n",
        "# Mean Absolute Error Metrica\n",
        "Err = np.sum( np.abs( Y_hat - Y ) ) / Y.shape[0]\n",
        "ErrMAE = np.mean( np.abs( Y_hat - Y ) ) \n",
        "\n",
        "# Mean Square Error\n",
        "ErrMSE = np.mean( ( Y_hat - Y )**2 ) \n",
        "\n",
        "# Root mean square error\n",
        "ErrRMSE = np.sqrt( np.mean( ( Y_hat - Y )**2 ) )\n",
        "\n",
        "print(ErrMAE,ErrMSE,ErrRMSE)\n",
        "print(f\"W: %s\"%(W))"
      ],
      "execution_count": 4,
      "outputs": [
        {
          "output_type": "stream",
          "name": "stdout",
          "text": [
            "69.57339320797112 7723.424782486669 87.88301760002707\n",
            "W: [[56.21316306]\n",
            " [50.70235756]]\n"
          ]
        }
      ]
    },
    {
      "cell_type": "markdown",
      "metadata": {
        "id": "vyfHCqyWLJ7L"
      },
      "source": [
        "### Implementazione Regressione Lineare scikit-learn"
      ]
    },
    {
      "cell_type": "code",
      "metadata": {
        "id": "k4w-qhXoLRbi",
        "colab": {
          "base_uri": "https://localhost:8080/"
        },
        "outputId": "822678c7-a04a-4908-f6c7-03c35ac4cedc"
      },
      "source": [
        "# fit_intercept = False significa che dovremmo manualmente inseririe 1 se vogliamo estrarre il parametro b\n",
        "reg = linear_model.LinearRegression(fit_intercept=False, normalize=False)\n",
        "reg.fit(X, Y)\n",
        "\n",
        "print('w0 and w1 ', reg.coef_)\n",
        "w0 = reg.coef_[0][0]\n",
        "w1 = reg.coef_[0][1]\n",
        "\n",
        "# Quanto guadagnerá Giada se ha 25 anni?\n",
        "X_test = np.array([[1,25]]) # creiamo l'input vector\n",
        "Y_pred = reg.predict(X_test) # prediciamo il guandagno\n",
        "Y_pred_ = w0*X_test[0][0] + w1*X_test[0][1] # Y_pred_ = w0*1 + w1*25\n",
        "print('Giada gudagnerà al mese: ', Y_pred, Y_pred_)\n"
      ],
      "execution_count": 5,
      "outputs": [
        {
          "output_type": "stream",
          "name": "stdout",
          "text": [
            "w0 and w1  [[56.21316306 50.70235756]]\n",
            "Giada gudagnerà al mese:  [[1323.77210216]] 1323.7721021610998\n"
          ]
        }
      ]
    },
    {
      "cell_type": "markdown",
      "metadata": {
        "id": "Uv4e_IRchuED"
      },
      "source": [
        "### Implementazione Regressione Lineare scikit-learn Classi"
      ]
    },
    {
      "cell_type": "code",
      "metadata": {
        "id": "ymUpuf94NbSe",
        "colab": {
          "base_uri": "https://localhost:8080/",
          "height": 70
        },
        "outputId": "41fd056b-e64f-4300-c623-da24ca42bb1d"
      },
      "source": [
        "from sklearn import linear_model\n",
        "import numpy as np\n",
        "# Implementazione usando fit_intercept=False , piú vicina alla logica matematica\n",
        "class Dataset:\n",
        "    def create(self):\n",
        "      X= np.array([[1,19],[1,21], [1,22], [1,23], [1,26], [1,33],[1,29]])\n",
        "      Y= np.array([[1100],[1150],[1155],[1170],[1200],[1750],[1640]])\n",
        "      return X,Y\n",
        "\n",
        "class LinearRegressor:\n",
        "    def __init__(self):\n",
        "      # Inizializzazione\n",
        "      self.reg = linear_model.LinearRegression(fit_intercept=False, normalize=False)\n",
        "    def train(self,X,Y):\n",
        "      # Estimate w0, w1 .. wN\n",
        "      self.reg.fit(X,Y)\n",
        "      print(self.reg.intercept_) # Questo deve essere 0 se fit_intercept=false\n",
        "      return self.reg.coef_\n",
        "    def predict(self,X_test,coef_):\n",
        "      Y_pred = self.reg.predict(X_test)\n",
        "      #Y_pred = np.dot(coef_, X_test.T)\n",
        "      return Y_pred\n",
        "\n",
        "myDataset=Dataset()\n",
        "X,Y = myDataset.create()\n",
        "myLinearRegressor = LinearRegressor()\n",
        "coef_ = myLinearRegressor.train(X,Y)\n",
        "print(coef_)\n",
        "# Set input Giada 25 anni Y=w0*1 + w1*X1 --> 1 X1=25 \n",
        "X_test = np.array([[1,25]])  \n",
        "Y_pred = myLinearRegressor.predict(X_test,coef_)\n",
        "print(Y_pred)\n",
        "\n"
      ],
      "execution_count": null,
      "outputs": [
        {
          "output_type": "stream",
          "text": [
            "0.0\n",
            "[[56.21316306 50.70235756]]\n",
            "[[1323.77210216]]\n"
          ],
          "name": "stdout"
        }
      ]
    },
    {
      "cell_type": "markdown",
      "metadata": {
        "id": "gKkTmeT1T3Zu"
      },
      "source": [
        "Nella sezione EXTRA sono presenti:\n",
        "* Implementazione usando fit_intercept=True. Questa implementazione permette di semplicare la scrittura degli input in quanto permette di omettere l'1\n",
        "* Implementazione usando la libreria numpy del Regressore lineare (Least Square-Metodo dei Minimi quadrati). Implementazione piú matematica.\n",
        "\n",
        "<h3>Come doveremmo modificare la creazione dei dati se oltre all'etá della persona avessimo piú informazioni? </h3>\n",
        "Per esempio se conoscessimo anche:\n",
        "\n",
        "* il numero di ore mensili di lavoro\n",
        "* indice di esperienza da 1 a 10\n"
      ]
    },
    {
      "cell_type": "markdown",
      "metadata": {
        "id": "wXvGC3itfpvx"
      },
      "source": [
        "## Regressione Lineare: Esempio 2: Stima del salario mensile di un individuo prima basandoci sull'etá, sul numero di ore di lavoro mensili e sull'indice (1-10) di esperienza della persona."
      ]
    },
    {
      "cell_type": "markdown",
      "metadata": {
        "id": "-RP-9x7eAC7R"
      },
      "source": [
        "### Spiegazione del Problema\n",
        "\n",
        "Il dataset diventerebbe:\n",
        "\n",
        "```\n",
        "Y = Salario al mese in euro\n",
        "X1 = Età del lavoratore\n",
        "X2 = Numero di ore mensili di lavoro\n",
        "X3 = Indice di esperienza da 1 a 10\n",
        "1) Marco:    Y=1100   X1=19   X2=150  X3=6 \n",
        "2) Daniele:  Y=1150   X1=21   X2=135  X3=8\n",
        "3) Davide:   Y=1155   X1=22   X2=160  X3=5\n",
        "4) Marta:    Y=1170   X1=23   X2=158  X3=7\n",
        "6) Alessia:  Y=1200   X1=26   X2=155  X3=7\n",
        "9) Stella:   Y=1750   X1=33   X2=120  X3=10\n",
        "10) Chiara   Y=1640   X1=29   X2=130  X3=9\n",
        "```\n",
        "L' equazione della regressione lineare diventa:\n",
        "<h2><center>$Y = w_0*1 + w_1*X1 + w_2*X2 + w_3*X3$</center></h2>\n",
        "L'obbiettivo é stimare i parametri $w_0,w_1,w_2,w_3$ partendo da un dataset $(X_1,X_2,X_3,Y)$ come il sopra elencato.\n",
        "\n",
        "  <h2><center>Quanto guadagnerá Giada se ha 25 anni, lavora 130 ore al mese ed ha un indice di esperienza uguale a 8?</center>\n",
        "\n",
        "\n",
        "\n",
        "  "
      ]
    },
    {
      "cell_type": "markdown",
      "metadata": {
        "id": "KCdo3JwnFT5w"
      },
      "source": [
        "### Implementazione"
      ]
    },
    {
      "cell_type": "code",
      "metadata": {
        "id": "ZfT1JAe37vMG"
      },
      "source": [
        "# 1. Avere i dati in formato numpy array\n",
        "# 2. Sceliere il modello --> modello = linear_model.LinearRegression()\n",
        "# 3. Cacolare i coefficienti --> Allenare il  modello --> modello.fit() --> modello.coef_ , modello.intercept_\n",
        "# 4. Predirre usando nuovi dati"
      ],
      "execution_count": null,
      "outputs": []
    },
    {
      "cell_type": "code",
      "metadata": {
        "colab": {
          "base_uri": "https://localhost:8080/"
        },
        "id": "0NjsV2wS8RS8",
        "outputId": "834142f1-b61a-43b2-e6eb-4b7dc9fb3e61"
      },
      "source": [
        "from sklearn import linear_model\n",
        "from sklearn.ensemble import RandomForestRegressor\n",
        "from sklearn import svm\n",
        "from sklearn.metrics import mean_squared_error\n",
        "\n",
        "#Y = np.array( [[1100,1150,1155,1170,1200,1750,1640]] ).T # 7x1\n",
        "#Y = Y.reshape(7,1)\n",
        "Y = np.array( [[1100],[1150],[1155],[1170],[1200],[1750],[1640]] ) # 7x1\n",
        "X = np.array( [[19,150,6],[21,135,8],[22,160,5],[23,158,7],[26,155,7],[33,120,10],[29,130,9]] ) # 7x1\n",
        "\n",
        "# Scelta del modello\n",
        "# reg = linear_model.LinearRegression(fit_intercept=True)\n",
        "# reg = linear_model.Ridge() \n",
        "# reg = RandomForestRegressor()\n",
        "# reg = svm.SVR()\n",
        "\n",
        "# Stima i parametri migliori\n",
        "reg.fit(X,Y)\n",
        "\n",
        "# Prendere i parametri\n",
        "#print(reg.coef_, reg.intercept_)\n",
        "#w0 = reg.intercept_\n",
        "#w1 = reg.coef_[0][0]\n",
        "#w2 = reg.coef_[0][1]\n",
        "#w3 = reg.coef_[0][2]\n",
        "#print(w0,w1,w2,w3)\n",
        "#Y_hat = w0*1 +w1*42+w2*110+w3*4\n",
        "#print(\"Y_hat numpy: \" + str(Y_hat))\n",
        "\n",
        "# Compresione: Metrica Quale è il modello migliore? (Training/Test)\n",
        "Y_hat = reg.predict(X)\n",
        "\n",
        "rmse = np.sqrt( np.mean(( Y-Y_hat)**2) )\n",
        "rmse = np.sqrt( mean_squared_error(Y,Y_hat) )\n",
        "print(\"RMSE: \" + str( rmse) )\n",
        "\n",
        "# Voglio usare il modello allenato per predirre\n",
        "input = np.array( [[42,110,4 ]] )\n",
        "Y_hat = reg.predict( input )\n",
        "print(\"Y_hat sklearn: \" + str(Y_hat))"
      ],
      "execution_count": 11,
      "outputs": [
        {
          "output_type": "stream",
          "name": "stdout",
          "text": [
            "RMSE: 55.45796490333383\n",
            "Y_hat sklearn: [[2396.03692452]]\n"
          ]
        }
      ]
    },
    {
      "cell_type": "markdown",
      "metadata": {
        "id": "iXOvUZKWIHsc"
      },
      "source": [
        "### Classi esempio"
      ]
    },
    {
      "cell_type": "code",
      "metadata": {
        "id": "ek_vk6yQIJRQ"
      },
      "source": [
        "from sklearn import linear_model\n",
        "import numpy as np\n",
        "\n",
        "class model:\n",
        "  \n",
        "  def __init__(self):\n",
        "    # Qunado creo una classe automaticamente questa funzione viene eseguita\n",
        "    print(\"Modello Creato\")\n",
        "    self.reg = linear_model.LinearRegression(fit_intercept=True)\n",
        "  \n",
        "  def fit(self,X,Y):\n",
        "    print(\"Fit\")\n",
        "    self.reg.fit(X,Y)\n",
        "\n",
        "  def predict(self,X):\n",
        "    print(\"Predict\")\n",
        "    Y_hat = self.reg.predict(X)\n",
        "    return Y_hat\n",
        "\n",
        "Y = np.array( [[1100],[1150],[1155],[1170],[1200],[1750],[1640]] ) # 7x1\n",
        "X = np.array( [[19,150,6],[21,135,8],[22,160,5],[23,158,7],[26,155,7],[33,120,10],[29,130,9]] ) # 7x1\n",
        "\n",
        "m = model()\n",
        "m.fit(X,Y)\n",
        "m.predict(X)"
      ],
      "execution_count": null,
      "outputs": []
    },
    {
      "cell_type": "markdown",
      "metadata": {
        "id": "9bDC-kI8fytD"
      },
      "source": [
        "### Creiamo il dataset usando numpy"
      ]
    },
    {
      "cell_type": "code",
      "metadata": {
        "id": "2pVoRtRkABIO",
        "colab": {
          "base_uri": "https://localhost:8080/",
          "height": 297
        },
        "outputId": "054b2c82-6a9f-4e4e-891d-58e2d17e468f"
      },
      "source": [
        "#--------------- Importiamo le librerie ---------------------\n",
        "from sklearn import linear_model\n",
        "import numpy as np\n",
        "# -----------------------------------------------------------\n",
        "\n",
        "#------------- Creiamo il dataset usando numpy --------------\n",
        "'''\n",
        "Y = Salario al mese in euro\n",
        "X1 = Età del lavoratore\n",
        "X2 = Numero di ore mensili di lavoro\n",
        "X3 = Indice di esperienza da 1 a 10\n",
        "Equazione = Y = w0 + w1*X1 + w2*X2 + w3*X3\n",
        "1) Marco:    Y=1100   X1=19   X2=150   X3=6    Y= w0*1 + w1*X1 + w2*X2 + w3*X3 --> 1100 = w0*1 + w1*19 + w2*150 + w3*6\n",
        "2) Daniele:  Y=1150   X1=21   X2=135   X3=8    Y= w0*1 + w1*X1 + w2*X2 + w3*X3 --> 1100 = w0*1 + w1*21 + w2*135 + w3*8\n",
        "3) Davide:   Y=1155   X1=22   X2=160   X3=5    Y= w0*1 + w1*X1 + w2*X2 + w3*X3 --> 1100 = w0*1 + w1*22 + w2*160 + w3*5 \n",
        "4) Marta:    Y=1170   X1=23   X2=158   X3=7    Y= w0*1 + w1*X1 + w2*X2 + w3*X3 --> 1100 = w0*1 + w1*23 + w2*158 + w3*7\n",
        "6) Alessia:  Y=1200   X1=26   X2=155   X3=7    Y= w0*1 + w1*X1 + w2*X2 + w3*X3 --> 1100 = w0*1 + w1*26 + w2*155 + w3*7\n",
        "9) Stella:   Y=1750   X1=33   X2=120   X3=10   Y= w0*1 + w1*X1 + w2*X2 + w3*X3 --> 1100 = w0*1 + w1*33 + w2*120 + w3*10\n",
        "10) Chiara   Y=1640   X1=29   X2=130   x3=9    Y= w0*1 + w1*X1 + w2*X2 + w3*X3 --> 1100 = w0*1 + w1*29 + w2*130 + w3*9\n",
        "'''\n",
        "\n",
        "X= np.array([[1,19,150,6],[1,21,135,8], [1,22,160,5], [1,23,158,7], [1,26,155,7], [1,33,120,10],[1,29,130,9]])\n",
        "Y= np.array([[1100],[1150],[1155],[1170],[1200],[1750],[1640]])\n",
        "#Y= np.array([1100,1150,1155,1170,1200,1750,1640])\n",
        "print(\"X input data: \\n\",X, X.shape) \n",
        "print(\"Y output data: \\n\",Y, Y.shape)\n",
        "#------------------------------------------------------------"
      ],
      "execution_count": null,
      "outputs": [
        {
          "output_type": "stream",
          "text": [
            "X input data: \n",
            " [[  1  19 150   6]\n",
            " [  1  21 135   8]\n",
            " [  1  22 160   5]\n",
            " [  1  23 158   7]\n",
            " [  1  26 155   7]\n",
            " [  1  33 120  10]\n",
            " [  1  29 130   9]] (7, 4)\n",
            "Y output data: \n",
            " [[1100]\n",
            " [1150]\n",
            " [1155]\n",
            " [1170]\n",
            " [1200]\n",
            " [1750]\n",
            " [1640]] (7, 1)\n"
          ],
          "name": "stdout"
        }
      ]
    },
    {
      "cell_type": "markdown",
      "metadata": {
        "id": "g9lsyvRciv37"
      },
      "source": [
        "### Implementazione Regressione Lineare scikit-learn"
      ]
    },
    {
      "cell_type": "code",
      "metadata": {
        "id": "4byQg8Z2XTlk",
        "colab": {
          "base_uri": "https://localhost:8080/",
          "height": 52
        },
        "outputId": "788b2ee8-ce21-4229-aab6-659f27e920a4"
      },
      "source": [
        "# fit_intercept = False significa che dovremmo manualmente inseririe 1 se vogliamo estrarre il parametro b\n",
        "reg = linear_model.LinearRegression(fit_intercept=False, normalize=False)\n",
        "reg.fit(X, Y)\n",
        "\n",
        "print('w0, w1, w2, w3 ', reg.coef_)\n",
        "w0 = reg.coef_[0][0]\n",
        "w1 = reg.coef_[0][1]\n",
        "w2 = reg.coef_[0][2]\n",
        "w3 = reg.coef_[0][3]\n",
        "\n",
        "# Quanto guadagnerá Giada se ha X1=25 anni, lavora X2=130 ore al mese e ha un\n",
        "# indice di esperienza X3=8 ?\n",
        "X_test = np.array([[1,25,130,8]]) # creiamo l'input vector\n",
        "Y_pred = reg.predict(X_test) # prediciamo il guandagno\n",
        "Y_pred_ = w0*X_test[0][0] + w1*X_test[0][1] + w2*X_test[0][2] + w3*X_test[0][3] # Y_pred_ = w0*1 + w1*25 + w2*130 + w3*8\n",
        "print('Giada gudagnerà al mese: ', Y_pred, Y_pred_)"
      ],
      "execution_count": null,
      "outputs": [
        {
          "output_type": "stream",
          "text": [
            "w0, w1, w2, w3  [[1989.84032486   43.44020785   -9.68682336  -48.36000551]]\n",
            "Giada gudagnerà al mese:  [[1429.67844041]] 1429.6784404143273\n"
          ],
          "name": "stdout"
        }
      ]
    },
    {
      "cell_type": "markdown",
      "metadata": {
        "id": "c5tx_AkEiykB"
      },
      "source": [
        "### Implementazione Regressione Lineare scikit-learn Classi"
      ]
    },
    {
      "cell_type": "code",
      "metadata": {
        "id": "avD2Cu_gZLn_",
        "colab": {
          "base_uri": "https://localhost:8080/",
          "height": 70
        },
        "outputId": "4b45c7f5-580a-4046-c857-1d5c110ffffa"
      },
      "source": [
        "from sklearn import linear_model\n",
        "import numpy as np\n",
        "# Implementazione usando fit_intercept=False , piú vicina alla logica matematica\n",
        "class Dataset:\n",
        "    def create(self):\n",
        "      X= np.array([[1,19,150,6],[1,21,135,8], [1,22,160,5], [1,23,158,7], [1,26,155,7], [1,33,120,10],[1,29,130,9]])\n",
        "      Y= np.array([[1100],[1150],[1155],[1170],[1200],[1750],[1640]])\n",
        "      return X,Y\n",
        "\n",
        "class LinearRegressor:\n",
        "    def __init__(self):\n",
        "      # Inizializzazione\n",
        "      self.reg = linear_model.LinearRegression(fit_intercept=False, normalize=False)\n",
        "    def train(self,X,Y):\n",
        "      # Estimate w0, w1 .. wN\n",
        "      self.reg.fit(X,Y)\n",
        "      print(self.reg.intercept_) # Questo deve essere 0 se fit_intercept=false\n",
        "      return self.reg.coef_\n",
        "    def predict(self,X_test,coef_):\n",
        "      Y_pred = self.reg.predict(X_test)\n",
        "      #Y_pred = np.dot(coef_, X_test.T)\n",
        "      return Y_pred\n",
        "\n",
        "myDataset=Dataset()\n",
        "X,Y = myDataset.create()\n",
        "myLinearRegressor = LinearRegressor()\n",
        "coef_ = myLinearRegressor.train(X,Y)\n",
        "print(coef_)\n",
        "# Set input Giada 25 anni Y=w0*1 + w1*X1 --> 1 X1=25 \n",
        "X_test = np.array([[1,25,130,8]])  \n",
        "Y_pred = myLinearRegressor.predict(X_test,coef_)\n",
        "print(Y_pred)"
      ],
      "execution_count": null,
      "outputs": [
        {
          "output_type": "stream",
          "text": [
            "0.0\n",
            "[[1989.84032486   43.44020785   -9.68682336  -48.36000551]]\n",
            "[[1429.67844041]]\n"
          ],
          "name": "stdout"
        }
      ]
    },
    {
      "cell_type": "markdown",
      "metadata": {
        "id": "DR7WnhOejLVj"
      },
      "source": [
        "## Regressione Lineare Esempio 3: Utilizzeremo la regressione lineare per approssimare delle curve nello spazio 2D."
      ]
    },
    {
      "cell_type": "markdown",
      "metadata": {
        "id": "CYkMqHCKhIEw"
      },
      "source": [
        "### Visualizzare una curva nello spazio 2D"
      ]
    },
    {
      "cell_type": "code",
      "metadata": {
        "id": "M6sQZe8bjKnM",
        "colab": {
          "base_uri": "https://localhost:8080/"
        },
        "outputId": "92725f67-0b97-4b45-eb28-f716dba1e438"
      },
      "source": [
        "import matplotlib.pyplot as plt\n",
        "from plotly import graph_objects as go\n",
        "import numpy as np\n",
        "\n",
        "# Creiamo gli input\n",
        "X = np.linspace(0,10,100)\n",
        "Y = np.sin(2*X)*np.exp(-0.5*X) + 0.2*np.cos(X)\n",
        "\n",
        "# Visualizzare\n",
        "#plt.plot(X,Y)\n",
        "#fig = go.Figure()\n",
        "#fig.add_trace( go.Scatter( x=X, y=Y ))\n",
        "#fig.update_layout(title_text=\"Graph\")\n",
        "#fig.show()\n",
        "\n",
        "# Estendiamo gli inputs per stimare funzioni piu' complesse\n",
        "XF = np.array([X,X**2,X**3,X**4,X**5,X**6,X**7,X**8]).T\n",
        "XI = X.reshape(-1,1)\n",
        "print(\"Input iniziale\", XI.shape)\n",
        "print(\"Input esteso\", XF.shape)"
      ],
      "execution_count": 57,
      "outputs": [
        {
          "output_type": "stream",
          "name": "stdout",
          "text": [
            "Input iniziale (100, 1)\n",
            "Input esteso (100, 8)\n"
          ]
        }
      ]
    },
    {
      "cell_type": "code",
      "metadata": {
        "colab": {
          "base_uri": "https://localhost:8080/"
        },
        "id": "8McxDpANJHyG",
        "outputId": "96a2ae9e-21d4-4dd6-a3c8-802c3608ab35"
      },
      "source": [
        "from sklearn import linear_model\n",
        "from sklearn.ensemble import RandomForestRegressor\n",
        "import numpy as np\n",
        "\n",
        "class model:\n",
        "  \n",
        "  def __init__(self):\n",
        "    # Qunado creo una classe automaticamente questa funzione viene eseguita\n",
        "    print(\"Modello Creato\")\n",
        "    self.reg = linear_model.LinearRegression(fit_intercept=True)\n",
        "    #self.reg = RandomForestRegressor()\n",
        "  \n",
        "  def fit(self,X,Y):\n",
        "    print(\"Fit\")\n",
        "    self.reg.fit(X,Y)\n",
        "\n",
        "  def predict(self,X):\n",
        "    print(\"Predict\")\n",
        "    Y_hat = self.reg.predict(X)\n",
        "    return Y_hat\n",
        "\n",
        "m = model()\n",
        "m.fit(XI,Y)\n",
        "Y_hat = m.predict(XI)"
      ],
      "execution_count": 67,
      "outputs": [
        {
          "output_type": "stream",
          "name": "stdout",
          "text": [
            "Modello Creato\n",
            "Fit\n",
            "Predict\n"
          ]
        }
      ]
    },
    {
      "cell_type": "code",
      "metadata": {
        "colab": {
          "base_uri": "https://localhost:8080/",
          "height": 542
        },
        "id": "66Vyt4ydM4qv",
        "outputId": "cb7d60c2-8c07-4cfd-cbb0-ffe1e3cb81b4"
      },
      "source": [
        "fig = go.Figure()\n",
        "fig.add_trace( go.Scatter( x=X, y=Y , name=\"Y\"))\n",
        "fig.add_trace( go.Scatter( x=X, y=Y_hat, name=\"Y_hat\" ))\n",
        "fig.update_layout(title_text=\"Graph\")\n",
        "fig.show()"
      ],
      "execution_count": 68,
      "outputs": [
        {
          "output_type": "display_data",
          "data": {
            "text/html": [
              "<html>\n",
              "<head><meta charset=\"utf-8\" /></head>\n",
              "<body>\n",
              "    <div>\n",
              "            <script src=\"https://cdnjs.cloudflare.com/ajax/libs/mathjax/2.7.5/MathJax.js?config=TeX-AMS-MML_SVG\"></script><script type=\"text/javascript\">if (window.MathJax) {MathJax.Hub.Config({SVG: {font: \"STIX-Web\"}});}</script>\n",
              "                <script type=\"text/javascript\">window.PlotlyConfig = {MathJaxConfig: 'local'};</script>\n",
              "        <script src=\"https://cdn.plot.ly/plotly-latest.min.js\"></script>    \n",
              "            <div id=\"3726a1c3-e52f-42b3-b119-2589b84ee7db\" class=\"plotly-graph-div\" style=\"height:525px; width:100%;\"></div>\n",
              "            <script type=\"text/javascript\">\n",
              "                \n",
              "                    window.PLOTLYENV=window.PLOTLYENV || {};\n",
              "                    \n",
              "                if (document.getElementById(\"3726a1c3-e52f-42b3-b119-2589b84ee7db\")) {\n",
              "                    Plotly.newPlot(\n",
              "                        '3726a1c3-e52f-42b3-b119-2589b84ee7db',\n",
              "                        [{\"name\": \"Y\", \"type\": \"scatter\", \"x\": [0.0, 0.10101010101010101, 0.20202020202020202, 0.30303030303030304, 0.40404040404040403, 0.5050505050505051, 0.6060606060606061, 0.7070707070707071, 0.8080808080808081, 0.9090909090909091, 1.0101010101010102, 1.1111111111111112, 1.2121212121212122, 1.3131313131313131, 1.4141414141414141, 1.5151515151515151, 1.6161616161616161, 1.7171717171717171, 1.8181818181818181, 1.9191919191919191, 2.0202020202020203, 2.121212121212121, 2.2222222222222223, 2.323232323232323, 2.4242424242424243, 2.525252525252525, 2.6262626262626263, 2.727272727272727, 2.8282828282828283, 2.929292929292929, 3.0303030303030303, 3.131313131313131, 3.2323232323232323, 3.3333333333333335, 3.4343434343434343, 3.5353535353535355, 3.6363636363636362, 3.7373737373737375, 3.8383838383838382, 3.9393939393939394, 4.040404040404041, 4.141414141414141, 4.242424242424242, 4.343434343434343, 4.444444444444445, 4.545454545454545, 4.646464646464646, 4.747474747474747, 4.848484848484849, 4.94949494949495, 5.05050505050505, 5.151515151515151, 5.252525252525253, 5.353535353535354, 5.454545454545454, 5.555555555555555, 5.656565656565657, 5.757575757575758, 5.858585858585858, 5.959595959595959, 6.0606060606060606, 6.161616161616162, 6.262626262626262, 6.363636363636363, 6.4646464646464645, 6.565656565656566, 6.666666666666667, 6.767676767676767, 6.8686868686868685, 6.96969696969697, 7.070707070707071, 7.171717171717171, 7.2727272727272725, 7.373737373737374, 7.474747474747475, 7.575757575757575, 7.6767676767676765, 7.777777777777778, 7.878787878787879, 7.979797979797979, 8.080808080808081, 8.181818181818182, 8.282828282828282, 8.383838383838384, 8.484848484848484, 8.585858585858587, 8.686868686868687, 8.787878787878787, 8.88888888888889, 8.98989898989899, 9.09090909090909, 9.191919191919192, 9.292929292929292, 9.393939393939394, 9.494949494949495, 9.595959595959595, 9.696969696969697, 9.797979797979798, 9.8989898989899, 10.0], \"y\": [0.2, 0.3897472883231774, 0.5512982257882051, 0.6804336380894789, 0.774613122827952, 0.8329217057305811, 0.8559553860059702, 0.84565610387403, 0.8051077245711649, 0.7383051164359276, 0.6499083417387854, 0.5449934322964365, 0.4288102569625596, 0.30655668469128183, 0.18317669113314056, 0.06318833684272657, -0.04945425238566349, -0.15146256644289446, -0.2402784333579017, -0.3141027402528693, -0.37189049499734195, -0.4133157259900576, -0.43871061739085704, -0.44898390926684106, -0.4455239562959037, -0.43009194571366804, -0.40471064545562735, -0.37155371507285995, -0.3328400989996927, -0.2907373720496837, -0.2472771605136294, -0.20428495897781, -0.1633258415060038, -0.12566676171566105, -0.09225538097548518, -0.06371468387872295, -0.040352056092164384, -0.0221810264880207, -0.008953521992270341, -0.0002002529117843821, 0.004723263630522376, 0.006587531123216972, 0.006239134997232568, 0.004552226606221066, 0.0023833523854364033, 0.0005312304033339849, -0.00029727955050594564, 0.0004858600324887533, 0.0033304642479160228, 0.008536427870952892, 0.016249536594513385, 0.02646430200371326, 0.03903308992988749, 0.053680619806809465, 0.0700227764005521, 0.08758859508612994, 0.1058442556569092, 0.12421794341661133, 0.1421245043001778, 0.15898892601600698, 0.17426781185864051, 0.1874681696156086, 0.1981630065233215, 0.2060033944334919, 0.21072683973722628, 0.2121619534982533, 0.21022956303801255, 0.20494053242230065, 0.19639066268275396, 0.1847531211736859, 0.1702689024304378, 0.15323585059752895, 0.1339967772725285, 0.11292719065300236, 0.0904231150446361, 0.06688942744829093, 0.042729073760031794, 0.018333454886393336, -0.005925803448272416, -0.02970356068149928, -0.05268628940155042, -0.07459562897585534, -0.09519043419912121, -0.11426744065280692, -0.13166071012753197, -0.14724004981507463, -0.16090861790719366, -0.17259993611149968, -0.18227452720109943, -0.18991638419641713, -0.1955294585453416, -0.19913432931740688, -0.20076518565567217, -0.20046722225361385, -0.1982945141084731, -0.1943084037952746, -0.18857640338554685, -0.18117158506922343, -0.17217241045560355, -0.16166292910282096]}, {\"name\": \"Y_hat\", \"type\": \"scatter\", \"x\": [0.0, 0.10101010101010101, 0.20202020202020202, 0.30303030303030304, 0.40404040404040403, 0.5050505050505051, 0.6060606060606061, 0.7070707070707071, 0.8080808080808081, 0.9090909090909091, 1.0101010101010102, 1.1111111111111112, 1.2121212121212122, 1.3131313131313131, 1.4141414141414141, 1.5151515151515151, 1.6161616161616161, 1.7171717171717171, 1.8181818181818181, 1.9191919191919191, 2.0202020202020203, 2.121212121212121, 2.2222222222222223, 2.323232323232323, 2.4242424242424243, 2.525252525252525, 2.6262626262626263, 2.727272727272727, 2.8282828282828283, 2.929292929292929, 3.0303030303030303, 3.131313131313131, 3.2323232323232323, 3.3333333333333335, 3.4343434343434343, 3.5353535353535355, 3.6363636363636362, 3.7373737373737375, 3.8383838383838382, 3.9393939393939394, 4.040404040404041, 4.141414141414141, 4.242424242424242, 4.343434343434343, 4.444444444444445, 4.545454545454545, 4.646464646464646, 4.747474747474747, 4.848484848484849, 4.94949494949495, 5.05050505050505, 5.151515151515151, 5.252525252525253, 5.353535353535354, 5.454545454545454, 5.555555555555555, 5.656565656565657, 5.757575757575758, 5.858585858585858, 5.959595959595959, 6.0606060606060606, 6.161616161616162, 6.262626262626262, 6.363636363636363, 6.4646464646464645, 6.565656565656566, 6.666666666666667, 6.767676767676767, 6.8686868686868685, 6.96969696969697, 7.070707070707071, 7.171717171717171, 7.2727272727272725, 7.373737373737374, 7.474747474747475, 7.575757575757575, 7.6767676767676765, 7.777777777777778, 7.878787878787879, 7.979797979797979, 8.080808080808081, 8.181818181818182, 8.282828282828282, 8.383838383838384, 8.484848484848484, 8.585858585858587, 8.686868686868687, 8.787878787878787, 8.88888888888889, 8.98989898989899, 9.09090909090909, 9.191919191919192, 9.292929292929292, 9.393939393939394, 9.494949494949495, 9.595959595959595, 9.696969696969697, 9.797979797979798, 9.8989898989899, 10.0], \"y\": [0.22463349713639988, 0.22081563814782926, 0.2169977791592586, 0.213179920170688, 0.20936206118211736, 0.20554420219354674, 0.2017263432049761, 0.19790848421640547, 0.19409062522783485, 0.19027276623926423, 0.18645490725069358, 0.18263704826212296, 0.17881918927355234, 0.17500133028498172, 0.1711834712964111, 0.16736561230784044, 0.16354775331926982, 0.15972989433069917, 0.15591203534212855, 0.15209417635355793, 0.1482763173649873, 0.1444584583764167, 0.14064059938784604, 0.13682274039927544, 0.13300488141070477, 0.12918702242213417, 0.12536916343356352, 0.12155130444499292, 0.11773344545642228, 0.11391558646785166, 0.11009772747928102, 0.1062798684907104, 0.10246200950213977, 0.09864415051356912, 0.0948262915249985, 0.09100843253642787, 0.08719057354785725, 0.0833727145592866, 0.07955485557071598, 0.07573699658214536, 0.07191913759357471, 0.06810127860500412, 0.06428341961643347, 0.06046556062786285, 0.0566477016392922, 0.0528298426507216, 0.04901198366215098, 0.04519412467358033, 0.04137626568500968, 0.03755840669643906, 0.03374054770786847, 0.02992268871929782, 0.026104829730727197, 0.022286970742156548, 0.018469111753585954, 0.014651252765015305, 0.010833393776444683, 0.007015534787874034, 0.00319767579930344, -0.0006201831892672094, -0.004438042177837831, -0.00825590116640848, -0.012073760154979074, -0.015891619143549723, -0.019709478132120345, -0.023527337120690994, -0.027345196109261644, -0.03116305509783221, -0.03498091408640289, -0.03879877307497351, -0.04261663206354413, -0.04643449105211475, -0.05025235004068537, -0.054070209029255994, -0.05788806801782667, -0.06170592700639724, -0.06552378599496791, -0.06934164498353854, -0.07315950397210916, -0.07697736296067978, -0.08079522194925046, -0.08461308093782102, -0.08843093992639164, -0.09224879891496232, -0.09606665790353294, -0.09988451689210356, -0.10370237588067419, -0.10752023486924481, -0.11133809385781548, -0.11515595284638605, -0.11897381183495667, -0.12279167082352735, -0.12660952981209792, -0.1304273888006686, -0.1342452477892392, -0.13806310677780984, -0.1418809657663805, -0.14569882475495108, -0.14951668374352176, -0.15333454273209238]}],\n",
              "                        {\"template\": {\"data\": {\"bar\": [{\"error_x\": {\"color\": \"#2a3f5f\"}, \"error_y\": {\"color\": \"#2a3f5f\"}, \"marker\": {\"line\": {\"color\": \"#E5ECF6\", \"width\": 0.5}}, \"type\": \"bar\"}], \"barpolar\": [{\"marker\": {\"line\": {\"color\": \"#E5ECF6\", \"width\": 0.5}}, \"type\": \"barpolar\"}], \"carpet\": [{\"aaxis\": {\"endlinecolor\": \"#2a3f5f\", \"gridcolor\": \"white\", \"linecolor\": \"white\", \"minorgridcolor\": \"white\", \"startlinecolor\": \"#2a3f5f\"}, \"baxis\": {\"endlinecolor\": \"#2a3f5f\", \"gridcolor\": \"white\", \"linecolor\": \"white\", \"minorgridcolor\": \"white\", \"startlinecolor\": \"#2a3f5f\"}, \"type\": \"carpet\"}], \"choropleth\": [{\"colorbar\": {\"outlinewidth\": 0, \"ticks\": \"\"}, \"type\": \"choropleth\"}], \"contour\": [{\"colorbar\": {\"outlinewidth\": 0, \"ticks\": \"\"}, \"colorscale\": [[0.0, \"#0d0887\"], [0.1111111111111111, \"#46039f\"], [0.2222222222222222, \"#7201a8\"], [0.3333333333333333, \"#9c179e\"], [0.4444444444444444, \"#bd3786\"], [0.5555555555555556, \"#d8576b\"], [0.6666666666666666, \"#ed7953\"], [0.7777777777777778, \"#fb9f3a\"], [0.8888888888888888, \"#fdca26\"], [1.0, \"#f0f921\"]], \"type\": \"contour\"}], \"contourcarpet\": [{\"colorbar\": {\"outlinewidth\": 0, \"ticks\": \"\"}, \"type\": \"contourcarpet\"}], \"heatmap\": [{\"colorbar\": {\"outlinewidth\": 0, \"ticks\": \"\"}, \"colorscale\": [[0.0, \"#0d0887\"], [0.1111111111111111, \"#46039f\"], [0.2222222222222222, \"#7201a8\"], [0.3333333333333333, \"#9c179e\"], [0.4444444444444444, \"#bd3786\"], [0.5555555555555556, \"#d8576b\"], [0.6666666666666666, \"#ed7953\"], [0.7777777777777778, \"#fb9f3a\"], [0.8888888888888888, \"#fdca26\"], [1.0, \"#f0f921\"]], \"type\": \"heatmap\"}], \"heatmapgl\": [{\"colorbar\": {\"outlinewidth\": 0, \"ticks\": \"\"}, \"colorscale\": [[0.0, \"#0d0887\"], [0.1111111111111111, \"#46039f\"], [0.2222222222222222, \"#7201a8\"], [0.3333333333333333, \"#9c179e\"], [0.4444444444444444, \"#bd3786\"], [0.5555555555555556, \"#d8576b\"], [0.6666666666666666, \"#ed7953\"], [0.7777777777777778, \"#fb9f3a\"], [0.8888888888888888, \"#fdca26\"], [1.0, \"#f0f921\"]], \"type\": \"heatmapgl\"}], \"histogram\": [{\"marker\": {\"colorbar\": {\"outlinewidth\": 0, \"ticks\": \"\"}}, \"type\": \"histogram\"}], \"histogram2d\": [{\"colorbar\": {\"outlinewidth\": 0, \"ticks\": \"\"}, \"colorscale\": [[0.0, \"#0d0887\"], [0.1111111111111111, \"#46039f\"], [0.2222222222222222, \"#7201a8\"], [0.3333333333333333, \"#9c179e\"], [0.4444444444444444, \"#bd3786\"], [0.5555555555555556, \"#d8576b\"], [0.6666666666666666, \"#ed7953\"], [0.7777777777777778, \"#fb9f3a\"], [0.8888888888888888, \"#fdca26\"], [1.0, \"#f0f921\"]], \"type\": \"histogram2d\"}], \"histogram2dcontour\": [{\"colorbar\": {\"outlinewidth\": 0, \"ticks\": \"\"}, \"colorscale\": [[0.0, \"#0d0887\"], [0.1111111111111111, \"#46039f\"], [0.2222222222222222, \"#7201a8\"], [0.3333333333333333, \"#9c179e\"], [0.4444444444444444, \"#bd3786\"], [0.5555555555555556, \"#d8576b\"], [0.6666666666666666, \"#ed7953\"], [0.7777777777777778, \"#fb9f3a\"], [0.8888888888888888, \"#fdca26\"], [1.0, \"#f0f921\"]], \"type\": \"histogram2dcontour\"}], \"mesh3d\": [{\"colorbar\": {\"outlinewidth\": 0, \"ticks\": \"\"}, \"type\": \"mesh3d\"}], \"parcoords\": [{\"line\": {\"colorbar\": {\"outlinewidth\": 0, \"ticks\": \"\"}}, \"type\": \"parcoords\"}], \"pie\": [{\"automargin\": true, \"type\": \"pie\"}], \"scatter\": [{\"marker\": {\"colorbar\": {\"outlinewidth\": 0, \"ticks\": \"\"}}, \"type\": \"scatter\"}], \"scatter3d\": [{\"line\": {\"colorbar\": {\"outlinewidth\": 0, \"ticks\": \"\"}}, \"marker\": {\"colorbar\": {\"outlinewidth\": 0, \"ticks\": \"\"}}, \"type\": \"scatter3d\"}], \"scattercarpet\": [{\"marker\": {\"colorbar\": {\"outlinewidth\": 0, \"ticks\": \"\"}}, \"type\": \"scattercarpet\"}], \"scattergeo\": [{\"marker\": {\"colorbar\": {\"outlinewidth\": 0, \"ticks\": \"\"}}, \"type\": \"scattergeo\"}], \"scattergl\": [{\"marker\": {\"colorbar\": {\"outlinewidth\": 0, \"ticks\": \"\"}}, \"type\": \"scattergl\"}], \"scattermapbox\": [{\"marker\": {\"colorbar\": {\"outlinewidth\": 0, \"ticks\": \"\"}}, \"type\": \"scattermapbox\"}], \"scatterpolar\": [{\"marker\": {\"colorbar\": {\"outlinewidth\": 0, \"ticks\": \"\"}}, \"type\": \"scatterpolar\"}], \"scatterpolargl\": [{\"marker\": {\"colorbar\": {\"outlinewidth\": 0, \"ticks\": \"\"}}, \"type\": \"scatterpolargl\"}], \"scatterternary\": [{\"marker\": {\"colorbar\": {\"outlinewidth\": 0, \"ticks\": \"\"}}, \"type\": \"scatterternary\"}], \"surface\": [{\"colorbar\": {\"outlinewidth\": 0, \"ticks\": \"\"}, \"colorscale\": [[0.0, \"#0d0887\"], [0.1111111111111111, \"#46039f\"], [0.2222222222222222, \"#7201a8\"], [0.3333333333333333, \"#9c179e\"], [0.4444444444444444, \"#bd3786\"], [0.5555555555555556, \"#d8576b\"], [0.6666666666666666, \"#ed7953\"], [0.7777777777777778, \"#fb9f3a\"], [0.8888888888888888, \"#fdca26\"], [1.0, \"#f0f921\"]], \"type\": \"surface\"}], \"table\": [{\"cells\": {\"fill\": {\"color\": \"#EBF0F8\"}, \"line\": {\"color\": \"white\"}}, \"header\": {\"fill\": {\"color\": \"#C8D4E3\"}, \"line\": {\"color\": \"white\"}}, \"type\": \"table\"}]}, \"layout\": {\"annotationdefaults\": {\"arrowcolor\": \"#2a3f5f\", \"arrowhead\": 0, \"arrowwidth\": 1}, \"coloraxis\": {\"colorbar\": {\"outlinewidth\": 0, \"ticks\": \"\"}}, \"colorscale\": {\"diverging\": [[0, \"#8e0152\"], [0.1, \"#c51b7d\"], [0.2, \"#de77ae\"], [0.3, \"#f1b6da\"], [0.4, \"#fde0ef\"], [0.5, \"#f7f7f7\"], [0.6, \"#e6f5d0\"], [0.7, \"#b8e186\"], [0.8, \"#7fbc41\"], [0.9, \"#4d9221\"], [1, \"#276419\"]], \"sequential\": [[0.0, \"#0d0887\"], [0.1111111111111111, \"#46039f\"], [0.2222222222222222, \"#7201a8\"], [0.3333333333333333, \"#9c179e\"], [0.4444444444444444, \"#bd3786\"], [0.5555555555555556, \"#d8576b\"], [0.6666666666666666, \"#ed7953\"], [0.7777777777777778, \"#fb9f3a\"], [0.8888888888888888, \"#fdca26\"], [1.0, \"#f0f921\"]], \"sequentialminus\": [[0.0, \"#0d0887\"], [0.1111111111111111, \"#46039f\"], [0.2222222222222222, \"#7201a8\"], [0.3333333333333333, \"#9c179e\"], [0.4444444444444444, \"#bd3786\"], [0.5555555555555556, \"#d8576b\"], [0.6666666666666666, \"#ed7953\"], [0.7777777777777778, \"#fb9f3a\"], [0.8888888888888888, \"#fdca26\"], [1.0, \"#f0f921\"]]}, \"colorway\": [\"#636efa\", \"#EF553B\", \"#00cc96\", \"#ab63fa\", \"#FFA15A\", \"#19d3f3\", \"#FF6692\", \"#B6E880\", \"#FF97FF\", \"#FECB52\"], \"font\": {\"color\": \"#2a3f5f\"}, \"geo\": {\"bgcolor\": \"white\", \"lakecolor\": \"white\", \"landcolor\": \"#E5ECF6\", \"showlakes\": true, \"showland\": true, \"subunitcolor\": \"white\"}, \"hoverlabel\": {\"align\": \"left\"}, \"hovermode\": \"closest\", \"mapbox\": {\"style\": \"light\"}, \"paper_bgcolor\": \"white\", \"plot_bgcolor\": \"#E5ECF6\", \"polar\": {\"angularaxis\": {\"gridcolor\": \"white\", \"linecolor\": \"white\", \"ticks\": \"\"}, \"bgcolor\": \"#E5ECF6\", \"radialaxis\": {\"gridcolor\": \"white\", \"linecolor\": \"white\", \"ticks\": \"\"}}, \"scene\": {\"xaxis\": {\"backgroundcolor\": \"#E5ECF6\", \"gridcolor\": \"white\", \"gridwidth\": 2, \"linecolor\": \"white\", \"showbackground\": true, \"ticks\": \"\", \"zerolinecolor\": \"white\"}, \"yaxis\": {\"backgroundcolor\": \"#E5ECF6\", \"gridcolor\": \"white\", \"gridwidth\": 2, \"linecolor\": \"white\", \"showbackground\": true, \"ticks\": \"\", \"zerolinecolor\": \"white\"}, \"zaxis\": {\"backgroundcolor\": \"#E5ECF6\", \"gridcolor\": \"white\", \"gridwidth\": 2, \"linecolor\": \"white\", \"showbackground\": true, \"ticks\": \"\", \"zerolinecolor\": \"white\"}}, \"shapedefaults\": {\"line\": {\"color\": \"#2a3f5f\"}}, \"ternary\": {\"aaxis\": {\"gridcolor\": \"white\", \"linecolor\": \"white\", \"ticks\": \"\"}, \"baxis\": {\"gridcolor\": \"white\", \"linecolor\": \"white\", \"ticks\": \"\"}, \"bgcolor\": \"#E5ECF6\", \"caxis\": {\"gridcolor\": \"white\", \"linecolor\": \"white\", \"ticks\": \"\"}}, \"title\": {\"x\": 0.05}, \"xaxis\": {\"automargin\": true, \"gridcolor\": \"white\", \"linecolor\": \"white\", \"ticks\": \"\", \"title\": {\"standoff\": 15}, \"zerolinecolor\": \"white\", \"zerolinewidth\": 2}, \"yaxis\": {\"automargin\": true, \"gridcolor\": \"white\", \"linecolor\": \"white\", \"ticks\": \"\", \"title\": {\"standoff\": 15}, \"zerolinecolor\": \"white\", \"zerolinewidth\": 2}}}, \"title\": {\"text\": \"Graph\"}},\n",
              "                        {\"responsive\": true}\n",
              "                    ).then(function(){\n",
              "                            \n",
              "var gd = document.getElementById('3726a1c3-e52f-42b3-b119-2589b84ee7db');\n",
              "var x = new MutationObserver(function (mutations, observer) {{\n",
              "        var display = window.getComputedStyle(gd).display;\n",
              "        if (!display || display === 'none') {{\n",
              "            console.log([gd, 'removed!']);\n",
              "            Plotly.purge(gd);\n",
              "            observer.disconnect();\n",
              "        }}\n",
              "}});\n",
              "\n",
              "// Listen for the removal of the full notebook cells\n",
              "var notebookContainer = gd.closest('#notebook-container');\n",
              "if (notebookContainer) {{\n",
              "    x.observe(notebookContainer, {childList: true});\n",
              "}}\n",
              "\n",
              "// Listen for the clearing of the current output cell\n",
              "var outputEl = gd.closest('.output');\n",
              "if (outputEl) {{\n",
              "    x.observe(outputEl, {childList: true});\n",
              "}}\n",
              "\n",
              "                        })\n",
              "                };\n",
              "                \n",
              "            </script>\n",
              "        </div>\n",
              "</body>\n",
              "</html>"
            ]
          },
          "metadata": {}
        }
      ]
    },
    {
      "cell_type": "markdown",
      "metadata": {
        "id": "bNsdVSZuhMnX"
      },
      "source": [
        "### Regressore lineare utilizzato per stimare una curva nello spazio"
      ]
    },
    {
      "cell_type": "code",
      "metadata": {
        "id": "nShmtkpvljZf",
        "colab": {
          "base_uri": "https://localhost:8080/",
          "height": 282
        },
        "outputId": "8dfddb72-c7bf-40d0-9775-d8b617a83e02"
      },
      "source": [
        "from sklearn import linear_model\n",
        "import numpy as np\n",
        "\n",
        "class LinearRegressor:\n",
        "    def __init__(self):\n",
        "      # Inizializzazione\n",
        "      self.reg = linear_model.LinearRegression(fit_intercept=False, normalize=False)\n",
        "    def train(self,X,Y):\n",
        "      # Estimate w0, w1 .. wN\n",
        "      self.reg.fit(X,Y)\n",
        "      return self.reg.coef_\n",
        "    def predict(self,X_test,coef_):\n",
        "      Y_pred = self.reg.predict(X_test)\n",
        "      #Y_pred = np.dot(coef_, X_test.T)\n",
        "      return Y_pred\n",
        "\n",
        "# Creazione dataset\n",
        "X1 = np.linspace(0,10,100)\n",
        "X2 = np.power(X1,2)\n",
        "X3 = np.power(X1,3)\n",
        "X4 = np.power(X1,4)\n",
        "X5 = np.power(X1,5)\n",
        "\n",
        "X_test1 = np.vstack([np.ones(len(X1)), X1]).T\n",
        "X_test2 = np.vstack([np.ones(len(X1)), X1, X2]).T\n",
        "X_test3 = np.vstack([np.ones(len(X1)), X1, X2, X3]).T\n",
        "X_test4 = np.vstack([np.ones(len(X1)), X1, X2, X3, X4]).T\n",
        "X_test5 = np.vstack([np.ones(len(X1)), X1, X2, X3, X4, X5]).T\n",
        "\n",
        "Y = np.sin(2*X1)*np.exp(-0.5*X1) + 0.2*np.cos(X1)\n",
        "\n",
        "myLinearRegressor1 = LinearRegressor()\n",
        "myLinearRegressor2 = LinearRegressor()\n",
        "myLinearRegressor3 = LinearRegressor()\n",
        "myLinearRegressor4 = LinearRegressor()\n",
        "myLinearRegressor5 = LinearRegressor()\n",
        "\n",
        "coef_1 = myLinearRegressor1.train(X_test1,Y)\n",
        "coef_2 = myLinearRegressor2.train(X_test2,Y)\n",
        "coef_3 = myLinearRegressor3.train(X_test3,Y)\n",
        "coef_4 = myLinearRegressor4.train(X_test4,Y)\n",
        "coef_5 = myLinearRegressor5.train(X_test5,Y)\n",
        "\n",
        "Y_pred1 = myLinearRegressor1.predict(X_test1,coef_1)\n",
        "Y_pred2 = myLinearRegressor2.predict(X_test2,coef_2)\n",
        "Y_pred3 = myLinearRegressor3.predict(X_test3,coef_3)\n",
        "Y_pred4 = myLinearRegressor4.predict(X_test4,coef_4)\n",
        "Y_pred5 = myLinearRegressor5.predict(X_test5,coef_5)\n",
        "\n",
        "#print(Y_pred)\n",
        "plt.plot(X1,Y)\n",
        "plt.plot(X1,Y_pred1, label='1')\n",
        "plt.plot(X1,Y_pred2, label='2')\n",
        "plt.plot(X1,Y_pred3, label='3')\n",
        "plt.plot(X1,Y_pred4, label='4')\n",
        "plt.plot(X1,Y_pred5, label='5')\n",
        "plt.legend()\n",
        "\n"
      ],
      "execution_count": null,
      "outputs": [
        {
          "output_type": "execute_result",
          "data": {
            "text/plain": [
              "<matplotlib.legend.Legend at 0x7f467ab006a0>"
            ]
          },
          "metadata": {
            "tags": []
          },
          "execution_count": 8
        },
        {
          "output_type": "display_data",
          "data": {
            "image/png": "[encoded data removed]",
            "text/plain": [
              "<Figure size 432x288 with 1 Axes>"
            ]
          },
          "metadata": {
            "tags": []
          }
        }
      ]
    },
    {
      "cell_type": "markdown",
      "metadata": {
        "id": "tqaFSUZDm8Y1"
      },
      "source": [
        "# Scikit-Learn datasets Spiegazione, nozioni su come scaricarli applicazione della regressione lineare a un dataset di scikit-learn (diabetes dataset)\n",
        "\n",
        "Andremo a vedere quali dataset sono disponibili in scikit-learn, come scaricarli e capirne il contenuto.\n",
        "\n",
        "* [Sklearn dataset page](https://scikit-learn.org/stable/datasets/index.html#datasets)\n",
        "\n",
        "I dataset disponibili sono i seguenti: \n",
        "  * [Iris plant dataset](https://scikit-learn.org/stable/modules/generated/sklearn.datasets.load_iris.html#sklearn.datasets.load_iris)\n",
        "  * [Optical recognition of handwritten digits dataset](https://scikit-learn.org/stable/modules/generated/sklearn.datasets.load_digits.html#sklearn.datasets.load_digits)\n",
        "  * [Boston houses price dataset](https://scikit-learn.org/stable/modules/generated/sklearn.datasets.load_boston.html#sklearn.datasets.load_boston)\n",
        "  * [Diabetes dataset](https://scikit-learn.org/stable/modules/generated/sklearn.datasets.load_diabetes.html#sklearn.datasets.load_diabetes)\n",
        "  * [Wine Recognition dataset](https://scikit-learn.org/stable/modules/generated/sklearn.datasets.load_wine.html#sklearn.datasets.load_wine)\n",
        "  * [Breast cancer wisconsin (diagnostic) dataset](https://scikit-learn.org/stable/modules/generated/sklearn.datasets.load_breast_cancer.html#sklearn.datasets.load_breast_cancer)\n",
        "  * [Linnerrud Dataset](https://scikit-learn.org/stable/modules/generated/sklearn.datasets.load_linnerud.html#sklearn.datasets.load_linnerud)\n"
      ]
    },
    {
      "cell_type": "markdown",
      "metadata": {
        "id": "zOEZDwpbh6ae"
      },
      "source": [
        "## Importare i dataset da scikit-learn"
      ]
    },
    {
      "cell_type": "code",
      "metadata": {
        "id": "AriwX1cIn2zR",
        "colab": {
          "base_uri": "https://localhost:8080/",
          "height": 35
        },
        "outputId": "10485eb9-b5d2-4f10-c838-07c924d9f0d2"
      },
      "source": [
        "# Importare i datasets\n",
        "from sklearn import datasets\n",
        "\n",
        "iris = datasets.load_iris() # Load iris dataset\n",
        "digits = datasets.load_digits() # Load digits dataset\n",
        "boston = datasets.load_boston() # Load boston dataset\n",
        "diabetes = datasets.load_diabetes() # Load diabetes dataset\n",
        "linnerud = datasets.load_linnerud() # Load linnerud dataset\n",
        "wine = datasets.load_wine() # Load wine dataset\n",
        "breast_cancer = datasets.load_breast_cancer() # Load breast_cancer dataset\n",
        "\n",
        "dataset_scelto = diabetes\n",
        "\n",
        "# Check the dataset diabetes\n",
        "#print(dataset_scelto)\n",
        "parametri = dataset_scelto.keys()\n",
        "valore = dataset_scelto.values()\n",
        "print(parametri)"
      ],
      "execution_count": null,
      "outputs": [
        {
          "output_type": "stream",
          "text": [
            "dict_keys(['data', 'target', 'DESCR', 'feature_names', 'data_filename', 'target_filename'])\n"
          ],
          "name": "stdout"
        }
      ]
    },
    {
      "cell_type": "code",
      "metadata": {
        "id": "MxcIG66un6l4",
        "colab": {
          "base_uri": "https://localhost:8080/",
          "height": 1000
        },
        "outputId": "abe96536-a6b3-47e7-fbfc-b6e9658edb83"
      },
      "source": [
        "# Print useful information\n",
        "for name in parametri:\n",
        "  print(\"------------------------------------------\")\n",
        "  print(name , dataset_scelto[name])\n",
        "  print(\"------------------------------------------\")"
      ],
      "execution_count": null,
      "outputs": [
        {
          "output_type": "stream",
          "text": [
            "------------------------------------------\n",
            "data [[ 0.03807591  0.05068012  0.06169621 ... -0.00259226  0.01990842\n",
            "  -0.01764613]\n",
            " [-0.00188202 -0.04464164 -0.05147406 ... -0.03949338 -0.06832974\n",
            "  -0.09220405]\n",
            " [ 0.08529891  0.05068012  0.04445121 ... -0.00259226  0.00286377\n",
            "  -0.02593034]\n",
            " ...\n",
            " [ 0.04170844  0.05068012 -0.01590626 ... -0.01107952 -0.04687948\n",
            "   0.01549073]\n",
            " [-0.04547248 -0.04464164  0.03906215 ...  0.02655962  0.04452837\n",
            "  -0.02593034]\n",
            " [-0.04547248 -0.04464164 -0.0730303  ... -0.03949338 -0.00421986\n",
            "   0.00306441]]\n",
            "------------------------------------------\n",
            "------------------------------------------\n",
            "target [151.  75. 141. 206. 135.  97. 138.  63. 110. 310. 101.  69. 179. 185.\n",
            " 118. 171. 166. 144.  97. 168.  68.  49.  68. 245. 184. 202. 137.  85.\n",
            " 131. 283. 129.  59. 341.  87.  65. 102. 265. 276. 252.  90. 100.  55.\n",
            "  61.  92. 259.  53. 190. 142.  75. 142. 155. 225.  59. 104. 182. 128.\n",
            "  52.  37. 170. 170.  61. 144.  52. 128.  71. 163. 150.  97. 160. 178.\n",
            "  48. 270. 202. 111.  85.  42. 170. 200. 252. 113. 143.  51.  52. 210.\n",
            "  65. 141.  55. 134.  42. 111.  98. 164.  48.  96.  90. 162. 150. 279.\n",
            "  92.  83. 128. 102. 302. 198.  95.  53. 134. 144. 232.  81. 104.  59.\n",
            " 246. 297. 258. 229. 275. 281. 179. 200. 200. 173. 180.  84. 121. 161.\n",
            "  99. 109. 115. 268. 274. 158. 107.  83. 103. 272.  85. 280. 336. 281.\n",
            " 118. 317. 235.  60. 174. 259. 178. 128.  96. 126. 288.  88. 292.  71.\n",
            " 197. 186.  25.  84.  96. 195.  53. 217. 172. 131. 214.  59.  70. 220.\n",
            " 268. 152.  47.  74. 295. 101. 151. 127. 237. 225.  81. 151. 107.  64.\n",
            " 138. 185. 265. 101. 137. 143. 141.  79. 292. 178.  91. 116.  86. 122.\n",
            "  72. 129. 142.  90. 158.  39. 196. 222. 277.  99. 196. 202. 155.  77.\n",
            " 191.  70.  73.  49.  65. 263. 248. 296. 214. 185.  78.  93. 252. 150.\n",
            "  77. 208.  77. 108. 160.  53. 220. 154. 259.  90. 246. 124.  67.  72.\n",
            " 257. 262. 275. 177.  71.  47. 187. 125.  78.  51. 258. 215. 303. 243.\n",
            "  91. 150. 310. 153. 346.  63.  89.  50.  39. 103. 308. 116. 145.  74.\n",
            "  45. 115. 264.  87. 202. 127. 182. 241.  66.  94. 283.  64. 102. 200.\n",
            " 265.  94. 230. 181. 156. 233.  60. 219.  80.  68. 332. 248.  84. 200.\n",
            "  55.  85.  89.  31. 129.  83. 275.  65. 198. 236. 253. 124.  44. 172.\n",
            " 114. 142. 109. 180. 144. 163. 147.  97. 220. 190. 109. 191. 122. 230.\n",
            " 242. 248. 249. 192. 131. 237.  78. 135. 244. 199. 270. 164.  72.  96.\n",
            " 306.  91. 214.  95. 216. 263. 178. 113. 200. 139. 139.  88. 148.  88.\n",
            " 243.  71.  77. 109. 272.  60.  54. 221.  90. 311. 281. 182. 321.  58.\n",
            " 262. 206. 233. 242. 123. 167.  63. 197.  71. 168. 140. 217. 121. 235.\n",
            " 245.  40.  52. 104. 132.  88.  69. 219.  72. 201. 110.  51. 277.  63.\n",
            " 118.  69. 273. 258.  43. 198. 242. 232. 175.  93. 168. 275. 293. 281.\n",
            "  72. 140. 189. 181. 209. 136. 261. 113. 131. 174. 257.  55.  84.  42.\n",
            " 146. 212. 233.  91. 111. 152. 120.  67. 310.  94. 183.  66. 173.  72.\n",
            "  49.  64.  48. 178. 104. 132. 220.  57.]\n",
            "------------------------------------------\n",
            "------------------------------------------\n",
            "DESCR .. _diabetes_dataset:\n",
            "\n",
            "Diabetes dataset\n",
            "----------------\n",
            "\n",
            "Ten baseline variables, age, sex, body mass index, average blood\n",
            "pressure, and six blood serum measurements were obtained for each of n =\n",
            "442 diabetes patients, as well as the response of interest, a\n",
            "quantitative measure of disease progression one year after baseline.\n",
            "\n",
            "**Data Set Characteristics:**\n",
            "\n",
            "  :Number of Instances: 442\n",
            "\n",
            "  :Number of Attributes: First 10 columns are numeric predictive values\n",
            "\n",
            "  :Target: Column 11 is a quantitative measure of disease progression one year after baseline\n",
            "\n",
            "  :Attribute Information:\n",
            "      - Age\n",
            "      - Sex\n",
            "      - Body mass index\n",
            "      - Average blood pressure\n",
            "      - S1\n",
            "      - S2\n",
            "      - S3\n",
            "      - S4\n",
            "      - S5\n",
            "      - S6\n",
            "\n",
            "Note: Each of these 10 feature variables have been mean centered and scaled by the standard deviation times `n_samples` (i.e. the sum of squares of each column totals 1).\n",
            "\n",
            "Source URL:\n",
            "https://www4.stat.ncsu.edu/~boos/var.select/diabetes.html\n",
            "\n",
            "For more information see:\n",
            "Bradley Efron, Trevor Hastie, Iain Johnstone and Robert Tibshirani (2004) \"Least Angle Regression,\" Annals of Statistics (with discussion), 407-499.\n",
            "(https://web.stanford.edu/~hastie/Papers/LARS/LeastAngle_2002.pdf)\n",
            "------------------------------------------\n",
            "------------------------------------------\n",
            "feature_names ['age', 'sex', 'bmi', 'bp', 's1', 's2', 's3', 's4', 's5', 's6']\n",
            "------------------------------------------\n",
            "------------------------------------------\n",
            "data_filename /usr/local/lib/python3.6/dist-packages/sklearn/datasets/data/diabetes_data.csv.gz\n",
            "------------------------------------------\n",
            "------------------------------------------\n",
            "target_filename /usr/local/lib/python3.6/dist-packages/sklearn/datasets/data/diabetes_target.csv.gz\n",
            "------------------------------------------\n"
          ],
          "name": "stdout"
        }
      ]
    },
    {
      "cell_type": "code",
      "metadata": {
        "id": "CaMILK_4oTWL",
        "colab": {
          "base_uri": "https://localhost:8080/",
          "height": 52
        },
        "outputId": "82d8712f-c237-410f-d49b-6a71a53a241f"
      },
      "source": [
        "# Get Data\n",
        "data = dataset_scelto['data'] # or  data = iris.get('data')\n",
        "print(type(data), data.shape)\n",
        "# Get Target\n",
        "target = dataset_scelto['target']\n",
        "print(type(target), target.shape)\n",
        "\n",
        "# Print data\n",
        "#print(data)\n",
        "#print(target)"
      ],
      "execution_count": null,
      "outputs": [
        {
          "output_type": "stream",
          "text": [
            "<class 'numpy.ndarray'> (442, 10)\n",
            "<class 'numpy.ndarray'> (442,)\n"
          ],
          "name": "stdout"
        }
      ]
    },
    {
      "cell_type": "markdown",
      "metadata": {
        "id": "riJw3UjziBct"
      },
      "source": [
        "## Visualizzare il contenuto del dataset usando pandas"
      ]
    },
    {
      "cell_type": "code",
      "metadata": {
        "id": "GhkYQ4CYpCXb",
        "colab": {
          "base_uri": "https://localhost:8080/",
          "height": 391
        },
        "outputId": "562f1183-630d-4ab5-ad28-3b58ff00a0e0"
      },
      "source": [
        "import pandas as pd\n",
        "# visualize machine laerning data https://machinelearningmastery.com/visualize-machine-learning-data-python-pandas/\n",
        "# might be cool: https://towardsdatascience.com/data-visualization-for-machine-learning-and-data-science-a45178970be7\n",
        "\n",
        "# Create csv file\n",
        "df = pd.DataFrame(data=dataset_scelto['data'], columns = dataset_scelto['feature_names'])\n",
        "df.to_csv('dataset_scelto.csv', sep = ',', index = False)\n",
        "df"
      ],
      "execution_count": null,
      "outputs": [
        {
          "output_type": "execute_result",
          "data": {
            "text/html": [
              "<div>\n",
              "<style scoped>\n",
              "    .dataframe tbody tr th:only-of-type {\n",
              "        vertical-align: middle;\n",
              "    }\n",
              "\n",
              "    .dataframe tbody tr th {\n",
              "        vertical-align: top;\n",
              "    }\n",
              "\n",
              "    .dataframe thead th {\n",
              "        text-align: right;\n",
              "    }\n",
              "</style>\n",
              "<table border=\"1\" class=\"dataframe\">\n",
              "  <thead>\n",
              "    <tr style=\"text-align: right;\">\n",
              "      <th></th>\n",
              "      <th>age</th>\n",
              "      <th>sex</th>\n",
              "      <th>bmi</th>\n",
              "      <th>bp</th>\n",
              "      <th>s1</th>\n",
              "      <th>s2</th>\n",
              "      <th>s3</th>\n",
              "      <th>s4</th>\n",
              "      <th>s5</th>\n",
              "      <th>s6</th>\n",
              "    </tr>\n",
              "  </thead>\n",
              "  <tbody>\n",
              "    <tr>\n",
              "      <th>0</th>\n",
              "      <td>0.038076</td>\n",
              "      <td>0.050680</td>\n",
              "      <td>0.061696</td>\n",
              "      <td>0.021872</td>\n",
              "      <td>-0.044223</td>\n",
              "      <td>-0.034821</td>\n",
              "      <td>-0.043401</td>\n",
              "      <td>-0.002592</td>\n",
              "      <td>0.019908</td>\n",
              "      <td>-0.017646</td>\n",
              "    </tr>\n",
              "    <tr>\n",
              "      <th>1</th>\n",
              "      <td>-0.001882</td>\n",
              "      <td>-0.044642</td>\n",
              "      <td>-0.051474</td>\n",
              "      <td>-0.026328</td>\n",
              "      <td>-0.008449</td>\n",
              "      <td>-0.019163</td>\n",
              "      <td>0.074412</td>\n",
              "      <td>-0.039493</td>\n",
              "      <td>-0.068330</td>\n",
              "      <td>-0.092204</td>\n",
              "    </tr>\n",
              "    <tr>\n",
              "      <th>2</th>\n",
              "      <td>0.085299</td>\n",
              "      <td>0.050680</td>\n",
              "      <td>0.044451</td>\n",
              "      <td>-0.005671</td>\n",
              "      <td>-0.045599</td>\n",
              "      <td>-0.034194</td>\n",
              "      <td>-0.032356</td>\n",
              "      <td>-0.002592</td>\n",
              "      <td>0.002864</td>\n",
              "      <td>-0.025930</td>\n",
              "    </tr>\n",
              "    <tr>\n",
              "      <th>3</th>\n",
              "      <td>-0.089063</td>\n",
              "      <td>-0.044642</td>\n",
              "      <td>-0.011595</td>\n",
              "      <td>-0.036656</td>\n",
              "      <td>0.012191</td>\n",
              "      <td>0.024991</td>\n",
              "      <td>-0.036038</td>\n",
              "      <td>0.034309</td>\n",
              "      <td>0.022692</td>\n",
              "      <td>-0.009362</td>\n",
              "    </tr>\n",
              "    <tr>\n",
              "      <th>4</th>\n",
              "      <td>0.005383</td>\n",
              "      <td>-0.044642</td>\n",
              "      <td>-0.036385</td>\n",
              "      <td>0.021872</td>\n",
              "      <td>0.003935</td>\n",
              "      <td>0.015596</td>\n",
              "      <td>0.008142</td>\n",
              "      <td>-0.002592</td>\n",
              "      <td>-0.031991</td>\n",
              "      <td>-0.046641</td>\n",
              "    </tr>\n",
              "    <tr>\n",
              "      <th>...</th>\n",
              "      <td>...</td>\n",
              "      <td>...</td>\n",
              "      <td>...</td>\n",
              "      <td>...</td>\n",
              "      <td>...</td>\n",
              "      <td>...</td>\n",
              "      <td>...</td>\n",
              "      <td>...</td>\n",
              "      <td>...</td>\n",
              "      <td>...</td>\n",
              "    </tr>\n",
              "    <tr>\n",
              "      <th>437</th>\n",
              "      <td>0.041708</td>\n",
              "      <td>0.050680</td>\n",
              "      <td>0.019662</td>\n",
              "      <td>0.059744</td>\n",
              "      <td>-0.005697</td>\n",
              "      <td>-0.002566</td>\n",
              "      <td>-0.028674</td>\n",
              "      <td>-0.002592</td>\n",
              "      <td>0.031193</td>\n",
              "      <td>0.007207</td>\n",
              "    </tr>\n",
              "    <tr>\n",
              "      <th>438</th>\n",
              "      <td>-0.005515</td>\n",
              "      <td>0.050680</td>\n",
              "      <td>-0.015906</td>\n",
              "      <td>-0.067642</td>\n",
              "      <td>0.049341</td>\n",
              "      <td>0.079165</td>\n",
              "      <td>-0.028674</td>\n",
              "      <td>0.034309</td>\n",
              "      <td>-0.018118</td>\n",
              "      <td>0.044485</td>\n",
              "    </tr>\n",
              "    <tr>\n",
              "      <th>439</th>\n",
              "      <td>0.041708</td>\n",
              "      <td>0.050680</td>\n",
              "      <td>-0.015906</td>\n",
              "      <td>0.017282</td>\n",
              "      <td>-0.037344</td>\n",
              "      <td>-0.013840</td>\n",
              "      <td>-0.024993</td>\n",
              "      <td>-0.011080</td>\n",
              "      <td>-0.046879</td>\n",
              "      <td>0.015491</td>\n",
              "    </tr>\n",
              "    <tr>\n",
              "      <th>440</th>\n",
              "      <td>-0.045472</td>\n",
              "      <td>-0.044642</td>\n",
              "      <td>0.039062</td>\n",
              "      <td>0.001215</td>\n",
              "      <td>0.016318</td>\n",
              "      <td>0.015283</td>\n",
              "      <td>-0.028674</td>\n",
              "      <td>0.026560</td>\n",
              "      <td>0.044528</td>\n",
              "      <td>-0.025930</td>\n",
              "    </tr>\n",
              "    <tr>\n",
              "      <th>441</th>\n",
              "      <td>-0.045472</td>\n",
              "      <td>-0.044642</td>\n",
              "      <td>-0.073030</td>\n",
              "      <td>-0.081414</td>\n",
              "      <td>0.083740</td>\n",
              "      <td>0.027809</td>\n",
              "      <td>0.173816</td>\n",
              "      <td>-0.039493</td>\n",
              "      <td>-0.004220</td>\n",
              "      <td>0.003064</td>\n",
              "    </tr>\n",
              "  </tbody>\n",
              "</table>\n",
              "<p>442 rows × 10 columns</p>\n",
              "</div>"
            ],
            "text/plain": [
              "          age       sex       bmi  ...        s4        s5        s6\n",
              "0    0.038076  0.050680  0.061696  ... -0.002592  0.019908 -0.017646\n",
              "1   -0.001882 -0.044642 -0.051474  ... -0.039493 -0.068330 -0.092204\n",
              "2    0.085299  0.050680  0.044451  ... -0.002592  0.002864 -0.025930\n",
              "3   -0.089063 -0.044642 -0.011595  ...  0.034309  0.022692 -0.009362\n",
              "4    0.005383 -0.044642 -0.036385  ... -0.002592 -0.031991 -0.046641\n",
              "..        ...       ...       ...  ...       ...       ...       ...\n",
              "437  0.041708  0.050680  0.019662  ... -0.002592  0.031193  0.007207\n",
              "438 -0.005515  0.050680 -0.015906  ...  0.034309 -0.018118  0.044485\n",
              "439  0.041708  0.050680 -0.015906  ... -0.011080 -0.046879  0.015491\n",
              "440 -0.045472 -0.044642  0.039062  ...  0.026560  0.044528 -0.025930\n",
              "441 -0.045472 -0.044642 -0.073030  ... -0.039493 -0.004220  0.003064\n",
              "\n",
              "[442 rows x 10 columns]"
            ]
          },
          "metadata": {
            "tags": []
          },
          "execution_count": 12
        }
      ]
    },
    {
      "cell_type": "code",
      "metadata": {
        "id": "Ss4tzny4ulWY",
        "colab": {
          "base_uri": "https://localhost:8080/",
          "height": 277
        },
        "outputId": "245764d6-ca35-4d81-f5a5-d318077eec46"
      },
      "source": [
        "df.describe()"
      ],
      "execution_count": null,
      "outputs": [
        {
          "output_type": "execute_result",
          "data": {
            "text/html": [
              "<div>\n",
              "<style scoped>\n",
              "    .dataframe tbody tr th:only-of-type {\n",
              "        vertical-align: middle;\n",
              "    }\n",
              "\n",
              "    .dataframe tbody tr th {\n",
              "        vertical-align: top;\n",
              "    }\n",
              "\n",
              "    .dataframe thead th {\n",
              "        text-align: right;\n",
              "    }\n",
              "</style>\n",
              "<table border=\"1\" class=\"dataframe\">\n",
              "  <thead>\n",
              "    <tr style=\"text-align: right;\">\n",
              "      <th></th>\n",
              "      <th>age</th>\n",
              "      <th>sex</th>\n",
              "      <th>bmi</th>\n",
              "      <th>bp</th>\n",
              "      <th>s1</th>\n",
              "      <th>s2</th>\n",
              "      <th>s3</th>\n",
              "      <th>s4</th>\n",
              "      <th>s5</th>\n",
              "      <th>s6</th>\n",
              "    </tr>\n",
              "  </thead>\n",
              "  <tbody>\n",
              "    <tr>\n",
              "      <th>count</th>\n",
              "      <td>4.420000e+02</td>\n",
              "      <td>4.420000e+02</td>\n",
              "      <td>4.420000e+02</td>\n",
              "      <td>4.420000e+02</td>\n",
              "      <td>4.420000e+02</td>\n",
              "      <td>4.420000e+02</td>\n",
              "      <td>4.420000e+02</td>\n",
              "      <td>4.420000e+02</td>\n",
              "      <td>4.420000e+02</td>\n",
              "      <td>4.420000e+02</td>\n",
              "    </tr>\n",
              "    <tr>\n",
              "      <th>mean</th>\n",
              "      <td>-3.634285e-16</td>\n",
              "      <td>1.308343e-16</td>\n",
              "      <td>-8.045349e-16</td>\n",
              "      <td>1.281655e-16</td>\n",
              "      <td>-8.835316e-17</td>\n",
              "      <td>1.327024e-16</td>\n",
              "      <td>-4.574646e-16</td>\n",
              "      <td>3.777301e-16</td>\n",
              "      <td>-3.830854e-16</td>\n",
              "      <td>-3.412882e-16</td>\n",
              "    </tr>\n",
              "    <tr>\n",
              "      <th>std</th>\n",
              "      <td>4.761905e-02</td>\n",
              "      <td>4.761905e-02</td>\n",
              "      <td>4.761905e-02</td>\n",
              "      <td>4.761905e-02</td>\n",
              "      <td>4.761905e-02</td>\n",
              "      <td>4.761905e-02</td>\n",
              "      <td>4.761905e-02</td>\n",
              "      <td>4.761905e-02</td>\n",
              "      <td>4.761905e-02</td>\n",
              "      <td>4.761905e-02</td>\n",
              "    </tr>\n",
              "    <tr>\n",
              "      <th>min</th>\n",
              "      <td>-1.072256e-01</td>\n",
              "      <td>-4.464164e-02</td>\n",
              "      <td>-9.027530e-02</td>\n",
              "      <td>-1.123996e-01</td>\n",
              "      <td>-1.267807e-01</td>\n",
              "      <td>-1.156131e-01</td>\n",
              "      <td>-1.023071e-01</td>\n",
              "      <td>-7.639450e-02</td>\n",
              "      <td>-1.260974e-01</td>\n",
              "      <td>-1.377672e-01</td>\n",
              "    </tr>\n",
              "    <tr>\n",
              "      <th>25%</th>\n",
              "      <td>-3.729927e-02</td>\n",
              "      <td>-4.464164e-02</td>\n",
              "      <td>-3.422907e-02</td>\n",
              "      <td>-3.665645e-02</td>\n",
              "      <td>-3.424784e-02</td>\n",
              "      <td>-3.035840e-02</td>\n",
              "      <td>-3.511716e-02</td>\n",
              "      <td>-3.949338e-02</td>\n",
              "      <td>-3.324879e-02</td>\n",
              "      <td>-3.317903e-02</td>\n",
              "    </tr>\n",
              "    <tr>\n",
              "      <th>50%</th>\n",
              "      <td>5.383060e-03</td>\n",
              "      <td>-4.464164e-02</td>\n",
              "      <td>-7.283766e-03</td>\n",
              "      <td>-5.670611e-03</td>\n",
              "      <td>-4.320866e-03</td>\n",
              "      <td>-3.819065e-03</td>\n",
              "      <td>-6.584468e-03</td>\n",
              "      <td>-2.592262e-03</td>\n",
              "      <td>-1.947634e-03</td>\n",
              "      <td>-1.077698e-03</td>\n",
              "    </tr>\n",
              "    <tr>\n",
              "      <th>75%</th>\n",
              "      <td>3.807591e-02</td>\n",
              "      <td>5.068012e-02</td>\n",
              "      <td>3.124802e-02</td>\n",
              "      <td>3.564384e-02</td>\n",
              "      <td>2.835801e-02</td>\n",
              "      <td>2.984439e-02</td>\n",
              "      <td>2.931150e-02</td>\n",
              "      <td>3.430886e-02</td>\n",
              "      <td>3.243323e-02</td>\n",
              "      <td>2.791705e-02</td>\n",
              "    </tr>\n",
              "    <tr>\n",
              "      <th>max</th>\n",
              "      <td>1.107267e-01</td>\n",
              "      <td>5.068012e-02</td>\n",
              "      <td>1.705552e-01</td>\n",
              "      <td>1.320442e-01</td>\n",
              "      <td>1.539137e-01</td>\n",
              "      <td>1.987880e-01</td>\n",
              "      <td>1.811791e-01</td>\n",
              "      <td>1.852344e-01</td>\n",
              "      <td>1.335990e-01</td>\n",
              "      <td>1.356118e-01</td>\n",
              "    </tr>\n",
              "  </tbody>\n",
              "</table>\n",
              "</div>"
            ],
            "text/plain": [
              "                age           sex  ...            s5            s6\n",
              "count  4.420000e+02  4.420000e+02  ...  4.420000e+02  4.420000e+02\n",
              "mean  -3.634285e-16  1.308343e-16  ... -3.830854e-16 -3.412882e-16\n",
              "std    4.761905e-02  4.761905e-02  ...  4.761905e-02  4.761905e-02\n",
              "min   -1.072256e-01 -4.464164e-02  ... -1.260974e-01 -1.377672e-01\n",
              "25%   -3.729927e-02 -4.464164e-02  ... -3.324879e-02 -3.317903e-02\n",
              "50%    5.383060e-03 -4.464164e-02  ... -1.947634e-03 -1.077698e-03\n",
              "75%    3.807591e-02  5.068012e-02  ...  3.243323e-02  2.791705e-02\n",
              "max    1.107267e-01  5.068012e-02  ...  1.335990e-01  1.356118e-01\n",
              "\n",
              "[8 rows x 10 columns]"
            ]
          },
          "metadata": {
            "tags": []
          },
          "execution_count": 13
        }
      ]
    },
    {
      "cell_type": "code",
      "metadata": {
        "id": "ZLmclNWUuapE",
        "colab": {
          "base_uri": "https://localhost:8080/",
          "height": 865
        },
        "outputId": "599042af-ba66-4922-bf63-85e7d0cf8d53"
      },
      "source": [
        "import matplotlib.pyplot as plt\n",
        "plt.rcParams['figure.figsize'] = [20, 15]\n",
        "# Plot input data\n",
        "df.plot(kind='hist', subplots=True, layout=(4,3))\n",
        "plt.show()"
      ],
      "execution_count": null,
      "outputs": [
        {
          "output_type": "display_data",
          "data": {
            "image/png": "[encoded data removed]",
            "text/plain": [
              "<Figure size 1440x1080 with 12 Axes>"
            ]
          },
          "metadata": {
            "tags": []
          }
        }
      ]
    },
    {
      "cell_type": "markdown",
      "metadata": {
        "id": "msX19t2RiJns"
      },
      "source": [
        "## Applicare la regressione lineare al dataset diabetes\n",
        "Usiamo fit_intercet=False. L'implementazione con fit_intercept = True la trovate negli Extra"
      ]
    },
    {
      "cell_type": "code",
      "metadata": {
        "id": "qQHsRqGQv0NP",
        "colab": {
          "base_uri": "https://localhost:8080/",
          "height": 680
        },
        "outputId": "83f76b4c-a1dd-41b3-c84a-d562835c4d00"
      },
      "source": [
        "# Creiamo il regressore lineare\n",
        "# Esempio interessante: https://scikit-learn.org/stable/auto_examples/linear_model/plot_ols.html\n",
        "# Implementazione Intercept FALSE , see Extra Advance for Intercept True\n",
        "plt.rcParams['figure.figsize'] = [15, 10]\n",
        "class LinearRegressor:\n",
        "    def __init__(self):\n",
        "      # Inizializzazione\n",
        "      self.reg = linear_model.LinearRegression(fit_intercept=False, normalize=False)\n",
        "    def train(self,X,Y):\n",
        "      # Estimate w0, w1 .. wN\n",
        "      self.reg.fit(X,Y)\n",
        "      return self.reg.coef_\n",
        "    def predict(self,X_test,coef_):\n",
        "      Y_pred = self.reg.predict(X_test)\n",
        "      #Y_pred = np.dot(coef_, X_test.T) \n",
        "      return Y_pred\n",
        "\n",
        "# Creiamoil dataset\n",
        "data = dataset_scelto['data'] \n",
        "target = dataset_scelto['target']\n",
        "x_train = data[:-20]\n",
        "\n",
        "X_train = np.vstack([np.ones(len(x_train)), x_train.T]).T\n",
        "Y_train = target[:-20]\n",
        "x_test = data[-20:]\n",
        "X_test = np.vstack([np.ones(len(x_test)), x_test.T]).T\n",
        "Y_test = target[-20:]\n",
        "\n",
        "print(\" X Train shape: \",X_train.shape)\n",
        "print(\"Y Train shape: \", Y_train.shape)\n",
        "\n",
        "# Creiamo Regressore Lineare\n",
        "myLinearRegressor = LinearRegressor()\n",
        "coef_ = myLinearRegressor.train(X_train,Y_train)\n",
        "# Cosa vogliamo predirre\n",
        "Y_pred = myLinearRegressor.predict(X_test, coef_)\n",
        "\n",
        "# Plot\n",
        "print(Y_test.shape)\n",
        "print(Y_pred.shape)\n",
        "length = Y_pred.shape[0] # 20\n",
        "index_bar = np.linspace(0,length,length)\n",
        "plt.plot(index_bar, Y_test, label='Test')\n",
        "plt.plot(index_bar, Y_pred, label='Prediction')\n",
        "plt.legend()\n"
      ],
      "execution_count": null,
      "outputs": [
        {
          "output_type": "stream",
          "text": [
            " X Train shape:  (422, 11)\n",
            "Y Train shape:  (422,)\n",
            "(20,)\n",
            "(20,)\n"
          ],
          "name": "stdout"
        },
        {
          "output_type": "execute_result",
          "data": {
            "text/plain": [
              "<matplotlib.legend.Legend at 0x7f4679c73438>"
            ]
          },
          "metadata": {
            "tags": []
          },
          "execution_count": 15
        },
        {
          "output_type": "display_data",
          "data": {
            "image/png": "[encoded data removed]",
            "text/plain": [
              "<Figure size 1080x720 with 1 Axes>"
            ]
          },
          "metadata": {
            "tags": []
          }
        }
      ]
    },
    {
      "cell_type": "markdown",
      "metadata": {
        "id": "sc1f3O7uTJbS"
      },
      "source": [
        "# Extra Informazioni (Avanzate)"
      ]
    },
    {
      "cell_type": "markdown",
      "metadata": {
        "id": "doMRLNIIgOyg"
      },
      "source": [
        "## Scikit-Learn  Regressione Lineare fit_intercept=True senza classi"
      ]
    },
    {
      "cell_type": "code",
      "metadata": {
        "id": "eAu9d9f5V27H",
        "colab": {
          "base_uri": "https://localhost:8080/",
          "height": 70
        },
        "outputId": "634dcd99-ff12-4cc1-9b97-b1fd1ac159f9"
      },
      "source": [
        "#---------------------------------------------------------------------\n",
        "#--------------------   SCIKIT-LEARN REGRESSORE LINEARE  -------------\n",
        "#---------------------------------------------------------------------\n",
        "#--------------- Implementazione usando fit_intercept=True\n",
        "# Implementazione piú semplice da scrivere ma meno vicina alla logica matematica\n",
        "\n",
        "from sklearn import linear_model\n",
        "import numpy as np\n",
        "\n",
        "# Linear Model Regression Description https://scikit-learn.org/stable/modules/linear_model.html\n",
        "# Scikit Documentazione https://scikit-learn.org/stable/modules/generated/sklearn.linear_model.LinearRegression.html\n",
        "\n",
        "# Appraoch Linear model: Y=b+aX \n",
        "# fit_intercept = True significa che il parametro b è automaticamente settato a 1 e la sua stima sarà inserita in intercept_\n",
        "reg = linear_model.LinearRegression(fit_intercept=True, normalize=False)\n",
        "\n",
        "# Y e X\n",
        "x = np.array([19,21,22,23,26,33,29])\n",
        "#X = np.vstack([np.ones(len(x)),x]).T\n",
        "X = np.array([[19],[21], [22], [23], [26], [33],[29]])\n",
        "Y = np.array([1100,1150,1155,1170,1200,1750,1640])\n",
        "#print(X)\n",
        "#print(Y)\n",
        "\n",
        "reg.fit(X, Y)\n",
        "\n",
        "# Get w0 and w1\n",
        "w0 = reg.intercept_\n",
        "w1 = reg.coef_\n",
        "\n",
        "print('w0: ', reg.coef_)\n",
        "print('w1: ', reg.intercept_)\n",
        "\n",
        "X_test = np.array([[25]]) # giada ha 25 anni\n",
        "Y_pred = reg.predict(X_test)\n",
        "Y_pred_ = w0 + w1*X_test \n",
        "print('Giada gudagnerà al mese: ', Y_pred, Y_pred_)"
      ],
      "execution_count": null,
      "outputs": [
        {
          "output_type": "stream",
          "text": [
            "w0:  [50.70235756]\n",
            "w1:  56.21316306483277\n",
            "Giada gudagnerà al mese:  [1323.77210216] [[1323.77210216]]\n"
          ],
          "name": "stdout"
        }
      ]
    },
    {
      "cell_type": "markdown",
      "metadata": {
        "id": "aDBozb0ngYtN"
      },
      "source": [
        "## Scikit-Learn  Regressione Lineare fit_intercept=True con classi"
      ]
    },
    {
      "cell_type": "code",
      "metadata": {
        "id": "vjnBmjBhc_7l",
        "colab": {
          "base_uri": "https://localhost:8080/",
          "height": 70
        },
        "outputId": "bcca4ee7-a592-45b4-dd26-aaa8edaaf4bd"
      },
      "source": [
        "#---------------------------------------------------------------------\n",
        "#---------------- CLASSE SCIKIT-LEARN REGRESSORE LINEARE -------------\n",
        "#---------------------------------------------------------------------\n",
        "#--------------- Implementazione usando fit_intercept=True\n",
        "# Implementazione piú semplice da scrivere ma meno vicina alla logica matematica\n",
        "\n",
        "from sklearn import linear_model\n",
        "import numpy as np\n",
        "\n",
        "class Dataset:\n",
        "    def create(self):\n",
        "      X= np.array([[19],[21], [22], [23], [26], [33],[29]])\n",
        "      Y= np.array([[1100],[1150],[1155],[1170],[1200],[1750],[1640]])\n",
        "      return X,Y\n",
        "\n",
        "class LinearRegressor:\n",
        "    def __init__(self):\n",
        "      # Inizializzazione\n",
        "      self.reg = linear_model.LinearRegression(fit_intercept=True, normalize=False)\n",
        "    def train(self,X,Y):\n",
        "      # Estimate w0, w1 .. wN\n",
        "      self.reg.fit(X,Y)\n",
        "      print(self.reg.intercept_) # Questo deve essere diverso da 0 se fit_intercept=True\n",
        "      return self.reg.coef_, self.reg.intercept_\n",
        "    def predict(self,X_test,coef_, intercept_):\n",
        "      Y_pred = self.reg.predict(X_test)\n",
        "      #Y_pred = np.dot(coef_, X_test.T) + intercept_\n",
        "      return Y_pred\n",
        "\n",
        "myDataset=Dataset()\n",
        "X,Y = myDataset.create()\n",
        "myLinearRegressor = LinearRegressor()\n",
        "# coef_ rappresenta w1,w2, ... wN , intercept_ rappresenta w0\n",
        "coef_, intercept_ = myLinearRegressor.train(X,Y)\n",
        "print(coef_, intercept_)\n",
        "# Set input Giada 25 anni Y=w0*1 + w1*X1 --> 1 X1=25 \n",
        "X_test = np.array([[25]])  \n",
        "Y_pred = myLinearRegressor.predict(X_test,coef_, intercept_)\n",
        "print(Y_pred)\n",
        "\n"
      ],
      "execution_count": null,
      "outputs": [
        {
          "output_type": "stream",
          "text": [
            "[56.21316306]\n",
            "[[50.70235756]] [56.21316306]\n",
            "[[1323.77210216]]\n"
          ],
          "name": "stdout"
        }
      ]
    },
    {
      "cell_type": "markdown",
      "metadata": {
        "id": "LFjRzxWSglzP"
      },
      "source": [
        "## Regressione Lineare implementata usando numpy (calcolo matriciale)"
      ]
    },
    {
      "cell_type": "code",
      "metadata": {
        "id": "qHh83zaKUo48",
        "colab": {
          "base_uri": "https://localhost:8080/",
          "height": 52
        },
        "outputId": "4aa6c806-d60c-45f8-f58f-6419849e87e8"
      },
      "source": [
        "# Implementazione regressore lineare usando solo numpy\n",
        "#---------------------------------------------------------------------\n",
        "#---------------- IMPLEMENTAZIONE REGRESSORE LINEARE NUMPY -----------\n",
        "#---------------------------------------------------------------------\n",
        "# Link Utile Least square with numpy: https://mmas.github.io/least-squares-fitting-numpy-scipy\n",
        "\n",
        "'''\n",
        "[Y1]       [1 X1]\n",
        "[Y2]       [1 X2]   [w0]\n",
        "[Y3]   =   [1 X3]   [w1] \n",
        "...        ......\n",
        "[YN]       [1 XN]\n",
        "\n",
        "Y = Xbeta\n",
        "Nx1 = Nx2 x 2x 1\n",
        "beta = ( (XT*X)∧-1 )*XT*Y  (Least square)\n",
        "'''\n",
        "import numpy as np\n",
        "\n",
        "# Construct Input Matrices\n",
        "x = np.array([19,21,22,23,26,33,29])\n",
        "X = np.vstack([np.ones(len(x)), x]).T\n",
        "Y = np.vstack(np.array([1100,1150,1155,1170,1200,1750,1640]))\n",
        "#print(X)\n",
        "#print(Y)\n",
        "\n",
        "# Solve Least square Matematicall (Matrix product)\n",
        "# beta = ( (XT*X)∧-1 )*XT*Y  (Least square)\n",
        "coeff = np.dot(np.linalg.inv(np.dot(X.T, X)), np.dot(X.T, Y))\n",
        "print(\"Coefficienti: \", coeff.T)\n",
        "w0 = coeff[0]\n",
        "w1  = coeff[1]\n",
        "\n",
        "# Different approach Using Numpy Functions\n",
        "#coeff_2 = np.linalg.lstsq(X, Y)[0]\n",
        "#print(\"Coefficient caso 2: \", coeff_2)\n",
        "#a  = coeff_2[0]\n",
        "#b = coeff_2[1]\n",
        "\n",
        "X_test = 25\n",
        "Y_pred = w0 + w1*X_test \n",
        "print('Giada (25 anni) gudagnerà al mese: ', Y_pred)"
      ],
      "execution_count": null,
      "outputs": [
        {
          "output_type": "stream",
          "text": [
            "Coefficienti:  [[56.21316306 50.70235756]]\n",
            "Giada (25 anni) gudagnerà al mese:  [1323.77210216]\n"
          ],
          "name": "stdout"
        }
      ]
    },
    {
      "cell_type": "markdown",
      "metadata": {
        "id": "cqnd8QzrguFa"
      },
      "source": [
        "## Come trasformare python dizionari in  python array e viceversa"
      ]
    },
    {
      "cell_type": "code",
      "metadata": {
        "id": "MINUt7HkrTF5",
        "colab": {
          "base_uri": "https://localhost:8080/",
          "height": 560
        },
        "outputId": "f9a841f1-bc16-4d4d-e591-301d8fff50eb"
      },
      "source": [
        "#---------------------------------------------------------------------\n",
        "#---------------- Trasformare dizionari in Array --------- -----------\n",
        "#---------------------------------------------------------------------\n",
        "# Usiamo Le funzioni\n",
        "# Importare i datasets\n",
        "\n",
        "from sklearn import datasets\n",
        "\n",
        "iris = datasets.load_iris() # Load iris dataset\n",
        "digits = datasets.load_digits() # Load digits dataset\n",
        "boston = datasets.load_boston() # Load boston dataset\n",
        "diabetes = datasets.load_diabetes() # Load diabetes dataset\n",
        "linnerud = datasets.load_linnerud() # Load linnerud dataset\n",
        "wine = datasets.load_wine() # Load wine dataset\n",
        "breast_cancer = datasets.load_breast_cancer() # Load breast_cancer dataset\n",
        "\n",
        "dataset_scelto = iris\n",
        "\n",
        "def approccio_1(dataset_scelto):\n",
        "  # --------------------- Approccio 1\n",
        "  # Get dictionar keys, value\n",
        "  print(dataset_scelto.keys())\n",
        "  list_keys = []\n",
        "  list_values = []\n",
        "  for key in dataset_scelto:\n",
        "    list_keys.append(key)\n",
        "    print(key)\n",
        "    value = dataset_scelto[key]\n",
        "    list_values.append(value)\n",
        "  print(\"All keys inside array \", list_keys) \n",
        "  #print(\"All values inside array \", list_values) \n",
        "\n",
        "  # Convert list to numpy array\n",
        "  print(\"----------------------------------\")\n",
        "  array_keys = np.asarray(list_keys)\n",
        "  array_values = np.array(list_values)\n",
        "  print(type(array_keys), array_keys.shape, array_keys[0].shape)\n",
        "  print(type(array_values), array_values.shape,array_values[0].shape)\n",
        "\n",
        "  # Going deeper inside data shape\n",
        "  print(\"----------------------------------\")\n",
        "  for i in range(0,len(array_keys)):\n",
        "    if isinstance(array_values[i],np.ndarray):\n",
        "      print(array_keys[i], type(array_values[i]), array_values[i].shape )\n",
        "    else:\n",
        "      print(array_keys[i], type(array_values[i]))\n",
        "    \n",
        "  # Other Useful Solutions\n",
        "  '''\n",
        "  for value in diabetes.values():\n",
        "    print(value) \n",
        "\n",
        "  for key, value in diabetes.items():\n",
        "    print(key, value)\n",
        "  '''\n",
        "\n",
        "def approccio_2(dataset_scelto):\n",
        "  #--------------------- Approccio 2\n",
        "  # Convert a dictionary to an array of string\n",
        "  list_keys = list(dataset_scelto.keys())\n",
        "  list_values = list(dataset_scelto.values())\n",
        "  #print(list_keys)\n",
        "  print(type(list_keys))\n",
        "  #print(list_values)\n",
        "  print(type(list_values))\n",
        "  # Convert list as numpy narray\n",
        "  array_keys = np.asarray(list_keys)\n",
        "  array_values = np.array(list_values)\n",
        "  print(type(array_keys))\n",
        "  print(type(array_values))\n",
        "  # Covert back numpy ndarray to list\n",
        "  new_list_keys = array_keys.tolist()\n",
        "  new_list_values = array_values.tolist()\n",
        "  print(type(new_list_keys))\n",
        "  print(type(new_list_values))\n",
        "  # Check if the list are equal\n",
        "  if list_keys == new_list_keys and list_values==new_list_values: \n",
        "    print (\"The lists are identical\") \n",
        "  else : \n",
        "    print (\"The lists are not identical\")\n",
        "\n",
        "print(\"-----------------------------\")\n",
        "print(\"-------- Approach 1 ---------\")\n",
        "print(\"-----------------------------\")\n",
        "approccio_1(dataset_scelto)\n",
        "print(\"-----------------------------\")\n",
        "print(\"-------- Approach 2 ---------\")\n",
        "print(\"-----------------------------\")\n",
        "approccio_2(dataset_scelto)\n"
      ],
      "execution_count": null,
      "outputs": [
        {
          "output_type": "stream",
          "text": [
            "-----------------------------\n",
            "-------- Approach 1 ---------\n",
            "-----------------------------\n",
            "dict_keys(['data', 'target', 'target_names', 'DESCR', 'feature_names', 'filename'])\n",
            "data\n",
            "target\n",
            "target_names\n",
            "DESCR\n",
            "feature_names\n",
            "filename\n",
            "All keys inside array  ['data', 'target', 'target_names', 'DESCR', 'feature_names', 'filename']\n",
            "----------------------------------\n",
            "<class 'numpy.ndarray'> (6,) ()\n",
            "<class 'numpy.ndarray'> (6,) (150, 4)\n",
            "----------------------------------\n",
            "data <class 'numpy.ndarray'> (150, 4)\n",
            "target <class 'numpy.ndarray'> (150,)\n",
            "target_names <class 'numpy.ndarray'> (3,)\n",
            "DESCR <class 'str'>\n",
            "feature_names <class 'list'>\n",
            "filename <class 'str'>\n",
            "-----------------------------\n",
            "-------- Approach 2 ---------\n",
            "-----------------------------\n",
            "<class 'list'>\n",
            "<class 'list'>\n",
            "<class 'numpy.ndarray'>\n",
            "<class 'numpy.ndarray'>\n",
            "<class 'list'>\n",
            "<class 'list'>\n",
            "The lists are identical\n"
          ],
          "name": "stdout"
        }
      ]
    },
    {
      "cell_type": "markdown",
      "metadata": {
        "id": "fup1sa_Tg4q1"
      },
      "source": [
        "## Scikit-Learn Regressione Lineare applicata al dataset Diabetes"
      ]
    },
    {
      "cell_type": "code",
      "metadata": {
        "id": "CoNNXTSG1HPT",
        "colab": {
          "base_uri": "https://localhost:8080/",
          "height": 697
        },
        "outputId": "04b15673-1291-49b4-86ba-24825de68fb2"
      },
      "source": [
        "#-----------------------------------------------------------------------------------------------\n",
        "#----------------SCIKIT-LEARN REGRESSORE LINEARE APPLICATA A UN DATASET (DIABETES) -------------\n",
        "#-----------------------------------------------------------------------------------------------\n",
        "#--------------- Implementazione usando fit_intercept=True\n",
        "# Implementazione piú semplice da scrivere ma meno vicina alla logica matematica\n",
        "\n",
        "# Importare i datasets\n",
        "from sklearn import datasets\n",
        "import matplotlib.pyplot as plt\n",
        "plt.rcParams['figure.figsize'] = [15, 10]\n",
        "\n",
        "iris = datasets.load_iris() # Load iris dataset\n",
        "digits = datasets.load_digits() # Load digits dataset\n",
        "boston = datasets.load_boston() # Load boston dataset\n",
        "diabetes = datasets.load_diabetes() # Load diabetes dataset\n",
        "linnerud = datasets.load_linnerud() # Load linnerud dataset\n",
        "wine = datasets.load_wine() # Load wine dataset\n",
        "breast_cancer = datasets.load_breast_cancer() # Load breast_cancer dataset\n",
        "\n",
        "dataset_scelto = diabetes\n",
        "\n",
        "# Check the dataset diabetes\n",
        "#print(dataset_scelto)\n",
        "parametri = dataset_scelto.keys()\n",
        "valore = dataset_scelto.values()\n",
        "print(parametri)\n",
        "\n",
        "\n",
        "# Creiamo il regressore lineare\n",
        "# Esempio interessante: https://scikit-learn.org/stable/auto_examples/linear_model/plot_ols.html\n",
        "class LinearRegressor:\n",
        "    def __init__(self):\n",
        "      # Inizializzazione\n",
        "      self.reg = linear_model.LinearRegression(fit_intercept=True, normalize=False)\n",
        "    def train(self,X,Y):\n",
        "      # Estimate w0, w1 .. wN\n",
        "      self.reg.fit(X,Y)\n",
        "      return self.reg.coef_, self.reg.intercept_\n",
        "    def predict(self,X_test,coef_, intercept_):\n",
        "      Y_pred = self.reg.predict(X_test)\n",
        "      #Y_pred = np.dot(coef_, X_test.T) + intercept_\n",
        "      return Y_pred\n",
        "\n",
        "# Creiamoil dataset\n",
        "data = dataset_scelto['data'] \n",
        "target = dataset_scelto['target']\n",
        "X_train = data[:-20]\n",
        "Y_train = target[:-20]\n",
        "X_test = data[-20:]\n",
        "Y_test = target[-20:]\n",
        "\n",
        "print(\" X Train shape: \",X_train.shape)\n",
        "print(\"Y Train shape: \", Y_train.shape)\n",
        "\n",
        "# Creiamo Regressore Lineare\n",
        "myLinearRegressor = LinearRegressor()\n",
        "coef_, intercept_ = myLinearRegressor.train(X_train,Y_train)\n",
        "# Cosa vogliamo predirre\n",
        "Y_pred = myLinearRegressor.predict(X_test, coef_, intercept_)\n",
        "\n",
        "# Plot\n",
        "print(Y_test.shape)\n",
        "print(Y_pred.shape)\n",
        "length = Y_pred.shape[0] # 20\n",
        "index_bar = np.linspace(0,length,length)\n",
        "plt.plot(index_bar, Y_test, label='Test')\n",
        "plt.plot(index_bar, Y_pred, label='Prediction')\n",
        "plt.legend()"
      ],
      "execution_count": null,
      "outputs": [
        {
          "output_type": "stream",
          "text": [
            "dict_keys(['data', 'target', 'DESCR', 'feature_names', 'data_filename', 'target_filename'])\n",
            " X Train shape:  (422, 10)\n",
            "Y Train shape:  (422,)\n",
            "(20,)\n",
            "(20,)\n"
          ],
          "name": "stdout"
        },
        {
          "output_type": "execute_result",
          "data": {
            "text/plain": [
              "<matplotlib.legend.Legend at 0x7f4679f01d30>"
            ]
          },
          "metadata": {
            "tags": []
          },
          "execution_count": 20
        },
        {
          "output_type": "display_data",
          "data": {
            "image/png": "[encoded data removed]",
            "text/plain": [
              "<Figure size 1080x720 with 1 Axes>"
            ]
          },
          "metadata": {
            "tags": []
          }
        }
      ]
    },
    {
      "cell_type": "markdown",
      "metadata": {
        "id": "Ne-ZE_TcMPJm"
      },
      "source": [
        "## Esercizio Classi + Plotly"
      ]
    },
    {
      "cell_type": "code",
      "metadata": {
        "colab": {
          "base_uri": "https://localhost:8080/",
          "height": 686
        },
        "id": "DUZywhtfMTVu",
        "outputId": "3f46cc24-c23b-49ef-e32d-ff48df96e696"
      },
      "source": [
        "import numpy as np\n",
        "from sklearn import linear_model\n",
        "import plotly.graph_objects as go\n",
        "\n",
        "class myAlgorithm:\n",
        "    def __init__(self,param=1): #\n",
        "        # Funzione che viene chiamata nel momento in cui creo la classe\n",
        "        # Creo i dati\n",
        "        #self.XX= np.array([[1,19,150,6],[1,21,135,8], [1,22,160,5], [1,23,158,7], [1,26,155,7], [1,33,120,10],[1,29,130,9]])\n",
        "        self.XX= np.array([[19,150,6],[21,135,8], [22,160,5], [23,158,7], [26,155,7], [33,120,10],[29,130,9]])\n",
        "        self.YY= np.array([[1100],[1150],[1155],[1170],[1200],[1750],[1640]])\n",
        "        # Creo il modello\n",
        "        # self.regg = linear_model.LinearRegression(fit_intercept=True, normalize=False)\n",
        "        # self.regg = linear_model.TheilSenRegressor()\n",
        "        if param==1:\n",
        "            self.regg = linear_model.HuberRegressor()\n",
        "        else:\n",
        "            self.regg = linear_model.TheilSenRegressor()\n",
        "        print(\"Init Function\")\n",
        "\n",
        "    def train(self):\n",
        "        self.regg.fit(self.XX, self.YY)\n",
        "        print(\"Training\")\n",
        "\n",
        "    def predict(self,X):\n",
        "        Y_hat = self.regg.predict(X)\n",
        "        print(\"Prediction\")\n",
        "        return Y_hat\n",
        "    \n",
        "    def plot_train_results(self):\n",
        "        YY_hat = self.regg.predict(self.XX)\n",
        "        fig = go.Figure()\n",
        "        ynum = self.YY.shape[0]\n",
        "        x = np.linspace(0,ynum,ynum,dtype=int)\n",
        "        fig.add_trace(go.Scatter(x=x, y=self.YY.reshape(-1),mode='lines+markers', name=\"Y\"))\n",
        "        fig.add_trace(go.Scatter(x=x, y=YY_hat.reshape(-1),mode='lines+markers', name=\"Y_hat\"))\n",
        "        return fig\n",
        "\n",
        "ma = myAlgorithm(param=1)\n",
        "ma.train()\n",
        "fig = ma.plot_train_results()\n",
        "fig.show()\n",
        "\n",
        "# Giada\n",
        "X = np.array([[27, 230, 6]])\n",
        "print(ma.predict(X))"
      ],
      "execution_count": null,
      "outputs": [
        {
          "output_type": "stream",
          "text": [
            "Init Function\n",
            "Training\n"
          ],
          "name": "stdout"
        },
        {
          "output_type": "stream",
          "text": [
            "/usr/local/lib/python3.6/dist-packages/sklearn/utils/validation.py:760: DataConversionWarning:\n",
            "\n",
            "A column-vector y was passed when a 1d array was expected. Please change the shape of y to (n_samples, ), for example using ravel().\n",
            "\n"
          ],
          "name": "stderr"
        },
        {
          "output_type": "display_data",
          "data": {
            "text/html": [
              "<html>\n",
              "<head><meta charset=\"utf-8\" /></head>\n",
              "<body>\n",
              "    <div>\n",
              "            <script src=\"https://cdnjs.cloudflare.com/ajax/libs/mathjax/2.7.5/MathJax.js?config=TeX-AMS-MML_SVG\"></script><script type=\"text/javascript\">if (window.MathJax) {MathJax.Hub.Config({SVG: {font: \"STIX-Web\"}});}</script>\n",
              "                <script type=\"text/javascript\">window.PlotlyConfig = {MathJaxConfig: 'local'};</script>\n",
              "        <script src=\"https://cdn.plot.ly/plotly-latest.min.js\"></script>    \n",
              "            <div id=\"7984d62b-d4a4-40d6-a61b-b05a7800987c\" class=\"plotly-graph-div\" style=\"height:525px; width:100%;\"></div>\n",
              "            <script type=\"text/javascript\">\n",
              "                \n",
              "                    window.PLOTLYENV=window.PLOTLYENV || {};\n",
              "                    \n",
              "                if (document.getElementById(\"7984d62b-d4a4-40d6-a61b-b05a7800987c\")) {\n",
              "                    Plotly.newPlot(\n",
              "                        '7984d62b-d4a4-40d6-a61b-b05a7800987c',\n",
              "                        [{\"mode\": \"lines+markers\", \"name\": \"Y\", \"type\": \"scatter\", \"x\": [0, 1, 2, 3, 4, 5, 7], \"y\": [1100, 1150, 1155, 1170, 1200, 1750, 1640]}, {\"mode\": \"lines+markers\", \"name\": \"Y_hat\", \"type\": \"scatter\", \"x\": [0, 1, 2, 3, 4, 5, 7], \"y\": [1068.756037869261, 1194.3005086578364, 1162.298571345801, 1138.37973765748, 1295.1112260363657, 1761.2670448616411, 1545.8141325475203]}],\n",
              "                        {\"template\": {\"data\": {\"bar\": [{\"error_x\": {\"color\": \"#2a3f5f\"}, \"error_y\": {\"color\": \"#2a3f5f\"}, \"marker\": {\"line\": {\"color\": \"#E5ECF6\", \"width\": 0.5}}, \"type\": \"bar\"}], \"barpolar\": [{\"marker\": {\"line\": {\"color\": \"#E5ECF6\", \"width\": 0.5}}, \"type\": \"barpolar\"}], \"carpet\": [{\"aaxis\": {\"endlinecolor\": \"#2a3f5f\", \"gridcolor\": \"white\", \"linecolor\": \"white\", \"minorgridcolor\": \"white\", \"startlinecolor\": \"#2a3f5f\"}, \"baxis\": {\"endlinecolor\": \"#2a3f5f\", \"gridcolor\": \"white\", \"linecolor\": \"white\", \"minorgridcolor\": \"white\", \"startlinecolor\": \"#2a3f5f\"}, \"type\": \"carpet\"}], \"choropleth\": [{\"colorbar\": {\"outlinewidth\": 0, \"ticks\": \"\"}, \"type\": \"choropleth\"}], \"contour\": [{\"colorbar\": {\"outlinewidth\": 0, \"ticks\": \"\"}, \"colorscale\": [[0.0, \"#0d0887\"], [0.1111111111111111, \"#46039f\"], [0.2222222222222222, \"#7201a8\"], [0.3333333333333333, \"#9c179e\"], [0.4444444444444444, \"#bd3786\"], [0.5555555555555556, \"#d8576b\"], [0.6666666666666666, \"#ed7953\"], [0.7777777777777778, \"#fb9f3a\"], [0.8888888888888888, \"#fdca26\"], [1.0, \"#f0f921\"]], \"type\": \"contour\"}], \"contourcarpet\": [{\"colorbar\": {\"outlinewidth\": 0, \"ticks\": \"\"}, \"type\": \"contourcarpet\"}], \"heatmap\": [{\"colorbar\": {\"outlinewidth\": 0, \"ticks\": \"\"}, \"colorscale\": [[0.0, \"#0d0887\"], [0.1111111111111111, \"#46039f\"], [0.2222222222222222, \"#7201a8\"], [0.3333333333333333, \"#9c179e\"], [0.4444444444444444, \"#bd3786\"], [0.5555555555555556, \"#d8576b\"], [0.6666666666666666, \"#ed7953\"], [0.7777777777777778, \"#fb9f3a\"], [0.8888888888888888, \"#fdca26\"], [1.0, \"#f0f921\"]], \"type\": \"heatmap\"}], \"heatmapgl\": [{\"colorbar\": {\"outlinewidth\": 0, \"ticks\": \"\"}, \"colorscale\": [[0.0, \"#0d0887\"], [0.1111111111111111, \"#46039f\"], [0.2222222222222222, \"#7201a8\"], [0.3333333333333333, \"#9c179e\"], [0.4444444444444444, \"#bd3786\"], [0.5555555555555556, \"#d8576b\"], [0.6666666666666666, \"#ed7953\"], [0.7777777777777778, \"#fb9f3a\"], [0.8888888888888888, \"#fdca26\"], [1.0, \"#f0f921\"]], \"type\": \"heatmapgl\"}], \"histogram\": [{\"marker\": {\"colorbar\": {\"outlinewidth\": 0, \"ticks\": \"\"}}, \"type\": \"histogram\"}], \"histogram2d\": [{\"colorbar\": {\"outlinewidth\": 0, \"ticks\": \"\"}, \"colorscale\": [[0.0, \"#0d0887\"], [0.1111111111111111, \"#46039f\"], [0.2222222222222222, \"#7201a8\"], [0.3333333333333333, \"#9c179e\"], [0.4444444444444444, \"#bd3786\"], [0.5555555555555556, \"#d8576b\"], [0.6666666666666666, \"#ed7953\"], [0.7777777777777778, \"#fb9f3a\"], [0.8888888888888888, \"#fdca26\"], [1.0, \"#f0f921\"]], \"type\": \"histogram2d\"}], \"histogram2dcontour\": [{\"colorbar\": {\"outlinewidth\": 0, \"ticks\": \"\"}, \"colorscale\": [[0.0, \"#0d0887\"], [0.1111111111111111, \"#46039f\"], [0.2222222222222222, \"#7201a8\"], [0.3333333333333333, \"#9c179e\"], [0.4444444444444444, \"#bd3786\"], [0.5555555555555556, \"#d8576b\"], [0.6666666666666666, \"#ed7953\"], [0.7777777777777778, \"#fb9f3a\"], [0.8888888888888888, \"#fdca26\"], [1.0, \"#f0f921\"]], \"type\": \"histogram2dcontour\"}], \"mesh3d\": [{\"colorbar\": {\"outlinewidth\": 0, \"ticks\": \"\"}, \"type\": \"mesh3d\"}], \"parcoords\": [{\"line\": {\"colorbar\": {\"outlinewidth\": 0, \"ticks\": \"\"}}, \"type\": \"parcoords\"}], \"pie\": [{\"automargin\": true, \"type\": \"pie\"}], \"scatter\": [{\"marker\": {\"colorbar\": {\"outlinewidth\": 0, \"ticks\": \"\"}}, \"type\": \"scatter\"}], \"scatter3d\": [{\"line\": {\"colorbar\": {\"outlinewidth\": 0, \"ticks\": \"\"}}, \"marker\": {\"colorbar\": {\"outlinewidth\": 0, \"ticks\": \"\"}}, \"type\": \"scatter3d\"}], \"scattercarpet\": [{\"marker\": {\"colorbar\": {\"outlinewidth\": 0, \"ticks\": \"\"}}, \"type\": \"scattercarpet\"}], \"scattergeo\": [{\"marker\": {\"colorbar\": {\"outlinewidth\": 0, \"ticks\": \"\"}}, \"type\": \"scattergeo\"}], \"scattergl\": [{\"marker\": {\"colorbar\": {\"outlinewidth\": 0, \"ticks\": \"\"}}, \"type\": \"scattergl\"}], \"scattermapbox\": [{\"marker\": {\"colorbar\": {\"outlinewidth\": 0, \"ticks\": \"\"}}, \"type\": \"scattermapbox\"}], \"scatterpolar\": [{\"marker\": {\"colorbar\": {\"outlinewidth\": 0, \"ticks\": \"\"}}, \"type\": \"scatterpolar\"}], \"scatterpolargl\": [{\"marker\": {\"colorbar\": {\"outlinewidth\": 0, \"ticks\": \"\"}}, \"type\": \"scatterpolargl\"}], \"scatterternary\": [{\"marker\": {\"colorbar\": {\"outlinewidth\": 0, \"ticks\": \"\"}}, \"type\": \"scatterternary\"}], \"surface\": [{\"colorbar\": {\"outlinewidth\": 0, \"ticks\": \"\"}, \"colorscale\": [[0.0, \"#0d0887\"], [0.1111111111111111, \"#46039f\"], [0.2222222222222222, \"#7201a8\"], [0.3333333333333333, \"#9c179e\"], [0.4444444444444444, \"#bd3786\"], [0.5555555555555556, \"#d8576b\"], [0.6666666666666666, \"#ed7953\"], [0.7777777777777778, \"#fb9f3a\"], [0.8888888888888888, \"#fdca26\"], [1.0, \"#f0f921\"]], \"type\": \"surface\"}], \"table\": [{\"cells\": {\"fill\": {\"color\": \"#EBF0F8\"}, \"line\": {\"color\": \"white\"}}, \"header\": {\"fill\": {\"color\": \"#C8D4E3\"}, \"line\": {\"color\": \"white\"}}, \"type\": \"table\"}]}, \"layout\": {\"annotationdefaults\": {\"arrowcolor\": \"#2a3f5f\", \"arrowhead\": 0, \"arrowwidth\": 1}, \"coloraxis\": {\"colorbar\": {\"outlinewidth\": 0, \"ticks\": \"\"}}, \"colorscale\": {\"diverging\": [[0, \"#8e0152\"], [0.1, \"#c51b7d\"], [0.2, \"#de77ae\"], [0.3, \"#f1b6da\"], [0.4, \"#fde0ef\"], [0.5, \"#f7f7f7\"], [0.6, \"#e6f5d0\"], [0.7, \"#b8e186\"], [0.8, \"#7fbc41\"], [0.9, \"#4d9221\"], [1, \"#276419\"]], \"sequential\": [[0.0, \"#0d0887\"], [0.1111111111111111, \"#46039f\"], [0.2222222222222222, \"#7201a8\"], [0.3333333333333333, \"#9c179e\"], [0.4444444444444444, \"#bd3786\"], [0.5555555555555556, \"#d8576b\"], [0.6666666666666666, \"#ed7953\"], [0.7777777777777778, \"#fb9f3a\"], [0.8888888888888888, \"#fdca26\"], [1.0, \"#f0f921\"]], \"sequentialminus\": [[0.0, \"#0d0887\"], [0.1111111111111111, \"#46039f\"], [0.2222222222222222, \"#7201a8\"], [0.3333333333333333, \"#9c179e\"], [0.4444444444444444, \"#bd3786\"], [0.5555555555555556, \"#d8576b\"], [0.6666666666666666, \"#ed7953\"], [0.7777777777777778, \"#fb9f3a\"], [0.8888888888888888, \"#fdca26\"], [1.0, \"#f0f921\"]]}, \"colorway\": [\"#636efa\", \"#EF553B\", \"#00cc96\", \"#ab63fa\", \"#FFA15A\", \"#19d3f3\", \"#FF6692\", \"#B6E880\", \"#FF97FF\", \"#FECB52\"], \"font\": {\"color\": \"#2a3f5f\"}, \"geo\": {\"bgcolor\": \"white\", \"lakecolor\": \"white\", \"landcolor\": \"#E5ECF6\", \"showlakes\": true, \"showland\": true, \"subunitcolor\": \"white\"}, \"hoverlabel\": {\"align\": \"left\"}, \"hovermode\": \"closest\", \"mapbox\": {\"style\": \"light\"}, \"paper_bgcolor\": \"white\", \"plot_bgcolor\": \"#E5ECF6\", \"polar\": {\"angularaxis\": {\"gridcolor\": \"white\", \"linecolor\": \"white\", \"ticks\": \"\"}, \"bgcolor\": \"#E5ECF6\", \"radialaxis\": {\"gridcolor\": \"white\", \"linecolor\": \"white\", \"ticks\": \"\"}}, \"scene\": {\"xaxis\": {\"backgroundcolor\": \"#E5ECF6\", \"gridcolor\": \"white\", \"gridwidth\": 2, \"linecolor\": \"white\", \"showbackground\": true, \"ticks\": \"\", \"zerolinecolor\": \"white\"}, \"yaxis\": {\"backgroundcolor\": \"#E5ECF6\", \"gridcolor\": \"white\", \"gridwidth\": 2, \"linecolor\": \"white\", \"showbackground\": true, \"ticks\": \"\", \"zerolinecolor\": \"white\"}, \"zaxis\": {\"backgroundcolor\": \"#E5ECF6\", \"gridcolor\": \"white\", \"gridwidth\": 2, \"linecolor\": \"white\", \"showbackground\": true, \"ticks\": \"\", \"zerolinecolor\": \"white\"}}, \"shapedefaults\": {\"line\": {\"color\": \"#2a3f5f\"}}, \"ternary\": {\"aaxis\": {\"gridcolor\": \"white\", \"linecolor\": \"white\", \"ticks\": \"\"}, \"baxis\": {\"gridcolor\": \"white\", \"linecolor\": \"white\", \"ticks\": \"\"}, \"bgcolor\": \"#E5ECF6\", \"caxis\": {\"gridcolor\": \"white\", \"linecolor\": \"white\", \"ticks\": \"\"}}, \"title\": {\"x\": 0.05}, \"xaxis\": {\"automargin\": true, \"gridcolor\": \"white\", \"linecolor\": \"white\", \"ticks\": \"\", \"title\": {\"standoff\": 15}, \"zerolinecolor\": \"white\", \"zerolinewidth\": 2}, \"yaxis\": {\"automargin\": true, \"gridcolor\": \"white\", \"linecolor\": \"white\", \"ticks\": \"\", \"title\": {\"standoff\": 15}, \"zerolinecolor\": \"white\", \"zerolinewidth\": 2}}}},\n",
              "                        {\"responsive\": true}\n",
              "                    ).then(function(){\n",
              "                            \n",
              "var gd = document.getElementById('7984d62b-d4a4-40d6-a61b-b05a7800987c');\n",
              "var x = new MutationObserver(function (mutations, observer) {{\n",
              "        var display = window.getComputedStyle(gd).display;\n",
              "        if (!display || display === 'none') {{\n",
              "            console.log([gd, 'removed!']);\n",
              "            Plotly.purge(gd);\n",
              "            observer.disconnect();\n",
              "        }}\n",
              "}});\n",
              "\n",
              "// Listen for the removal of the full notebook cells\n",
              "var notebookContainer = gd.closest('#notebook-container');\n",
              "if (notebookContainer) {{\n",
              "    x.observe(notebookContainer, {childList: true});\n",
              "}}\n",
              "\n",
              "// Listen for the clearing of the current output cell\n",
              "var outputEl = gd.closest('.output');\n",
              "if (outputEl) {{\n",
              "    x.observe(outputEl, {childList: true});\n",
              "}}\n",
              "\n",
              "                        })\n",
              "                };\n",
              "                \n",
              "            </script>\n",
              "        </div>\n",
              "</body>\n",
              "</html>"
            ]
          },
          "metadata": {
            "tags": []
          }
        },
        {
          "output_type": "stream",
          "text": [
            "Prediction\n",
            "[773.76385675]\n"
          ],
          "name": "stdout"
        }
      ]
    },
    {
      "cell_type": "markdown",
      "metadata": {
        "id": "vOxRdnvijeYk"
      },
      "source": [
        "## Come generare pdf da google-colab"
      ]
    },
    {
      "cell_type": "code",
      "metadata": {
        "id": "8kLDyT5ujZ2s",
        "colab": {
          "base_uri": "https://localhost:8080/",
          "height": 1000
        },
        "outputId": "b624c02f-1ca0-467f-c5ea-5fc86dfaf1a5"
      },
      "source": [
        "# Install the necessary packages into the virtual machine with:\n",
        "!apt-get install texlive texlive-xetex texlive-latex-extra pandoc\n",
        "!pip install pypandoc\n"
      ],
      "execution_count": null,
      "outputs": [
        {
          "output_type": "stream",
          "text": [
            "Reading package lists... Done\n",
            "Building dependency tree       \n",
            "Reading state information... Done\n",
            "pandoc is already the newest version (1.19.2.4~dfsg-1build4).\n",
            "pandoc set to manually installed.\n",
            "The following packages were automatically installed and are no longer required:\n",
            "  cuda-cufft-10-1 cuda-cufft-dev-10-1 cuda-curand-10-1 cuda-curand-dev-10-1\n",
            "  cuda-cusolver-10-1 cuda-cusolver-dev-10-1 cuda-cusparse-10-1\n",
            "  cuda-cusparse-dev-10-1 cuda-drivers cuda-license-10-2 cuda-npp-10-1\n",
            "  cuda-npp-dev-10-1 cuda-nsight-10-1 cuda-nsight-compute-10-1\n",
            "  cuda-nsight-systems-10-1 cuda-nvgraph-10-1 cuda-nvgraph-dev-10-1\n",
            "  cuda-nvjpeg-10-1 cuda-nvjpeg-dev-10-1 cuda-nvrtc-10-1 cuda-nvrtc-dev-10-1\n",
            "  cuda-nvvp-10-1 default-jre dkms freeglut3 freeglut3-dev\n",
            "  keyboard-configuration libargon2-0 libcap2 libcryptsetup12 libcublas10\n",
            "  libdevmapper1.02.1 libfontenc1 libgtk2.0-0 libgtk2.0-common libip4tc0\n",
            "  libjansson4 libnvidia-cfg1-440 libnvidia-common-430 libnvidia-common-440\n",
            "  libnvidia-decode-440 libnvidia-encode-440 libnvidia-fbc1-440\n",
            "  libnvidia-gl-440 libnvidia-ifr1-440 libpam-systemd libpolkit-agent-1-0\n",
            "  libpolkit-backend-1-0 libpolkit-gobject-1-0 libxfont2 libxi-dev libxkbfile1\n",
            "  libxmu-dev libxmu-headers libxnvctrl0 nsight-compute-2019.5.0\n",
            "  nsight-systems-2019.5.2 nvidia-compute-utils-440 nvidia-dkms-440\n",
            "  nvidia-driver-440 nvidia-kernel-common-440 nvidia-kernel-source-440\n",
            "  nvidia-modprobe nvidia-settings nvidia-utils-440 openjdk-11-jre policykit-1\n",
            "  policykit-1-gnome python3-xkit screen-resolution-extra systemd systemd-sysv\n",
            "  udev x11-xkb-utils xserver-common xserver-xorg-core-hwe-18.04\n",
            "  xserver-xorg-video-nvidia-440\n",
            "Use 'apt autoremove' to remove them.\n",
            "The following additional packages will be installed:\n",
            "  fonts-droid-fallback fonts-lato fonts-lmodern fonts-noto-mono fonts-texgyre\n",
            "  libcupsfilters1 libcupsimage2 libgs9 libgs9-common libijs-0.35 libjbig2dec0\n",
            "  libkpathsea6 libpotrace0 libptexenc1 libruby2.5 libsynctex1 libtexlua52\n",
            "  libtexluajit2 libzzip-0-13 lmodern poppler-data preview-latex-style rake\n",
            "  ruby ruby-did-you-mean ruby-minitest ruby-net-telnet ruby-power-assert\n",
            "  ruby-test-unit ruby2.5 rubygems-integration t1utils tex-common tex-gyre\n",
            "  texlive-base texlive-binaries texlive-fonts-recommended texlive-latex-base\n",
            "  texlive-latex-recommended texlive-pictures texlive-plain-generic tipa\n",
            "Suggested packages:\n",
            "  fonts-noto poppler-utils ghostscript fonts-japanese-mincho\n",
            "  | fonts-ipafont-mincho fonts-japanese-gothic | fonts-ipafont-gothic\n",
            "  fonts-arphic-ukai fonts-arphic-uming fonts-nanum ri ruby-dev bundler\n",
            "  debhelper gv | postscript-viewer perl-tk xpdf-reader | pdf-viewer\n",
            "  texlive-fonts-recommended-doc texlive-latex-base-doc python-pygments\n",
            "  icc-profiles libfile-which-perl libspreadsheet-parseexcel-perl\n",
            "  texlive-latex-extra-doc texlive-latex-recommended-doc texlive-pstricks\n",
            "  dot2tex prerex ruby-tcltk | libtcltk-ruby texlive-pictures-doc vprerex\n",
            "The following NEW packages will be installed:\n",
            "  fonts-droid-fallback fonts-lato fonts-lmodern fonts-noto-mono fonts-texgyre\n",
            "  libcupsfilters1 libcupsimage2 libgs9 libgs9-common libijs-0.35 libjbig2dec0\n",
            "  libkpathsea6 libpotrace0 libptexenc1 libruby2.5 libsynctex1 libtexlua52\n",
            "  libtexluajit2 libzzip-0-13 lmodern poppler-data preview-latex-style rake\n",
            "  ruby ruby-did-you-mean ruby-minitest ruby-net-telnet ruby-power-assert\n",
            "  ruby-test-unit ruby2.5 rubygems-integration t1utils tex-common tex-gyre\n",
            "  texlive texlive-base texlive-binaries texlive-fonts-recommended\n",
            "  texlive-latex-base texlive-latex-extra texlive-latex-recommended\n",
            "  texlive-pictures texlive-plain-generic texlive-xetex tipa\n",
            "0 upgraded, 45 newly installed, 0 to remove and 5 not upgraded.\n",
            "Need to get 146 MB of archives.\n",
            "After this operation, 459 MB of additional disk space will be used.\n",
            "Get:1 http://archive.ubuntu.com/ubuntu bionic/main amd64 fonts-droid-fallback all 1:6.0.1r16-1.1 [1,805 kB]\n",
            "Get:2 http://archive.ubuntu.com/ubuntu bionic/main amd64 fonts-lato all 2.0-2 [2,698 kB]\n",
            "Get:3 http://archive.ubuntu.com/ubuntu bionic/main amd64 poppler-data all 0.4.8-2 [1,479 kB]\n",
            "Get:4 http://archive.ubuntu.com/ubuntu bionic/main amd64 tex-common all 6.09 [33.0 kB]\n",
            "Get:5 http://archive.ubuntu.com/ubuntu bionic/main amd64 fonts-lmodern all 2.004.5-3 [4,551 kB]\n",
            "Get:6 http://archive.ubuntu.com/ubuntu bionic/main amd64 fonts-noto-mono all 20171026-2 [75.5 kB]\n",
            "Get:7 http://archive.ubuntu.com/ubuntu bionic/universe amd64 fonts-texgyre all 20160520-1 [8,761 kB]\n",
            "Get:8 http://archive.ubuntu.com/ubuntu bionic-updates/main amd64 libcupsfilters1 amd64 1.20.2-0ubuntu3.1 [108 kB]\n",
            "Get:9 http://archive.ubuntu.com/ubuntu bionic-updates/main amd64 libcupsimage2 amd64 2.2.7-1ubuntu2.7 [18.6 kB]\n",
            "Get:10 http://archive.ubuntu.com/ubuntu bionic/main amd64 libijs-0.35 amd64 0.35-13 [15.5 kB]\n",
            "Get:11 http://archive.ubuntu.com/ubuntu bionic/main amd64 libjbig2dec0 amd64 0.13-6 [55.9 kB]\n",
            "Get:12 http://archive.ubuntu.com/ubuntu bionic-updates/main amd64 libgs9-common all 9.26~dfsg+0-0ubuntu0.18.04.12 [5,092 kB]\n",
            "Get:13 http://archive.ubuntu.com/ubuntu bionic-updates/main amd64 libgs9 amd64 9.26~dfsg+0-0ubuntu0.18.04.12 [2,264 kB]\n",
            "Get:14 http://archive.ubuntu.com/ubuntu bionic-updates/main amd64 libkpathsea6 amd64 2017.20170613.44572-8ubuntu0.1 [54.9 kB]\n",
            "Get:15 http://archive.ubuntu.com/ubuntu bionic/main amd64 libpotrace0 amd64 1.14-2 [17.4 kB]\n",
            "Get:16 http://archive.ubuntu.com/ubuntu bionic-updates/main amd64 libptexenc1 amd64 2017.20170613.44572-8ubuntu0.1 [34.5 kB]\n",
            "Get:17 http://archive.ubuntu.com/ubuntu bionic/main amd64 rubygems-integration all 1.11 [4,994 B]\n",
            "Get:18 http://archive.ubuntu.com/ubuntu bionic-updates/main amd64 ruby2.5 amd64 2.5.1-1ubuntu1.6 [48.6 kB]\n",
            "Get:19 http://archive.ubuntu.com/ubuntu bionic/main amd64 ruby amd64 1:2.5.1 [5,712 B]\n",
            "Get:20 http://archive.ubuntu.com/ubuntu bionic/main amd64 rake all 12.3.1-1 [45.1 kB]\n",
            "Get:21 http://archive.ubuntu.com/ubuntu bionic/main amd64 ruby-did-you-mean all 1.2.0-2 [9,700 B]\n",
            "Get:22 http://archive.ubuntu.com/ubuntu bionic/main amd64 ruby-minitest all 5.10.3-1 [38.6 kB]\n",
            "Get:23 http://archive.ubuntu.com/ubuntu bionic/main amd64 ruby-net-telnet all 0.1.1-2 [12.6 kB]\n",
            "Get:24 http://archive.ubuntu.com/ubuntu bionic/main amd64 ruby-power-assert all 0.3.0-1 [7,952 B]\n",
            "Get:25 http://archive.ubuntu.com/ubuntu bionic/main amd64 ruby-test-unit all 3.2.5-1 [61.1 kB]\n",
            "Get:26 http://archive.ubuntu.com/ubuntu bionic-updates/main amd64 libruby2.5 amd64 2.5.1-1ubuntu1.6 [3,069 kB]\n",
            "Get:27 http://archive.ubuntu.com/ubuntu bionic-updates/main amd64 libsynctex1 amd64 2017.20170613.44572-8ubuntu0.1 [41.4 kB]\n",
            "Get:28 http://archive.ubuntu.com/ubuntu bionic-updates/main amd64 libtexlua52 amd64 2017.20170613.44572-8ubuntu0.1 [91.2 kB]\n",
            "Get:29 http://archive.ubuntu.com/ubuntu bionic-updates/main amd64 libtexluajit2 amd64 2017.20170613.44572-8ubuntu0.1 [230 kB]\n",
            "Get:30 http://archive.ubuntu.com/ubuntu bionic-updates/main amd64 libzzip-0-13 amd64 0.13.62-3.1ubuntu0.18.04.1 [26.0 kB]\n",
            "Get:31 http://archive.ubuntu.com/ubuntu bionic/main amd64 lmodern all 2.004.5-3 [9,631 kB]\n",
            "Get:32 http://archive.ubuntu.com/ubuntu bionic/main amd64 preview-latex-style all 11.91-1ubuntu1 [185 kB]\n",
            "Get:33 http://archive.ubuntu.com/ubuntu bionic/main amd64 t1utils amd64 1.41-2 [56.0 kB]\n",
            "Get:34 http://archive.ubuntu.com/ubuntu bionic/universe amd64 tex-gyre all 20160520-1 [4,998 kB]\n",
            "Get:35 http://archive.ubuntu.com/ubuntu bionic-updates/main amd64 texlive-binaries amd64 2017.20170613.44572-8ubuntu0.1 [8,179 kB]\n",
            "Get:36 http://archive.ubuntu.com/ubuntu bionic/main amd64 texlive-base all 2017.20180305-1 [18.7 MB]\n",
            "Get:37 http://archive.ubuntu.com/ubuntu bionic/universe amd64 texlive-fonts-recommended all 2017.20180305-1 [5,262 kB]\n",
            "Get:38 http://archive.ubuntu.com/ubuntu bionic/main amd64 texlive-latex-base all 2017.20180305-1 [951 kB]\n",
            "Get:39 http://archive.ubuntu.com/ubuntu bionic/main amd64 texlive-latex-recommended all 2017.20180305-1 [14.9 MB]\n",
            "Get:40 http://archive.ubuntu.com/ubuntu bionic/universe amd64 texlive all 2017.20180305-1 [14.4 kB]\n",
            "Get:41 http://archive.ubuntu.com/ubuntu bionic/universe amd64 texlive-pictures all 2017.20180305-1 [4,026 kB]\n",
            "Get:42 http://archive.ubuntu.com/ubuntu bionic/universe amd64 texlive-latex-extra all 2017.20180305-2 [10.6 MB]\n",
            "Get:43 http://archive.ubuntu.com/ubuntu bionic/universe amd64 texlive-plain-generic all 2017.20180305-2 [23.6 MB]\n",
            "Get:44 http://archive.ubuntu.com/ubuntu bionic/universe amd64 tipa all 2:1.3-20 [2,978 kB]\n",
            "Get:45 http://archive.ubuntu.com/ubuntu bionic/universe amd64 texlive-xetex all 2017.20180305-1 [10.7 MB]\n",
            "Fetched 146 MB in 11s (13.2 MB/s)\n",
            "Extracting templates from packages: 100%\n",
            "Preconfiguring packages ...\n",
            "Selecting previously unselected package fonts-droid-fallback.\n",
            "(Reading database ... 125048 files and directories currently installed.)\n",
            "Preparing to unpack .../00-fonts-droid-fallback_1%3a6.0.1r16-1.1_all.deb ...\n",
            "Unpacking fonts-droid-fallback (1:6.0.1r16-1.1) ...\n",
            "Selecting previously unselected package fonts-lato.\n",
            "Preparing to unpack .../01-fonts-lato_2.0-2_all.deb ...\n",
            "Unpacking fonts-lato (2.0-2) ...\n",
            "Selecting previously unselected package poppler-data.\n",
            "Preparing to unpack .../02-poppler-data_0.4.8-2_all.deb ...\n",
            "Unpacking poppler-data (0.4.8-2) ...\n",
            "Selecting previously unselected package tex-common.\n",
            "Preparing to unpack .../03-tex-common_6.09_all.deb ...\n",
            "Unpacking tex-common (6.09) ...\n",
            "Selecting previously unselected package fonts-lmodern.\n",
            "Preparing to unpack .../04-fonts-lmodern_2.004.5-3_all.deb ...\n",
            "Unpacking fonts-lmodern (2.004.5-3) ...\n",
            "Selecting previously unselected package fonts-noto-mono.\n",
            "Preparing to unpack .../05-fonts-noto-mono_20171026-2_all.deb ...\n",
            "Unpacking fonts-noto-mono (20171026-2) ...\n",
            "Selecting previously unselected package fonts-texgyre.\n",
            "Preparing to unpack .../06-fonts-texgyre_20160520-1_all.deb ...\n",
            "Unpacking fonts-texgyre (20160520-1) ...\n",
            "Selecting previously unselected package libcupsfilters1:amd64.\n",
            "Preparing to unpack .../07-libcupsfilters1_1.20.2-0ubuntu3.1_amd64.deb ...\n",
            "Unpacking libcupsfilters1:amd64 (1.20.2-0ubuntu3.1) ...\n",
            "Selecting previously unselected package libcupsimage2:amd64.\n",
            "Preparing to unpack .../08-libcupsimage2_2.2.7-1ubuntu2.7_amd64.deb ...\n",
            "Unpacking libcupsimage2:amd64 (2.2.7-1ubuntu2.7) ...\n",
            "Selecting previously unselected package libijs-0.35:amd64.\n",
            "Preparing to unpack .../09-libijs-0.35_0.35-13_amd64.deb ...\n",
            "Unpacking libijs-0.35:amd64 (0.35-13) ...\n",
            "Selecting previously unselected package libjbig2dec0:amd64.\n",
            "Preparing to unpack .../10-libjbig2dec0_0.13-6_amd64.deb ...\n",
            "Unpacking libjbig2dec0:amd64 (0.13-6) ...\n",
            "Selecting previously unselected package libgs9-common.\n",
            "Preparing to unpack .../11-libgs9-common_9.26~dfsg+0-0ubuntu0.18.04.12_all.deb ...\n",
            "Unpacking libgs9-common (9.26~dfsg+0-0ubuntu0.18.04.12) ...\n",
            "Selecting previously unselected package libgs9:amd64.\n",
            "Preparing to unpack .../12-libgs9_9.26~dfsg+0-0ubuntu0.18.04.12_amd64.deb ...\n",
            "Unpacking libgs9:amd64 (9.26~dfsg+0-0ubuntu0.18.04.12) ...\n",
            "Selecting previously unselected package libkpathsea6:amd64.\n",
            "Preparing to unpack .../13-libkpathsea6_2017.20170613.44572-8ubuntu0.1_amd64.deb ...\n",
            "Unpacking libkpathsea6:amd64 (2017.20170613.44572-8ubuntu0.1) ...\n",
            "Selecting previously unselected package libpotrace0.\n",
            "Preparing to unpack .../14-libpotrace0_1.14-2_amd64.deb ...\n",
            "Unpacking libpotrace0 (1.14-2) ...\n",
            "Selecting previously unselected package libptexenc1:amd64.\n",
            "Preparing to unpack .../15-libptexenc1_2017.20170613.44572-8ubuntu0.1_amd64.deb ...\n",
            "Unpacking libptexenc1:amd64 (2017.20170613.44572-8ubuntu0.1) ...\n",
            "Selecting previously unselected package rubygems-integration.\n",
            "Preparing to unpack .../16-rubygems-integration_1.11_all.deb ...\n",
            "Unpacking rubygems-integration (1.11) ...\n",
            "Selecting previously unselected package ruby2.5.\n",
            "Preparing to unpack .../17-ruby2.5_2.5.1-1ubuntu1.6_amd64.deb ...\n",
            "Unpacking ruby2.5 (2.5.1-1ubuntu1.6) ...\n",
            "Selecting previously unselected package ruby.\n",
            "Preparing to unpack .../18-ruby_1%3a2.5.1_amd64.deb ...\n",
            "Unpacking ruby (1:2.5.1) ...\n",
            "Selecting previously unselected package rake.\n",
            "Preparing to unpack .../19-rake_12.3.1-1_all.deb ...\n",
            "Unpacking rake (12.3.1-1) ...\n",
            "Selecting previously unselected package ruby-did-you-mean.\n",
            "Preparing to unpack .../20-ruby-did-you-mean_1.2.0-2_all.deb ...\n",
            "Unpacking ruby-did-you-mean (1.2.0-2) ...\n",
            "Selecting previously unselected package ruby-minitest.\n",
            "Preparing to unpack .../21-ruby-minitest_5.10.3-1_all.deb ...\n",
            "Unpacking ruby-minitest (5.10.3-1) ...\n",
            "Selecting previously unselected package ruby-net-telnet.\n",
            "Preparing to unpack .../22-ruby-net-telnet_0.1.1-2_all.deb ...\n",
            "Unpacking ruby-net-telnet (0.1.1-2) ...\n",
            "Selecting previously unselected package ruby-power-assert.\n",
            "Preparing to unpack .../23-ruby-power-assert_0.3.0-1_all.deb ...\n",
            "Unpacking ruby-power-assert (0.3.0-1) ...\n",
            "Selecting previously unselected package ruby-test-unit.\n",
            "Preparing to unpack .../24-ruby-test-unit_3.2.5-1_all.deb ...\n",
            "Unpacking ruby-test-unit (3.2.5-1) ...\n",
            "Selecting previously unselected package libruby2.5:amd64.\n",
            "Preparing to unpack .../25-libruby2.5_2.5.1-1ubuntu1.6_amd64.deb ...\n",
            "Unpacking libruby2.5:amd64 (2.5.1-1ubuntu1.6) ...\n",
            "Selecting previously unselected package libsynctex1:amd64.\n",
            "Preparing to unpack .../26-libsynctex1_2017.20170613.44572-8ubuntu0.1_amd64.deb ...\n",
            "Unpacking libsynctex1:amd64 (2017.20170613.44572-8ubuntu0.1) ...\n",
            "Selecting previously unselected package libtexlua52:amd64.\n",
            "Preparing to unpack .../27-libtexlua52_2017.20170613.44572-8ubuntu0.1_amd64.deb ...\n",
            "Unpacking libtexlua52:amd64 (2017.20170613.44572-8ubuntu0.1) ...\n",
            "Selecting previously unselected package libtexluajit2:amd64.\n",
            "Preparing to unpack .../28-libtexluajit2_2017.20170613.44572-8ubuntu0.1_amd64.deb ...\n",
            "Unpacking libtexluajit2:amd64 (2017.20170613.44572-8ubuntu0.1) ...\n",
            "Selecting previously unselected package libzzip-0-13:amd64.\n",
            "Preparing to unpack .../29-libzzip-0-13_0.13.62-3.1ubuntu0.18.04.1_amd64.deb ...\n",
            "Unpacking libzzip-0-13:amd64 (0.13.62-3.1ubuntu0.18.04.1) ...\n",
            "Selecting previously unselected package lmodern.\n",
            "Preparing to unpack .../30-lmodern_2.004.5-3_all.deb ...\n",
            "Unpacking lmodern (2.004.5-3) ...\n",
            "Selecting previously unselected package preview-latex-style.\n",
            "Preparing to unpack .../31-preview-latex-style_11.91-1ubuntu1_all.deb ...\n",
            "Unpacking preview-latex-style (11.91-1ubuntu1) ...\n",
            "Selecting previously unselected package t1utils.\n",
            "Preparing to unpack .../32-t1utils_1.41-2_amd64.deb ...\n",
            "Unpacking t1utils (1.41-2) ...\n",
            "Selecting previously unselected package tex-gyre.\n",
            "Preparing to unpack .../33-tex-gyre_20160520-1_all.deb ...\n",
            "Unpacking tex-gyre (20160520-1) ...\n",
            "Selecting previously unselected package texlive-binaries.\n",
            "Preparing to unpack .../34-texlive-binaries_2017.20170613.44572-8ubuntu0.1_amd64.deb ...\n",
            "Unpacking texlive-binaries (2017.20170613.44572-8ubuntu0.1) ...\n",
            "Selecting previously unselected package texlive-base.\n",
            "Preparing to unpack .../35-texlive-base_2017.20180305-1_all.deb ...\n",
            "Unpacking texlive-base (2017.20180305-1) ...\n",
            "Selecting previously unselected package texlive-fonts-recommended.\n",
            "Preparing to unpack .../36-texlive-fonts-recommended_2017.20180305-1_all.deb ...\n",
            "Unpacking texlive-fonts-recommended (2017.20180305-1) ...\n",
            "Selecting previously unselected package texlive-latex-base.\n",
            "Preparing to unpack .../37-texlive-latex-base_2017.20180305-1_all.deb ...\n",
            "Unpacking texlive-latex-base (2017.20180305-1) ...\n",
            "Selecting previously unselected package texlive-latex-recommended.\n",
            "Preparing to unpack .../38-texlive-latex-recommended_2017.20180305-1_all.deb ...\n",
            "Unpacking texlive-latex-recommended (2017.20180305-1) ...\n",
            "Selecting previously unselected package texlive.\n",
            "Preparing to unpack .../39-texlive_2017.20180305-1_all.deb ...\n",
            "Unpacking texlive (2017.20180305-1) ...\n",
            "Selecting previously unselected package texlive-pictures.\n",
            "Preparing to unpack .../40-texlive-pictures_2017.20180305-1_all.deb ...\n",
            "Unpacking texlive-pictures (2017.20180305-1) ...\n",
            "Selecting previously unselected package texlive-latex-extra.\n",
            "Preparing to unpack .../41-texlive-latex-extra_2017.20180305-2_all.deb ...\n",
            "Unpacking texlive-latex-extra (2017.20180305-2) ...\n",
            "Selecting previously unselected package texlive-plain-generic.\n",
            "Preparing to unpack .../42-texlive-plain-generic_2017.20180305-2_all.deb ...\n",
            "Unpacking texlive-plain-generic (2017.20180305-2) ...\n",
            "Selecting previously unselected package tipa.\n",
            "Preparing to unpack .../43-tipa_2%3a1.3-20_all.deb ...\n",
            "Unpacking tipa (2:1.3-20) ...\n",
            "Selecting previously unselected package texlive-xetex.\n",
            "Preparing to unpack .../44-texlive-xetex_2017.20180305-1_all.deb ...\n",
            "Unpacking texlive-xetex (2017.20180305-1) ...\n",
            "Setting up libgs9-common (9.26~dfsg+0-0ubuntu0.18.04.12) ...\n",
            "Setting up libkpathsea6:amd64 (2017.20170613.44572-8ubuntu0.1) ...\n",
            "Setting up libtexlua52:amd64 (2017.20170613.44572-8ubuntu0.1) ...\n",
            "Setting up fonts-droid-fallback (1:6.0.1r16-1.1) ...\n",
            "Setting up libsynctex1:amd64 (2017.20170613.44572-8ubuntu0.1) ...\n",
            "Setting up libptexenc1:amd64 (2017.20170613.44572-8ubuntu0.1) ...\n",
            "Setting up tex-common (6.09) ...\n",
            "update-language: texlive-base not installed and configured, doing nothing!\n",
            "Setting up poppler-data (0.4.8-2) ...\n",
            "Setting up tex-gyre (20160520-1) ...\n",
            "Setting up preview-latex-style (11.91-1ubuntu1) ...\n",
            "Setting up fonts-texgyre (20160520-1) ...\n",
            "Setting up fonts-noto-mono (20171026-2) ...\n",
            "Setting up fonts-lato (2.0-2) ...\n",
            "Setting up libcupsfilters1:amd64 (1.20.2-0ubuntu3.1) ...\n",
            "Setting up libcupsimage2:amd64 (2.2.7-1ubuntu2.7) ...\n",
            "Setting up libjbig2dec0:amd64 (0.13-6) ...\n",
            "Setting up ruby-did-you-mean (1.2.0-2) ...\n",
            "Setting up t1utils (1.41-2) ...\n",
            "Setting up ruby-net-telnet (0.1.1-2) ...\n",
            "Setting up libijs-0.35:amd64 (0.35-13) ...\n",
            "Setting up rubygems-integration (1.11) ...\n",
            "Setting up libpotrace0 (1.14-2) ...\n",
            "Setting up ruby-minitest (5.10.3-1) ...\n",
            "Setting up libzzip-0-13:amd64 (0.13.62-3.1ubuntu0.18.04.1) ...\n",
            "Setting up libgs9:amd64 (9.26~dfsg+0-0ubuntu0.18.04.12) ...\n",
            "Setting up libtexluajit2:amd64 (2017.20170613.44572-8ubuntu0.1) ...\n",
            "Setting up fonts-lmodern (2.004.5-3) ...\n",
            "Setting up ruby-power-assert (0.3.0-1) ...\n",
            "Setting up texlive-binaries (2017.20170613.44572-8ubuntu0.1) ...\n",
            "update-alternatives: using /usr/bin/xdvi-xaw to provide /usr/bin/xdvi.bin (xdvi.bin) in auto mode\n",
            "update-alternatives: using /usr/bin/bibtex.original to provide /usr/bin/bibtex (bibtex) in auto mode\n",
            "Setting up texlive-base (2017.20180305-1) ...\n",
            "mktexlsr: Updating /var/lib/texmf/ls-R-TEXLIVEDIST... \n",
            "mktexlsr: Updating /var/lib/texmf/ls-R-TEXMFMAIN... \n",
            "mktexlsr: Updating /var/lib/texmf/ls-R... \n",
            "mktexlsr: Done.\n",
            "tl-paper: setting paper size for dvips to a4: /var/lib/texmf/dvips/config/config-paper.ps\n",
            "tl-paper: setting paper size for dvipdfmx to a4: /var/lib/texmf/dvipdfmx/dvipdfmx-paper.cfg\n",
            "tl-paper: setting paper size for xdvi to a4: /var/lib/texmf/xdvi/XDvi-paper\n",
            "tl-paper: setting paper size for pdftex to a4: /var/lib/texmf/tex/generic/config/pdftexconfig.tex\n",
            "Setting up texlive-fonts-recommended (2017.20180305-1) ...\n",
            "Setting up texlive-plain-generic (2017.20180305-2) ...\n",
            "Setting up texlive-latex-base (2017.20180305-1) ...\n",
            "Setting up lmodern (2.004.5-3) ...\n",
            "Setting up texlive-latex-recommended (2017.20180305-1) ...\n",
            "Setting up texlive-pictures (2017.20180305-1) ...\n",
            "Setting up tipa (2:1.3-20) ...\n",
            "Regenerating '/var/lib/texmf/fmtutil.cnf-DEBIAN'... done.\n",
            "Regenerating '/var/lib/texmf/fmtutil.cnf-TEXLIVEDIST'... done.\n",
            "update-fmtutil has updated the following file(s):\n",
            "\t/var/lib/texmf/fmtutil.cnf-DEBIAN\n",
            "\t/var/lib/texmf/fmtutil.cnf-TEXLIVEDIST\n",
            "If you want to activate the changes in the above file(s),\n",
            "you should run fmtutil-sys or fmtutil.\n",
            "Setting up texlive (2017.20180305-1) ...\n",
            "Setting up texlive-latex-extra (2017.20180305-2) ...\n",
            "Setting up texlive-xetex (2017.20180305-1) ...\n",
            "Setting up ruby2.5 (2.5.1-1ubuntu1.6) ...\n",
            "Setting up ruby (1:2.5.1) ...\n",
            "Setting up ruby-test-unit (3.2.5-1) ...\n",
            "Setting up rake (12.3.1-1) ...\n",
            "Setting up libruby2.5:amd64 (2.5.1-1ubuntu1.6) ...\n",
            "Processing triggers for mime-support (3.60ubuntu1) ...\n",
            "Processing triggers for libc-bin (2.27-3ubuntu1) ...\n",
            "Processing triggers for man-db (2.8.3-2ubuntu0.1) ...\n",
            "Processing triggers for fontconfig (2.12.6-0ubuntu2) ...\n",
            "Processing triggers for tex-common (6.09) ...\n",
            "Running updmap-sys. This may take some time... done.\n",
            "Running mktexlsr /var/lib/texmf ... done.\n",
            "Building format(s) --all.\n",
            "\tThis may take some time... done.\n",
            "Collecting pypandoc\n",
            "  Downloading https://files.pythonhosted.org/packages/71/81/00184643e5a10a456b4118fc12c96780823adb8ed974eb2289f29703b29b/pypandoc-1.4.tar.gz\n",
            "Requirement already satisfied: setuptools in /usr/local/lib/python3.6/dist-packages (from pypandoc) (42.0.1)\n",
            "Requirement already satisfied: pip>=8.1.0 in /usr/local/lib/python3.6/dist-packages (from pypandoc) (19.3.1)\n",
            "Requirement already satisfied: wheel>=0.25.0 in /usr/local/lib/python3.6/dist-packages (from pypandoc) (0.33.6)\n",
            "Building wheels for collected packages: pypandoc\n",
            "  Building wheel for pypandoc (setup.py) ... \u001b[?25l\u001b[?25hdone\n",
            "  Created wheel for pypandoc: filename=pypandoc-1.4-cp36-none-any.whl size=16716 sha256=a805488fb506df1084ba71ddca8465e50f96f2ba1813c2254e99e925dc7ffa87\n",
            "  Stored in directory: /root/.cache/pip/wheels/3e/55/4f/59e0fa0914f3db52e87c0642c5fb986871dfbbf253026e639f\n",
            "Successfully built pypandoc\n",
            "Installing collected packages: pypandoc\n",
            "Successfully installed pypandoc-1.4\n"
          ],
          "name": "stdout"
        }
      ]
    },
    {
      "cell_type": "code",
      "metadata": {
        "id": "-fcr9_cSjlVM",
        "colab": {
          "base_uri": "https://localhost:8080/",
          "height": 125
        },
        "outputId": "583ca8bb-607d-47e1-f164-3090be834bd7"
      },
      "source": [
        "# Mount your google drive to get access to your ipynb files\n",
        "from google.colab import drive\n",
        "drive.mount('/content/drive')"
      ],
      "execution_count": null,
      "outputs": [
        {
          "output_type": "stream",
          "text": [
            "Go to this URL in a browser: https://accounts.google.com/o/oauth2/auth?client_id=947318989803-6bn6qk8qdgf4n4g3pfee6491hc0brc4i.apps.googleusercontent.com&redirect_uri=urn%3aietf%3awg%3aoauth%3a2.0%3aoob&response_type=code&scope=email%20https%3a%2f%2fwww.googleapis.com%2fauth%2fdocs.test%20https%3a%2f%2fwww.googleapis.com%2fauth%2fdrive%20https%3a%2f%2fwww.googleapis.com%2fauth%2fdrive.photos.readonly%20https%3a%2f%2fwww.googleapis.com%2fauth%2fpeopleapi.readonly\n",
            "\n",
            "Enter your authorization code:\n",
            "··········\n",
            "Mounted at /content/drive\n"
          ],
          "name": "stdout"
        }
      ]
    },
    {
      "cell_type": "code",
      "metadata": {
        "id": "gwR7dWtmkj6F",
        "colab": {
          "base_uri": "https://localhost:8080/",
          "height": 262
        },
        "outputId": "fe68f2b8-a76a-4860-9019-801e3c50ce63"
      },
      "source": [
        "!jupyter nbconvert --to PDF \"drive/My Drive/Colab Notebooks/RegressioneLineare.ipynb\""
      ],
      "execution_count": null,
      "outputs": [
        {
          "output_type": "stream",
          "text": [
            "[NbConvertApp] Converting notebook drive/My Drive/Colab Notebooks/RegressioneLineare.ipynb to PDF\n",
            "[NbConvertApp] Support files will be in RegressioneLineare_files/\n",
            "[NbConvertApp] Making directory ./RegressioneLineare_files\n",
            "[NbConvertApp] Making directory ./RegressioneLineare_files\n",
            "[NbConvertApp] Making directory ./RegressioneLineare_files\n",
            "[NbConvertApp] Making directory ./RegressioneLineare_files\n",
            "[NbConvertApp] Making directory ./RegressioneLineare_files\n",
            "[NbConvertApp] Writing 145272 bytes to ./notebook.tex\n",
            "[NbConvertApp] Building PDF\n",
            "[NbConvertApp] Running xelatex 3 times: [u'xelatex', u'./notebook.tex', '-quiet']\n",
            "[NbConvertApp] Running bibtex 1 time: [u'bibtex', u'./notebook']\n",
            "[NbConvertApp] WARNING | bibtex had problems, most likely because there were no citations\n",
            "[NbConvertApp] PDF successfully created\n",
            "[NbConvertApp] Writing 290217 bytes to drive/My Drive/Colab Notebooks/RegressioneLineare.pdf\n"
          ],
          "name": "stdout"
        }
      ]
    }
  ]
}