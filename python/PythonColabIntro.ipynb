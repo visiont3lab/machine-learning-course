{
  "nbformat": 4,
  "nbformat_minor": 0,
  "metadata": {
    "colab": {
      "name": "PythonColabIntro.ipynb",
      "provenance": [],
      "collapsed_sections": [
        "DDqKLkM4xb4N",
        "IwAKBXktw3qz"
      ],
      "include_colab_link": true
    },
    "kernelspec": {
      "name": "python3",
      "display_name": "Python 3"
    },
    "language_info": {
      "name": "python"
    }
  },
  "cells": [
    {
      "cell_type": "markdown",
      "metadata": {
        "id": "view-in-github",
        "colab_type": "text"
      },
      "source": [
        "<a href=\"https://colab.research.google.com/github/visiont3lab/machine-learning-course/blob/main/python/PythonColabIntro.ipynb\" target=\"_parent\"><img src=\"https://colab.research.google.com/assets/colab-badge.svg\" alt=\"Open In Colab\"/></a>"
      ]
    },
    {
      "cell_type": "markdown",
      "metadata": {
        "id": "6NP-inH6xFzF"
      },
      "source": [
        "# Introduzione a Google Colab"
      ]
    },
    {
      "cell_type": "markdown",
      "metadata": {
        "id": "1PubBi7JxLAp"
      },
      "source": [
        "Google colab è un software di google"
      ]
    },
    {
      "cell_type": "markdown",
      "metadata": {
        "id": "cFrdFbM-xQmg"
      },
      "source": [
        "## Linguaggio Bash"
      ]
    },
    {
      "cell_type": "code",
      "metadata": {
        "id": "gDL-pMXFnS0O"
      },
      "source": [
        "import numpy as np"
      ],
      "execution_count": null,
      "outputs": []
    },
    {
      "cell_type": "code",
      "metadata": {
        "id": "Em8NnVNonqtP"
      },
      "source": [
        "!nvidia-smi "
      ],
      "execution_count": null,
      "outputs": []
    },
    {
      "cell_type": "code",
      "metadata": {
        "id": "Uhx2qXmyoXqa"
      },
      "source": [
        "# Visualizzare le librerie python installate\n",
        "!pip list | grep tor"
      ],
      "execution_count": null,
      "outputs": []
    },
    {
      "cell_type": "code",
      "metadata": {
        "colab": {
          "base_uri": "https://localhost:8080/"
        },
        "id": "-4BQkxY6ryMf",
        "outputId": "151b9878-3b33-4af2-c5c1-d14532a7950a"
      },
      "source": [
        "# listami i file contenuti nella cartella\n",
        "!ls"
      ],
      "execution_count": null,
      "outputs": [
        {
          "output_type": "stream",
          "name": "stdout",
          "text": [
            "sample_data\n"
          ]
        }
      ]
    },
    {
      "cell_type": "code",
      "metadata": {
        "colab": {
          "base_uri": "https://localhost:8080/"
        },
        "id": "xZtPMVjpsmY1",
        "outputId": "6316feeb-af62-4b68-fe46-b58027e9817d"
      },
      "source": [
        "# in che cartella sono\n",
        "!pwd"
      ],
      "execution_count": null,
      "outputs": [
        {
          "output_type": "stream",
          "name": "stdout",
          "text": [
            "/content\n"
          ]
        }
      ]
    },
    {
      "cell_type": "code",
      "metadata": {
        "id": "Go9s5r-PsvYa"
      },
      "source": [
        "# crear un file \n",
        "!touch manuel.txt"
      ],
      "execution_count": null,
      "outputs": []
    },
    {
      "cell_type": "code",
      "metadata": {
        "id": "dq0wgOuYs7vu"
      },
      "source": [
        "!rm manuel.txt"
      ],
      "execution_count": null,
      "outputs": []
    },
    {
      "cell_type": "code",
      "metadata": {
        "id": "La2XcG1htEjT"
      },
      "source": [
        "!git clone https://github.com/visiont3lab/machine-learning-course.git\n",
        "# github gitlab bitbucket"
      ],
      "execution_count": null,
      "outputs": []
    },
    {
      "cell_type": "code",
      "metadata": {
        "id": "6owIzV6YvEl9"
      },
      "source": [
        "!git clone -h"
      ],
      "execution_count": null,
      "outputs": []
    },
    {
      "cell_type": "code",
      "metadata": {
        "id": "-Om6GRJctjRt"
      },
      "source": [
        "!wget https://raw.githubusercontent.com/pcm-dpc/COVID-19/master/dati-andamento-nazionale/dpc-covid19-ita-andamento-nazionale.csv"
      ],
      "execution_count": null,
      "outputs": []
    },
    {
      "cell_type": "markdown",
      "metadata": {
        "id": "DDqKLkM4xb4N"
      },
      "source": [
        "## Python introduzione"
      ]
    },
    {
      "cell_type": "code",
      "metadata": {
        "colab": {
          "base_uri": "https://localhost:8080/"
        },
        "id": "AKsCQOiXtvsC",
        "outputId": "0ed8faa5-e8d0-44e1-f91a-4480768ad8e9"
      },
      "source": [
        "# installare librerie\n",
        "!pip uninstall names"
      ],
      "execution_count": null,
      "outputs": [
        {
          "output_type": "stream",
          "name": "stdout",
          "text": [
            "Found existing installation: names 0.3.0\n",
            "Uninstalling names-0.3.0:\n",
            "  Would remove:\n",
            "    /usr/local/bin/names\n",
            "    /usr/local/lib/python3.7/dist-packages/names-0.3.0.dist-info/*\n",
            "    /usr/local/lib/python3.7/dist-packages/names/*\n",
            "Proceed (y/n)? y\n",
            "  Successfully uninstalled names-0.3.0\n"
          ]
        }
      ]
    },
    {
      "cell_type": "code",
      "metadata": {
        "id": "SvRxTfaBuR_b"
      },
      "source": [
        "!pip list | grep names"
      ],
      "execution_count": null,
      "outputs": []
    },
    {
      "cell_type": "code",
      "metadata": {
        "id": "RliLhjK6ucbp"
      },
      "source": [
        "pip # packet manager"
      ],
      "execution_count": null,
      "outputs": []
    },
    {
      "cell_type": "code",
      "metadata": {
        "colab": {
          "base_uri": "https://localhost:8080/"
        },
        "id": "eDvwgMH7vyc5",
        "outputId": "94ee0bff-fc2e-4a54-ec67-5fc951a6e4c9"
      },
      "source": [
        "import names as n\n",
        "n.get_full_name()"
      ],
      "execution_count": null,
      "outputs": [
        {
          "output_type": "execute_result",
          "data": {
            "application/vnd.google.colaboratory.intrinsic+json": {
              "type": "string"
            },
            "text/plain": [
              "'David Reynolds'"
            ]
          },
          "metadata": {},
          "execution_count": 7
        }
      ]
    },
    {
      "cell_type": "code",
      "metadata": {
        "id": "AxRtOnBsv0rU"
      },
      "source": [
        "!pip install names"
      ],
      "execution_count": null,
      "outputs": []
    },
    {
      "cell_type": "code",
      "metadata": {
        "id": "NJSbqG-nwccq"
      },
      "source": [
        "# Python\n",
        "!bash"
      ],
      "execution_count": null,
      "outputs": []
    },
    {
      "cell_type": "markdown",
      "metadata": {
        "id": "IwAKBXktw3qz"
      },
      "source": [
        "## Markdown\n",
        "\n",
        "\n",
        "\n"
      ]
    },
    {
      "cell_type": "markdown",
      "metadata": {
        "id": "Y171hSGH0wbU"
      },
      "source": [
        "* dsds\n",
        "* dsds\n",
        "* dsds\n",
        "\n",
        "1. fdf\n",
        "2. 343\n",
        "3. **fdsfd**\n",
        "\n",
        "> kldskf **fsdkldk** *flsdf* fsd\n",
        "\n",
        "\n",
        "\n",
        "```javascript\n",
        "import numpy as np\n",
        "```\n",
        "\n",
        "\n",
        "---"
      ]
    },
    {
      "cell_type": "markdown",
      "metadata": {
        "id": "Ap8ELLbs037R"
      },
      "source": [
        "## Python basics"
      ]
    },
    {
      "cell_type": "code",
      "metadata": {
        "id": "34hhphuz1ANK"
      },
      "source": [
        "!pip install names"
      ],
      "execution_count": null,
      "outputs": []
    },
    {
      "cell_type": "code",
      "metadata": {
        "id": "HblUF21t0yR6"
      },
      "source": [
        "import names\n",
        "import numpy as np"
      ],
      "execution_count": null,
      "outputs": []
    },
    {
      "cell_type": "code",
      "metadata": {
        "colab": {
          "base_uri": "https://localhost:8080/",
          "height": 35
        },
        "id": "E4zJ-DPp09AZ",
        "outputId": "614cd44b-21e2-482b-a1f1-0f92465ceca6"
      },
      "source": [
        "names.get_full_name()"
      ],
      "execution_count": null,
      "outputs": [
        {
          "output_type": "execute_result",
          "data": {
            "application/vnd.google.colaboratory.intrinsic+json": {
              "type": "string"
            },
            "text/plain": [
              "'Vikki Howe'"
            ]
          },
          "metadata": {},
          "execution_count": 13
        }
      ]
    },
    {
      "cell_type": "code",
      "metadata": {
        "colab": {
          "base_uri": "https://localhost:8080/"
        },
        "id": "yRmLKD-e2-K3",
        "outputId": "9f1ccaf7-66c9-4d92-dd45-4c5d18008288"
      },
      "source": [
        "# Creami  10 nome a caso e stampali\n",
        "for i in range(0,5): #1-(10-1))\n",
        "  fullname = names.get_last_name()\n",
        "  print(fullname)\n",
        "\n",
        "# Creami  10 nome a caso e stampali\n",
        "for i in range(0,5): #1-(10-1))\n",
        "  fullname = names.get_last_name()\n",
        "  print(fullname)\n",
        "\n",
        "# Creami  10 nome a caso e stampali\n",
        "for i in range(0,5): #1-(10-1))\n",
        "  fullname = names.get_last_name()\n",
        "  print(fullname)\n",
        "\n",
        "# Creami  10 nome a caso e stampali\n",
        "for i in range(0,5): #1-(10-1))\n",
        "  fullname = names.get_last_name()\n",
        "  print(fullname)\n",
        "\n",
        "# Creami  10 nome a caso e stampali\n",
        "for i in range(0,5): #1-(10-1))\n",
        "  fullname = names.get_last_name()\n",
        "  print(fullname)"
      ],
      "execution_count": null,
      "outputs": [
        {
          "output_type": "stream",
          "name": "stdout",
          "text": [
            "Bulmer\n",
            "Richardson\n",
            "Brown\n",
            "Griffy\n",
            "Averitt\n",
            "Cunningham\n",
            "Watkins\n",
            "Jaquet\n",
            "Curry\n",
            "Gilmour\n",
            "Hall\n",
            "Anderson\n",
            "Martinez\n",
            "Davis\n",
            "Luzar\n",
            "Garcia\n",
            "Minor\n",
            "Gonzalez\n",
            "Truett\n",
            "Beliveau\n",
            "Freeman\n",
            "Patrick\n",
            "Angelilli\n",
            "Rogers\n",
            "Feliciano\n"
          ]
        }
      ]
    },
    {
      "cell_type": "code",
      "metadata": {
        "id": "AdXMCSRB1XCt"
      },
      "source": [
        "def create_random_names(numero):\n",
        "  # Creami  10 nome a caso e stampali\n",
        "  for i in range(0,numero): #1-(10-1))\n",
        "    fullname = names.get_last_name()\n",
        "    print(fullname)\n",
        "\n",
        "create_random_names(numero=5)\n",
        "create_random_names(numero=5)\n",
        "create_random_names(numero=5)\n",
        "create_random_names(numero=5)\n"
      ],
      "execution_count": null,
      "outputs": []
    },
    {
      "cell_type": "code",
      "metadata": {
        "colab": {
          "base_uri": "https://localhost:8080/",
          "height": 50
        },
        "id": "roF_xV4hAM8s",
        "outputId": "2f6500f8-ba19-43a1-a675-3b9deb315bb4"
      },
      "source": [
        "# tupla\n",
        "a,v = [4,[\"ciao\"]]\n",
        "display(a,v)"
      ],
      "execution_count": null,
      "outputs": [
        {
          "output_type": "display_data",
          "data": {
            "text/plain": [
              "4"
            ]
          },
          "metadata": {}
        },
        {
          "output_type": "display_data",
          "data": {
            "text/plain": [
              "['ciao']"
            ]
          },
          "metadata": {}
        }
      ]
    },
    {
      "cell_type": "code",
      "metadata": {
        "colab": {
          "base_uri": "https://localhost:8080/",
          "height": 35
        },
        "id": "ku1aYEsA_oz8",
        "outputId": "7a6b40e8-433b-4fd0-ab99-e2db245b73d7"
      },
      "source": [
        "def nome_della_funzione(input1, input2):\n",
        "  return \"Ciao: \" + str(input1), \"ho fame\"  # --> Tupla\n",
        "\n",
        "display( nome_della_funzione(4,5)[1] )\n",
        "b=5"
      ],
      "execution_count": null,
      "outputs": [
        {
          "output_type": "display_data",
          "data": {
            "application/vnd.google.colaboratory.intrinsic+json": {
              "type": "string"
            },
            "text/plain": [
              "'ho fame'"
            ]
          },
          "metadata": {}
        }
      ]
    },
    {
      "cell_type": "code",
      "metadata": {
        "colab": {
          "base_uri": "https://localhost:8080/",
          "height": 50
        },
        "id": "hH-4VTof2W6V",
        "outputId": "421e13a8-030b-4235-d172-15d81867d167"
      },
      "source": [
        "def create_random_names(numero=5):\n",
        "  # Creami 10 nome a caso e stampali\n",
        "  fullnames = []\n",
        "  for i in range(0,numero): #1-(10-1))\n",
        "    fullname = names.get_last_name()\n",
        "    fullnames.append(fullname)\n",
        "  return fullnames, len(fullnames)\n",
        "\n",
        "fullnames, lennames = create_random_names(numero=6)\n",
        "display(fullnames)\n",
        "display(lennames)"
      ],
      "execution_count": null,
      "outputs": [
        {
          "output_type": "display_data",
          "data": {
            "text/plain": [
              "['Stuble', 'Dwyer', 'Brown', 'Franzen', 'Lawrence', 'Cruz']"
            ]
          },
          "metadata": {}
        },
        {
          "output_type": "display_data",
          "data": {
            "text/plain": [
              "6"
            ]
          },
          "metadata": {}
        }
      ]
    },
    {
      "cell_type": "code",
      "metadata": {
        "colab": {
          "base_uri": "https://localhost:8080/",
          "height": 50
        },
        "id": "GBgxDnSc3vC5",
        "outputId": "4046d192-795c-4e95-cbe9-f336eff7a1d7"
      },
      "source": [
        "# le liste sono iterabili!\n",
        "b = 5\n",
        "a = ['manuel', 4,'sara',np.array([4,5,6]),['francesco' ,'davide']]\n",
        "#display(a)\n",
        "display(a)\n",
        "display(b)"
      ],
      "execution_count": null,
      "outputs": [
        {
          "output_type": "display_data",
          "data": {
            "text/plain": [
              "['manuel', 4, 'sara', array([4, 5, 6]), ['francesco', 'davide']]"
            ]
          },
          "metadata": {}
        },
        {
          "output_type": "display_data",
          "data": {
            "text/plain": [
              "5"
            ]
          },
          "metadata": {}
        }
      ]
    },
    {
      "cell_type": "code",
      "metadata": {
        "colab": {
          "base_uri": "https://localhost:8080/"
        },
        "id": "01_4hCMr8WqL",
        "outputId": "354e21f4-b830-4039-9714-79aa9ea0cd38"
      },
      "source": [
        "len(a)"
      ],
      "execution_count": null,
      "outputs": [
        {
          "output_type": "execute_result",
          "data": {
            "text/plain": [
              "5"
            ]
          },
          "metadata": {},
          "execution_count": 50
        }
      ]
    },
    {
      "cell_type": "code",
      "metadata": {
        "colab": {
          "base_uri": "https://localhost:8080/"
        },
        "id": "ecxHr1uO80CH",
        "outputId": "f4c889bb-b504-400d-c08b-67a8d4e980a8"
      },
      "source": [
        "a = ['manuel','chiara','francesco']\n",
        "a.extend([\"davide\",\"gianni\"])\n",
        "a.append('marco')\n",
        "a"
      ],
      "execution_count": null,
      "outputs": [
        {
          "output_type": "execute_result",
          "data": {
            "text/plain": [
              "['manuel', 'chiara', 'francesco', 'davide', 'gianni', 'marco']"
            ]
          },
          "metadata": {},
          "execution_count": 62
        }
      ]
    },
    {
      "cell_type": "code",
      "metadata": {
        "colab": {
          "base_uri": "https://localhost:8080/"
        },
        "id": "NKca4yLe4RPD",
        "outputId": "ad499388-020c-4582-f28b-33e79d9230cf"
      },
      "source": [
        "a = ['manuel', 4,'sara',np.array([4,5,6]),['francesco' ,'davide']]\n",
        "\n",
        "[print(el) for el in a]\n",
        "\n",
        "for el in a:\n",
        "  print(el)\n",
        "  \n",
        "for i in range(0,len(a)):\n",
        "  print(a[i])"
      ],
      "execution_count": null,
      "outputs": [
        {
          "output_type": "stream",
          "name": "stdout",
          "text": [
            "manuel\n",
            "4\n",
            "sara\n",
            "[4 5 6]\n",
            "['francesco', 'davide']\n",
            "manuel\n",
            "4\n",
            "sara\n",
            "[4 5 6]\n",
            "['francesco', 'davide']\n",
            "manuel\n",
            "4\n",
            "sara\n",
            "[4 5 6]\n",
            "['francesco', 'davide']\n"
          ]
        }
      ]
    },
    {
      "cell_type": "code",
      "metadata": {
        "id": "8DkDsRLw4yXn"
      },
      "source": [
        "def dskdl():\n",
        "  for i in range(0,2):\n",
        "    fsdfds"
      ],
      "execution_count": null,
      "outputs": []
    },
    {
      "cell_type": "code",
      "metadata": {
        "colab": {
          "base_uri": "https://localhost:8080/"
        },
        "id": "0-sXNymVCqYl",
        "outputId": "0340b445-aab1-4e04-9807-15b49a92bee8"
      },
      "source": [
        "c[1][1]\n",
        "c[1,1]\n",
        "c[0,-3:] # dammi tutti gli elementi della prima riga"
      ],
      "execution_count": null,
      "outputs": [
        {
          "output_type": "execute_result",
          "data": {
            "text/plain": [
              "array([4, 5, 6])"
            ]
          },
          "metadata": {},
          "execution_count": 146
        }
      ]
    },
    {
      "cell_type": "code",
      "metadata": {
        "colab": {
          "base_uri": "https://localhost:8080/"
        },
        "id": "uNtbUvl8C3fD",
        "outputId": "c995ce88-4746-4280-a910-73a9572868fa"
      },
      "source": [
        "c"
      ],
      "execution_count": null,
      "outputs": [
        {
          "output_type": "execute_result",
          "data": {
            "text/plain": [
              "array([[4, 5, 6],\n",
              "       [4, 5, 6],\n",
              "       [4, 5, 5],\n",
              "       [4, 5, 6]])"
            ]
          },
          "metadata": {},
          "execution_count": 124
        }
      ]
    },
    {
      "cell_type": "code",
      "metadata": {
        "colab": {
          "base_uri": "https://localhost:8080/"
        },
        "id": "RYpz1BFvClFN",
        "outputId": "dafdab26-4de7-485f-88b2-36dafca78a65"
      },
      "source": [
        "c.shape"
      ],
      "execution_count": null,
      "outputs": [
        {
          "output_type": "execute_result",
          "data": {
            "text/plain": [
              "(4, 3)"
            ]
          },
          "metadata": {},
          "execution_count": 121
        }
      ]
    },
    {
      "cell_type": "code",
      "metadata": {
        "colab": {
          "base_uri": "https://localhost:8080/",
          "height": 118
        },
        "id": "24vwB2SWBon6",
        "outputId": "fcc9ea3c-6c14-411f-9347-5cc76a6d27a3"
      },
      "source": [
        "c = np.array( [ \n",
        "           [4,5,6],\n",
        "           [4,5,6],\n",
        "           [4,5,5],\n",
        "           [4,5,6] ]\n",
        "        )\n",
        "display( c.shape )\n",
        "\n",
        "c1 = np.array( [ \n",
        "           [4,5],\n",
        "           [4,5],\n",
        "           [4,5],\n",
        "           ]\n",
        "        )\n",
        "display(c1.shape)\n",
        "\n",
        "# Operazioni\n",
        "np.matmul( c, c1)"
      ],
      "execution_count": null,
      "outputs": [
        {
          "output_type": "display_data",
          "data": {
            "text/plain": [
              "(4, 3)"
            ]
          },
          "metadata": {}
        },
        {
          "output_type": "display_data",
          "data": {
            "text/plain": [
              "(3, 2)"
            ]
          },
          "metadata": {}
        },
        {
          "output_type": "execute_result",
          "data": {
            "text/plain": [
              "array([[60, 75],\n",
              "       [60, 75],\n",
              "       [56, 70],\n",
              "       [60, 75]])"
            ]
          },
          "metadata": {},
          "execution_count": 118
        }
      ]
    },
    {
      "cell_type": "code",
      "metadata": {
        "colab": {
          "base_uri": "https://localhost:8080/"
        },
        "id": "ceEmSUO6Avj7",
        "outputId": "a2e7ce75-1905-4e13-c33b-2d1589927634"
      },
      "source": [
        "a = np.array([  [3.0,4,5]  ])\n",
        "a.dtype\n",
        "a.shape"
      ],
      "execution_count": null,
      "outputs": [
        {
          "output_type": "execute_result",
          "data": {
            "text/plain": [
              "(1, 3)"
            ]
          },
          "metadata": {},
          "execution_count": 104
        }
      ]
    },
    {
      "cell_type": "code",
      "metadata": {
        "colab": {
          "base_uri": "https://localhost:8080/"
        },
        "id": "2j-Sogs5A5S8",
        "outputId": "4e0fc032-c8d7-4457-fab8-64f68024214c"
      },
      "source": [
        "a = a.T\n",
        "a.shape"
      ],
      "execution_count": null,
      "outputs": [
        {
          "output_type": "execute_result",
          "data": {
            "text/plain": [
              "(3, 1)"
            ]
          },
          "metadata": {},
          "execution_count": 105
        }
      ]
    },
    {
      "cell_type": "code",
      "metadata": {
        "id": "UbzIp1MTBbiJ"
      },
      "source": [
        ""
      ],
      "execution_count": null,
      "outputs": []
    },
    {
      "cell_type": "markdown",
      "metadata": {
        "id": "RAuQoCCNEEpO"
      },
      "source": [
        "## Esercizio"
      ]
    },
    {
      "cell_type": "markdown",
      "metadata": {
        "id": "73vS-6N2EHSd"
      },
      "source": [
        "* importare la libreia pandas. Se non è installata la installiamo\n",
        "* leggere un file csv\n",
        "* lavoriamo con i numpy array"
      ]
    },
    {
      "cell_type": "code",
      "metadata": {
        "colab": {
          "base_uri": "https://localhost:8080/"
        },
        "id": "jFlNtcPnEGMS",
        "outputId": "c55ba519-9003-4869-fc88-9609b537837c"
      },
      "source": [
        "!wget https://raw.githubusercontent.com/pcm-dpc/COVID-19/master/dati-andamento-nazionale/dpc-covid19-ita-andamento-nazionale.csv"
      ],
      "execution_count": null,
      "outputs": [
        {
          "output_type": "stream",
          "name": "stdout",
          "text": [
            "--2021-10-14 18:29:57--  https://raw.githubusercontent.com/pcm-dpc/COVID-19/master/dati-andamento-nazionale/dpc-covid19-ita-andamento-nazionale.csv\n",
            "Resolving raw.githubusercontent.com (raw.githubusercontent.com)... 185.199.111.133, 185.199.110.133, 185.199.108.133, ...\n",
            "Connecting to raw.githubusercontent.com (raw.githubusercontent.com)|185.199.111.133|:443... connected.\n",
            "HTTP request sent, awaiting response... 200 OK\n",
            "Length: 77118 (75K) [text/plain]\n",
            "Saving to: ‘dpc-covid19-ita-andamento-nazionale.csv’\n",
            "\n",
            "\r          dpc-covid   0%[                    ]       0  --.-KB/s               \rdpc-covid19-ita-and 100%[===================>]  75.31K  --.-KB/s    in 0.009s  \n",
            "\n",
            "2021-10-14 18:29:58 (8.30 MB/s) - ‘dpc-covid19-ita-andamento-nazionale.csv’ saved [77118/77118]\n",
            "\n"
          ]
        }
      ]
    },
    {
      "cell_type": "code",
      "metadata": {
        "colab": {
          "base_uri": "https://localhost:8080/"
        },
        "id": "0XbxN6teHm7O",
        "outputId": "2abdd32d-6848-4d7f-e40a-668c6ab69452"
      },
      "source": [
        "!ls"
      ],
      "execution_count": null,
      "outputs": [
        {
          "output_type": "stream",
          "name": "stdout",
          "text": [
            "dpc-covid19-ita-andamento-nazionale.csv  sample_data\n"
          ]
        }
      ]
    },
    {
      "cell_type": "code",
      "metadata": {
        "colab": {
          "base_uri": "https://localhost:8080/"
        },
        "id": "lR4h87hmH63x",
        "outputId": "01dc3cbf-d108-4058-821e-60d5204de082"
      },
      "source": [
        "# dizionario\n",
        "a = {\n",
        "    \"colonna1\": np.array([4,5]),\n",
        "    \"colonna2\": np.array([1,3]), \n",
        "}\n",
        "a.values()"
      ],
      "execution_count": null,
      "outputs": [
        {
          "output_type": "execute_result",
          "data": {
            "text/plain": [
              "dict_values([array([4, 5]), array([1, 3])])"
            ]
          },
          "metadata": {},
          "execution_count": 189
        }
      ]
    },
    {
      "cell_type": "code",
      "metadata": {
        "id": "TyZbLyPBEbZn"
      },
      "source": [
        "import pandas as pd\n",
        "#df = pd.read_csv(\"dpc-covid19-ita-andamento-nazionale.csv\")\n",
        "df = pd.read_csv(\"https://raw.githubusercontent.com/pcm-dpc/COVID-19/master/dati-andamento-nazionale/dpc-covid19-ita-andamento-nazionale.csv\")\n",
        "#df.head() # primi 5 elementi di questo dataset\n",
        "#n = df.keys()\n",
        "#arr = df.values\n",
        "# arr.shape"
      ],
      "execution_count": null,
      "outputs": []
    },
    {
      "cell_type": "code",
      "metadata": {
        "colab": {
          "base_uri": "https://localhost:8080/"
        },
        "id": "lykKwmEsIi3c",
        "outputId": "f1527a25-3298-4d15-958b-19514583d284"
      },
      "source": [
        "df.values"
      ],
      "execution_count": null,
      "outputs": [
        {
          "output_type": "execute_result",
          "data": {
            "text/plain": [
              "array([['2020-02-24T18:00:00', 'ITA', 101, ..., nan, nan, nan],\n",
              "       ['2020-02-25T18:00:00', 'ITA', 114, ..., nan, nan, nan],\n",
              "       ['2020-02-26T18:00:00', 'ITA', 128, ..., nan, nan, nan],\n",
              "       ...,\n",
              "       ['2021-10-12T17:00:00', 'ITA', 2665, ..., 173740.0, 61308451.0,\n",
              "        34452781.0],\n",
              "       ['2021-10-13T17:00:00', 'ITA', 2552, ..., 173944.0, 61428982.0,\n",
              "        34611195.0],\n",
              "       ['2021-10-14T17:00:00', 'ITA', 2479, ..., 174156.0, 61540896.0,\n",
              "        34823895.0]], dtype=object)"
            ]
          },
          "metadata": {},
          "execution_count": 191
        }
      ]
    },
    {
      "cell_type": "code",
      "metadata": {
        "colab": {
          "base_uri": "https://localhost:8080/",
          "height": 168
        },
        "id": "2WiDyN6TFdGk",
        "outputId": "8b20754b-af02-4e9e-8969-070c9230cb50"
      },
      "source": [
        "def incremento(df, nome_colonna):\n",
        "  diff1 = df[nome_colonna].values[-1] - df[nome_colonna].values[-2]\n",
        "  diff2 = df[nome_colonna].values[-1] - df[nome_colonna].values[-4]\n",
        "  last = list ( df[nome_colonna][-5:].values )\n",
        "  return diff1, diff2, last \n",
        "\n",
        "a,b,c = incremento(df, \"nuovi_positivi\") \n",
        "\n",
        "display( a,b,c )\n",
        "display( incremento(df, \"deceduti\") )\n",
        "\n",
        "for el in c:\n",
        "  print(el)\n"
      ],
      "execution_count": null,
      "outputs": [
        {
          "output_type": "display_data",
          "data": {
            "text/plain": [
              "-104"
            ]
          },
          "metadata": {}
        },
        {
          "output_type": "display_data",
          "data": {
            "text/plain": [
              "1152"
            ]
          },
          "metadata": {}
        },
        {
          "output_type": "display_data",
          "data": {
            "text/plain": [
              "[2278, 1516, 2494, 2772, 2668]"
            ]
          },
          "metadata": {}
        },
        {
          "output_type": "display_data",
          "data": {
            "text/plain": [
              "(40, 126, [131301, 131335, 131384, 131421, 131461])"
            ]
          },
          "metadata": {}
        },
        {
          "output_type": "stream",
          "name": "stdout",
          "text": [
            "2278\n",
            "1516\n",
            "2494\n",
            "2772\n",
            "2668\n"
          ]
        }
      ]
    },
    {
      "cell_type": "code",
      "metadata": {
        "colab": {
          "base_uri": "https://localhost:8080/"
        },
        "id": "WVuJt-a_MfkC",
        "outputId": "82da6507-8a90-4f3a-f6af-0e3f16b14e17"
      },
      "source": [
        "import numpy as np\n",
        "m = [\"manuel\", 4 , np.array([4,6]) ]\n",
        "lista= [[3.4,6,7]]\n",
        "array = np.array(lista).flatten()\n",
        "print(array.shape)\n",
        "print(array)\n",
        "lista = list(array)\n",
        "lista"
      ],
      "execution_count": null,
      "outputs": [
        {
          "output_type": "stream",
          "name": "stdout",
          "text": [
            "(3,)\n",
            "[3.4 6.  7. ]\n"
          ]
        },
        {
          "output_type": "execute_result",
          "data": {
            "text/plain": [
              "[3.4, 6.0, 7.0]"
            ]
          },
          "metadata": {},
          "execution_count": 15
        }
      ]
    },
    {
      "cell_type": "code",
      "metadata": {
        "colab": {
          "base_uri": "https://localhost:8080/"
        },
        "id": "XQj0-i8sKbYV",
        "outputId": "857bb45b-3772-406d-daa0-ea9b134f9bde"
      },
      "source": [
        "m = np.array([3,4,5])\n",
        "print( type(m) )\n",
        "m = list(m)\n",
        "print( type(m) )\n",
        "\n",
        "k = [3,4,5]\n",
        "print( type(k) )\n",
        "k = np.array(k)\n",
        "print( type(k) )"
      ],
      "execution_count": null,
      "outputs": [
        {
          "output_type": "stream",
          "name": "stdout",
          "text": [
            "<class 'numpy.ndarray'>\n",
            "<class 'list'>\n",
            "<class 'list'>\n",
            "<class 'numpy.ndarray'>\n"
          ]
        }
      ]
    },
    {
      "cell_type": "code",
      "metadata": {
        "id": "mVrIm0AhKbfZ"
      },
      "source": [
        "#array e liste"
      ],
      "execution_count": null,
      "outputs": []
    },
    {
      "cell_type": "code",
      "metadata": {
        "id": "XP0I9NfFF6Pw"
      },
      "source": [
        "df[\"ricoverati_con_sintomi\"].values"
      ],
      "execution_count": null,
      "outputs": []
    },
    {
      "cell_type": "code",
      "metadata": {
        "id": "HpTS9CH4GCrd",
        "colab": {
          "base_uri": "https://localhost:8080/"
        },
        "outputId": "1135b524-ea5c-40f2-ef35-1e3975811aba"
      },
      "source": [
        "import numpy as np\n",
        "a = np.array([43,5,6])\n",
        "for el in list(a):\n",
        "    print(el)"
      ],
      "execution_count": null,
      "outputs": [
        {
          "output_type": "stream",
          "name": "stdout",
          "text": [
            "43\n",
            "5\n",
            "6\n"
          ]
        }
      ]
    },
    {
      "cell_type": "code",
      "metadata": {
        "id": "fAl6r0cRN9Uz"
      },
      "source": [
        ""
      ],
      "execution_count": null,
      "outputs": []
    },
    {
      "cell_type": "markdown",
      "metadata": {
        "id": "Xc_6evkuObF4"
      },
      "source": [
        "## Esercizio"
      ]
    },
    {
      "cell_type": "markdown",
      "metadata": {
        "id": "Sr6Q5rwJOnBs"
      },
      "source": [
        "> trovate gli incrementi giornaliero degli ultimi 5 giorni dei ricoverati con sintomo, deceduti, nuovi positivi\n",
        "\n",
        "* Importare pandas\n",
        "* avere le colonne come array\n",
        "* for che vi calcola l 'incremento\n",
        "* ritornate il risultato come lista / dizionario\n",
        "\n"
      ]
    }
  ]
}