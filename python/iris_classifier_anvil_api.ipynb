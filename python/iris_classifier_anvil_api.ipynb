{
  "nbformat": 4,
  "nbformat_minor": 0,
  "metadata": {
    "colab": {
      "name": "iris-classifier-start.ipynb",
      "provenance": [],
      "collapsed_sections": []
    },
    "kernelspec": {
      "name": "python3",
      "display_name": "Python 3"
    }
  },
  "cells": [
    {
      "cell_type": "markdown",
      "metadata": {
        "id": "Mlf9a7vM_PVF"
      },
      "source": [
        "### Build and train the classification model\n",
        "\n"
      ]
    },
    {
      "cell_type": "code",
      "metadata": {
        "id": "Z9FGGe-2-V79"
      },
      "source": [
        "from sklearn.datasets import load_iris\n",
        "from sklearn.model_selection import train_test_split\n",
        "from sklearn.linear_model import LogisticRegression\n",
        "\n",
        "iris = load_iris()\n",
        "X = iris.data\n",
        "y = iris.target\n",
        "\n",
        "X_train, X_test, y_train, y_test = train_test_split(X, y, \n",
        "                                                    test_size=0.3 , \n",
        "                                                    random_state=667\n",
        "                                                    )\n",
        "\n",
        "model_ = LogisticRegression()\n",
        "model_.fit(X,y)"
      ],
      "execution_count": null,
      "outputs": []
    },
    {
      "cell_type": "code",
      "source": [
        "import joblib\n",
        "joblib.dump(model_,'iris_model.pkl')"
      ],
      "metadata": {
        "id": "eXsWEFC773nD",
        "outputId": "bab7c034-ddac-4cc0-8f6d-765735acf33a",
        "colab": {
          "base_uri": "https://localhost:8080/"
        }
      },
      "execution_count": 14,
      "outputs": [
        {
          "output_type": "execute_result",
          "data": {
            "text/plain": [
              "['iris_model.pkl']"
            ]
          },
          "metadata": {},
          "execution_count": 14
        }
      ]
    },
    {
      "cell_type": "code",
      "source": [
        "model = joblib.load('iris_model.pkl')"
      ],
      "metadata": {
        "id": "9GrEsjsx_wNe"
      },
      "execution_count": 15,
      "outputs": []
    },
    {
      "cell_type": "markdown",
      "source": [
        "## Copy to Anvil"
      ],
      "metadata": {
        "id": "kFqM5nd674oP"
      }
    },
    {
      "cell_type": "code",
      "source": [
        "!wget https://frenzy86.s3.eu-west-2.amazonaws.com/IFAO/anviL_app/iris_anvil.yaml"
      ],
      "metadata": {
        "id": "VxyLWGXY_Fw0"
      },
      "execution_count": null,
      "outputs": []
    },
    {
      "cell_type": "code",
      "source": [
        "# from ._anvil_designer import iris_classifier_formTemplate\n",
        "# from anvil import *\n",
        "# import anvil.server\n",
        "\n",
        "# class iris_classifier_form(iris_classifier_formTemplate):\n",
        "#   def __init__(self, **properties):\n",
        "#     # Set Form properties and Data Bindings.\n",
        "#     self.init_components(**properties)\n",
        "\n",
        "#     # Any code you write here will run when the form opens.\n",
        "\n",
        "#   def categorise_button_click(self, **event_args):\n",
        "#     \"\"\"This method is called when the button is clicked\"\"\"\n",
        "#     if self.sepal_length.text and self.sepal_width.text and self.petal_length.text and self.petal_width.text:\n",
        "#       iris_category = anvil.server.call('predict_iris', self.sepal_length.text,\n",
        "#                                   self.sepal_width.text,\n",
        "#                                   self.petal_length.text,\n",
        "#                                   self.petal_width.text)\n",
        "#       if iris_category:\n",
        "#         self.species_label.visible, self.iris_image.visible = True, True\n",
        "#         self.species_label.text = \"The species is \" + iris_category.capitalize()\n",
        "#         # Add image to app to correspond with classification\n",
        "#         if iris_category == 'virginica':\n",
        "#           self.iris_image.source = 'https://upload.wikimedia.org/wikipedia/commons/f/f8/Iris_virginica_2.jpg'\n",
        "#         elif iris_category == 'versicolor':\n",
        "#           self.iris_image.source = 'https://upload.wikimedia.org/wikipedia/commons/2/27/Blue_Flag%2C_Ottawa.jpg'\n",
        "#         elif iris_category == 'setosa':\n",
        "#           self.iris_image.source = 'https://upload.wikimedia.org/wikipedia/commons/5/56/Kosaciec_szczecinkowaty_Iris_setosa.jpg'\n",
        "#         else:\n",
        "#           anvil.Notification(\"Species unknown\", timeout=2).show()\n",
        "#     else:\n",
        "#       anvil.Notification(\"Please enter some data\", timeout=2).show()"
      ],
      "metadata": {
        "id": "nyf2PgBT73jw"
      },
      "execution_count": null,
      "outputs": []
    },
    {
      "cell_type": "code",
      "source": [
        "!pip install anvil-uplink --quiet"
      ],
      "metadata": {
        "id": "SVdsRJOK7CwX"
      },
      "execution_count": 4,
      "outputs": []
    },
    {
      "cell_type": "code",
      "source": [
        "import anvil.server\n",
        "\n",
        "anvil.server.connect(\"your key-id\")"
      ],
      "metadata": {
        "id": "7tDIfxvW7Cs9",
        "outputId": "76c240bf-8586-4ad5-b5df-30f18d71052e",
        "colab": {
          "base_uri": "https://localhost:8080/"
        }
      },
      "execution_count": 5,
      "outputs": [
        {
          "output_type": "stream",
          "name": "stdout",
          "text": [
            "Connecting to wss://anvil.works/uplink\n",
            "Anvil websocket open\n",
            "Connected to \"Default environment\" as SERVER\n"
          ]
        }
      ]
    },
    {
      "cell_type": "code",
      "source": [
        "@anvil.server.callable\n",
        "def predict_iris(sepal_length, sepal_width, petal_length, petal_width):\n",
        "  classification = model.predict([[sepal_length, sepal_width, petal_length, petal_width]])\n",
        "  return iris.target_names[classification][0]"
      ],
      "metadata": {
        "id": "uop2zS0i7CpU"
      },
      "execution_count": 6,
      "outputs": []
    },
    {
      "cell_type": "code",
      "source": [
        "anvil.server.wait_forever()"
      ],
      "metadata": {
        "id": "G4L_3yVg7Cj0"
      },
      "execution_count": null,
      "outputs": []
    },
    {
      "cell_type": "code",
      "source": [
        ""
      ],
      "metadata": {
        "id": "u_Zziop08dTp"
      },
      "execution_count": null,
      "outputs": []
    }
  ]
}