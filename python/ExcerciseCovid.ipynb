{
  "nbformat": 4,
  "nbformat_minor": 0,
  "metadata": {
    "colab": {
      "name": "ExcerciseCovid.ipynb",
      "provenance": [],
      "collapsed_sections": [],
      "authorship_tag": "ABX9TyPNUPntmwJxdA4jjN8+x5Mt",
      "include_colab_link": true
    },
    "kernelspec": {
      "name": "python3",
      "display_name": "Python 3"
    },
    "language_info": {
      "name": "python"
    }
  },
  "cells": [
    {
      "cell_type": "markdown",
      "metadata": {
        "id": "view-in-github",
        "colab_type": "text"
      },
      "source": [
        "<a href=\"https://colab.research.google.com/github/visiont3lab/machine-learning-course/blob/main/python/ExcerciseCovid.ipynb\" target=\"_parent\"><img src=\"https://colab.research.google.com/assets/colab-badge.svg\" alt=\"Open In Colab\"/></a>"
      ]
    },
    {
      "cell_type": "code",
      "execution_count": 1,
      "metadata": {
        "colab": {
          "base_uri": "https://localhost:8080/"
        },
        "id": "fwi4N9e10Xr-",
        "outputId": "05ee7ece-4eb6-4148-acab-0e8657a5434d"
      },
      "outputs": [
        {
          "output_type": "stream",
          "name": "stdout",
          "text": [
            "totale_positivi 1990701\n",
            "incremento:  totale_positivi -82547\n",
            "dimessi_guariti 9523540\n",
            "incremento:  dimessi_guariti 123823\n",
            "deceduti 149097\n",
            "incremento:  deceduti 326\n",
            "totale_casi 11663338\n",
            "incremento:  totale_casi 41602\n"
          ]
        }
      ],
      "source": [
        "import pandas as pd\n",
        "\n",
        "def get_data():\n",
        "  df = pd.read_csv(\"https://raw.githubusercontent.com/pcm-dpc/COVID-19/master/dati-andamento-nazionale/dpc-covid19-ita-andamento-nazionale.csv\")\n",
        "  l = [\"totale_positivi\",\"dimessi_guariti\",\"deceduti\",\"totale_casi\"]\n",
        "  for el in l:\n",
        "    print(el, df[el].values[-1])\n",
        "    print(\"incremento: \", el, df[el].values[-1]-df[el].values[-2])\n",
        "\n",
        "get_data()"
      ]
    }
  ]
}