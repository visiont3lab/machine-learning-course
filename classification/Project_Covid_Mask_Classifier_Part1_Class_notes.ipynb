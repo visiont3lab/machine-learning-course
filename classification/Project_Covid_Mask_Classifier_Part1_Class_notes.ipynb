{
  "nbformat": 4,
  "nbformat_minor": 0,
  "metadata": {
    "colab": {
      "name": "Project_Covid_Mask_Classifier_Part1_Class_notes.ipynb",
      "provenance": [],
      "authorship_tag": "ABX9TyPbaKCRuXamptBGJctPy91R",
      "include_colab_link": true
    },
    "kernelspec": {
      "name": "python3",
      "display_name": "Python 3"
    },
    "language_info": {
      "name": "python"
    }
  },
  "cells": [
    {
      "cell_type": "markdown",
      "metadata": {
        "id": "view-in-github",
        "colab_type": "text"
      },
      "source": [
        "<a href=\"https://colab.research.google.com/github/visiont3lab/machine-learning-course/blob/main/classification/Project_Covid_Mask_Classifier_Part1_Class_notes.ipynb\" target=\"_parent\"><img src=\"https://colab.research.google.com/assets/colab-badge.svg\" alt=\"Open In Colab\"/></a>"
      ]
    },
    {
      "cell_type": "markdown",
      "metadata": {
        "id": "I7k9MHRWkdPi"
      },
      "source": [
        "# Classification Project Part1: Mask-NoMask Classifier\n",
        "\n",
        "Class notes"
      ]
    },
    {
      "cell_type": "code",
      "metadata": {
        "colab": {
          "base_uri": "https://localhost:8080/"
        },
        "id": "VUOBTdbzkdyg",
        "outputId": "e8a06ba5-6490-470d-c3d4-79e5333cb734"
      },
      "source": [
        "# Scaricare il repositorio da github per avere accesso alle immagini\n",
        "!git clone https://github.com/visiont3lab/covid-mask-classifier.git"
      ],
      "execution_count": null,
      "outputs": [
        {
          "output_type": "stream",
          "name": "stdout",
          "text": [
            "fatal: destination path 'covid-mask-classifier' already exists and is not an empty directory.\n"
          ]
        }
      ]
    },
    {
      "cell_type": "code",
      "source": [
        "# Pillow --> Pytorch\n",
        "# Opencv --> c++ --pyhton\n",
        "\n",
        "!pip install Pillow\n",
        "!pip install opencv-python\n",
        "!pip list | grep opencv"
      ],
      "metadata": {
        "id": "lHun2pdEEsmn",
        "outputId": "0c5de2b1-9a16-4c0b-9186-abb5703f497a",
        "colab": {
          "base_uri": "https://localhost:8080/"
        }
      },
      "execution_count": null,
      "outputs": [
        {
          "output_type": "stream",
          "name": "stdout",
          "text": [
            "Requirement already satisfied: Pillow in /usr/local/lib/python3.7/dist-packages (7.1.2)\n",
            "Requirement already satisfied: opencv-python in /usr/local/lib/python3.7/dist-packages (4.1.2.30)\n",
            "Requirement already satisfied: numpy>=1.14.5 in /usr/local/lib/python3.7/dist-packages (from opencv-python) (1.19.5)\n"
          ]
        }
      ]
    },
    {
      "cell_type": "code",
      "source": [
        "import os\n",
        "import cv2\n",
        "import numpy as np\n",
        "from PIL import Image\n",
        "\n",
        "cartella_padre = \"/content/covid-mask-classifier/dataset/\"\n",
        "cartelle = [\"mask\", \"no-mask\"]\n",
        "stat = {\"mask\": 0, \"no-mask\": 1}\n",
        "\n",
        "X = []\n",
        "Y = []\n",
        "\n",
        "for nome_cartella in cartelle:\n",
        "\n",
        "  cartella = os.path.join(cartella_padre,nome_cartella)\n",
        "\n",
        "  names = os.listdir(cartella)\n",
        "\n",
        "  for name in names:\n",
        "    filepath = os.path.join(cartella,name)\n",
        "\n",
        "    # Leggi l'immagine  cv2.IMREAD_GRAYSCALE cv2.IMREAD_UNCHANGED cv2.IMREAD_GRAYSCALE <--  BGR --> RGB\n",
        "    im_np = cv2.imread( filepath, cv2.IMREAD_COLOR ) \n",
        "    \n",
        "    #  BGR 2 RGB\n",
        "    im_np = cv2.cvtColor(im_np, cv2.COLOR_BGR2RGB)\n",
        "\n",
        "    # Resize\n",
        "    im_np = cv2.resize(im_np, (64,64))\n",
        "\n",
        "    # metto tutto su una riga\n",
        "    riga = im_np.reshape(-1)\n",
        "\n",
        "    # Aggiungo i valori ai miei vettori\n",
        "    X.append(riga)\n",
        "    Y.append(stat[nome_cartella])\n"
      ],
      "metadata": {
        "id": "-tMch3FeOOUH"
      },
      "execution_count": null,
      "outputs": []
    },
    {
      "cell_type": "code",
      "source": [
        "# train test split -- Cross validation \n",
        "from sklearn.preprocessing import  MinMaxScaler\n",
        "from sklearn.model_selection import train_test_split\n",
        "X_train, X_test, Y_train, Y_test = train_test_split(X,Y,shuffle= True, test_size=0.2) "
      ],
      "metadata": {
        "id": "5uBuzdnTYfYi"
      },
      "execution_count": null,
      "outputs": []
    },
    {
      "cell_type": "code",
      "source": [
        "# Creare la nostra pipeline\n",
        "from sklearn.svm import SVC\n",
        "from sklearn.ensemble import GradientBoostingClassifier\n",
        "from sklearn.pipeline import Pipeline\n",
        "from sklearn.decomposition import PCA\n",
        "import joblib\n",
        "\n",
        "# Creazione del modello\n",
        "pipe = Pipeline([\n",
        "      (\"normalize\", MinMaxScaler(feature_range=(0,1))),    \n",
        "      (\"pca\", PCA(n_components=0.99)),\n",
        "      (\"model\", SVC()),\n",
        "])\n",
        "\n",
        "# Allenamento\n",
        "pipe.fit(X_train,Y_train)\n",
        "\n",
        "# Test\n",
        "Y_hat_test = pipe.predict(X_test)\n",
        "\n",
        "# Salvataggio\n",
        "joblib.dump(pipe, \"model.pkl\")\n"
      ],
      "metadata": {
        "id": "aTbWqOy9T7DY",
        "outputId": "5900d3be-249d-4ea8-aa02-ce2c55ea4e3e",
        "colab": {
          "base_uri": "https://localhost:8080/"
        }
      },
      "execution_count": null,
      "outputs": [
        {
          "output_type": "execute_result",
          "data": {
            "text/plain": [
              "['model.pkl']"
            ]
          },
          "metadata": {},
          "execution_count": 9
        }
      ]
    },
    {
      "cell_type": "code",
      "source": [
        "# Visualizzazione\n",
        "for i in range(0,10): #len(Y_test)):\n",
        "  Y_hat_test = pipe.predict(X_test[i].reshape(1,-1))\n",
        "  display(Image.fromarray( X_test[i].reshape(64,64,3) ) )\n",
        "  print(Y_hat_test)"
      ],
      "metadata": {
        "id": "cMRdo2fSV2Pb",
        "outputId": "950cb543-666a-4fef-9e38-c81a094ec18e",
        "colab": {
          "base_uri": "https://localhost:8080/",
          "height": 829
        }
      },
      "execution_count": null,
      "outputs": [
        {
          "output_type": "display_data",
          "data": {
            "image/png": "[encoded data removed]",
            "text/plain": [
              "<PIL.Image.Image image mode=RGB size=64x64 at 0x7F9CAB066C90>"
            ]
          },
          "metadata": {}
        },
        {
          "output_type": "stream",
          "name": "stdout",
          "text": [
            "[0]\n"
          ]
        },
        {
          "output_type": "display_data",
          "data": {
            "image/png": "[encoded data removed]",
            "text/plain": [
              "<PIL.Image.Image image mode=RGB size=64x64 at 0x7F9CAB066B50>"
            ]
          },
          "metadata": {}
        },
        {
          "output_type": "stream",
          "name": "stdout",
          "text": [
            "[1]\n"
          ]
        },
        {
          "output_type": "display_data",
          "data": {
            "image/png": "[encoded data removed]",
            "text/plain": [
              "<PIL.Image.Image image mode=RGB size=64x64 at 0x7F9CAB066B10>"
            ]
          },
          "metadata": {}
        },
        {
          "output_type": "stream",
          "name": "stdout",
          "text": [
            "[0]\n"
          ]
        },
        {
          "output_type": "display_data",
          "data": {
            "image/png": "[encoded data removed]",
            "text/plain": [
              "<PIL.Image.Image image mode=RGB size=64x64 at 0x7F9CB5C44710>"
            ]
          },
          "metadata": {}
        },
        {
          "output_type": "stream",
          "name": "stdout",
          "text": [
            "[0]\n"
          ]
        },
        {
          "output_type": "display_data",
          "data": {
            "image/png": "[encoded data removed]",
            "text/plain": [
              "<PIL.Image.Image image mode=RGB size=64x64 at 0x7F9CB5924950>"
            ]
          },
          "metadata": {}
        },
        {
          "output_type": "stream",
          "name": "stdout",
          "text": [
            "[0]\n"
          ]
        },
        {
          "output_type": "display_data",
          "data": {
            "image/png": "[encoded data removed]",
            "text/plain": [
              "<PIL.Image.Image image mode=RGB size=64x64 at 0x7F9CAB04DC10>"
            ]
          },
          "metadata": {}
        },
        {
          "output_type": "stream",
          "name": "stdout",
          "text": [
            "[1]\n"
          ]
        },
        {
          "output_type": "display_data",
          "data": {
            "image/png": "[encoded data removed]",
            "text/plain": [
              "<PIL.Image.Image image mode=RGB size=64x64 at 0x7F9CAB066C90>"
            ]
          },
          "metadata": {}
        },
        {
          "output_type": "stream",
          "name": "stdout",
          "text": [
            "[1]\n"
          ]
        },
        {
          "output_type": "display_data",
          "data": {
            "image/png": "[encoded data removed]",
            "text/plain": [
              "<PIL.Image.Image image mode=RGB size=64x64 at 0x7F9CAB03EED0>"
            ]
          },
          "metadata": {}
        },
        {
          "output_type": "stream",
          "name": "stdout",
          "text": [
            "[1]\n"
          ]
        },
        {
          "output_type": "display_data",
          "data": {
            "image/png": "[encoded data removed]",
            "text/plain": [
              "<PIL.Image.Image image mode=RGB size=64x64 at 0x7F9CAB066C90>"
            ]
          },
          "metadata": {}
        },
        {
          "output_type": "stream",
          "name": "stdout",
          "text": [
            "[0]\n"
          ]
        },
        {
          "output_type": "display_data",
          "data": {
            "image/png": "[encoded data removed]",
            "text/plain": [
              "<PIL.Image.Image image mode=RGB size=64x64 at 0x7F9CAB066E50>"
            ]
          },
          "metadata": {}
        },
        {
          "output_type": "stream",
          "name": "stdout",
          "text": [
            "[0]\n"
          ]
        }
      ]
    },
    {
      "cell_type": "code",
      "source": [
        "from sklearn.metrics import confusion_matrix, recall_score, precision_score, accuracy_score, f1_score\n",
        "import pandas as pd\n",
        "\n",
        "Y_hat_train = pipe.predict(X_train)\n",
        "Y_hat_test = pipe.predict(X_test)\n",
        "\n",
        "c_train = confusion_matrix(Y_train, Y_hat_train)\n",
        "c_test = confusion_matrix(Y_test, Y_hat_test)\n",
        "\n",
        "df_train = pd.DataFrame(c_train, columns=[\"Pred-Mask\",\"Pred-No-Mask\"], index=[\"Real-Mask\",\"Real-No-Mask\"])\n",
        "df_test = pd.DataFrame(c_test, columns=[\"Pred-Mask\",\"Pred-No-Mask\"], index=[\"Real-Mask\",\"Real-No-Mask\"])\n",
        "\n",
        "display(df_train)\n",
        "display(df_test)\n",
        "\n",
        "accuracy_train = accuracy_score(Y_train, Y_hat_train)\n",
        "accuracy_test = accuracy_score(Y_test, Y_hat_test)\n",
        "recall_train = recall_score(Y_train, Y_hat_train)\n",
        "recall_test = recall_score(Y_test, Y_hat_test)\n",
        "precision_train = precision_score(Y_train, Y_hat_train)\n",
        "precision_test = precision_score(Y_test, Y_hat_test)\n",
        "f1score_train = f1_score(Y_train, Y_hat_train)\n",
        "f1score_test = f1_score(Y_test, Y_hat_test)\n",
        "\n",
        "print(\"accuracy_train: \", accuracy_train)\n",
        "print(\"accuracy_test: \", accuracy_test)\n",
        "print(\"recall_train: \", recall_train)\n",
        "print(\"recall_test: \", recall_test)\n",
        "print(\"precision_train: \", precision_train)\n",
        "print(\"precision_test: \", precision_test)\n",
        "print(\"f1score_train: \", f1score_train)\n",
        "print(\"f1score_test: \", f1score_test)\n"
      ],
      "metadata": {
        "id": "weHibFKmceHN",
        "outputId": "6f015890-3825-4e15-a460-f34f5e04bf5d",
        "colab": {
          "base_uri": "https://localhost:8080/",
          "height": 344
        }
      },
      "execution_count": null,
      "outputs": [
        {
          "output_type": "display_data",
          "data": {
            "text/html": [
              "\n",
              "  <div id=\"df-f2a9726c-e5a6-4ae9-a276-53cac4b0fd02\">\n",
              "    <div class=\"colab-df-container\">\n",
              "      <div>\n",
              "<style scoped>\n",
              "    .dataframe tbody tr th:only-of-type {\n",
              "        vertical-align: middle;\n",
              "    }\n",
              "\n",
              "    .dataframe tbody tr th {\n",
              "        vertical-align: top;\n",
              "    }\n",
              "\n",
              "    .dataframe thead th {\n",
              "        text-align: right;\n",
              "    }\n",
              "</style>\n",
              "<table border=\"1\" class=\"dataframe\">\n",
              "  <thead>\n",
              "    <tr style=\"text-align: right;\">\n",
              "      <th></th>\n",
              "      <th>Pred-Mask</th>\n",
              "      <th>Pred-No-Mask</th>\n",
              "    </tr>\n",
              "  </thead>\n",
              "  <tbody>\n",
              "    <tr>\n",
              "      <th>Real-Mask</th>\n",
              "      <td>390</td>\n",
              "      <td>4</td>\n",
              "    </tr>\n",
              "    <tr>\n",
              "      <th>Real-No-Mask</th>\n",
              "      <td>0</td>\n",
              "      <td>405</td>\n",
              "    </tr>\n",
              "  </tbody>\n",
              "</table>\n",
              "</div>\n",
              "      <button class=\"colab-df-convert\" onclick=\"convertToInteractive('df-f2a9726c-e5a6-4ae9-a276-53cac4b0fd02')\"\n",
              "              title=\"Convert this dataframe to an interactive table.\"\n",
              "              style=\"display:none;\">\n",
              "        \n",
              "  <svg xmlns=\"http://www.w3.org/2000/svg\" height=\"24px\"viewBox=\"0 0 24 24\"\n",
              "       width=\"24px\">\n",
              "    <path d=\"M0 0h24v24H0V0z\" fill=\"none\"/>\n",
              "    <path d=\"M18.56 5.44l.94 2.06.94-2.06 2.06-.94-2.06-.94-.94-2.06-.94 2.06-2.06.94zm-11 1L8.5 8.5l.94-2.06 2.06-.94-2.06-.94L8.5 2.5l-.94 2.06-2.06.94zm10 10l.94 2.06.94-2.06 2.06-.94-2.06-.94-.94-2.06-.94 2.06-2.06.94z\"/><path d=\"M17.41 7.96l-1.37-1.37c-.4-.4-.92-.59-1.43-.59-.52 0-1.04.2-1.43.59L10.3 9.45l-7.72 7.72c-.78.78-.78 2.05 0 2.83L4 21.41c.39.39.9.59 1.41.59.51 0 1.02-.2 1.41-.59l7.78-7.78 2.81-2.81c.8-.78.8-2.07 0-2.86zM5.41 20L4 18.59l7.72-7.72 1.47 1.35L5.41 20z\"/>\n",
              "  </svg>\n",
              "      </button>\n",
              "      \n",
              "  <style>\n",
              "    .colab-df-container {\n",
              "      display:flex;\n",
              "      flex-wrap:wrap;\n",
              "      gap: 12px;\n",
              "    }\n",
              "\n",
              "    .colab-df-convert {\n",
              "      background-color: #E8F0FE;\n",
              "      border: none;\n",
              "      border-radius: 50%;\n",
              "      cursor: pointer;\n",
              "      display: none;\n",
              "      fill: #1967D2;\n",
              "      height: 32px;\n",
              "      padding: 0 0 0 0;\n",
              "      width: 32px;\n",
              "    }\n",
              "\n",
              "    .colab-df-convert:hover {\n",
              "      background-color: #E2EBFA;\n",
              "      box-shadow: 0px 1px 2px rgba(60, 64, 67, 0.3), 0px 1px 3px 1px rgba(60, 64, 67, 0.15);\n",
              "      fill: #174EA6;\n",
              "    }\n",
              "\n",
              "    [theme=dark] .colab-df-convert {\n",
              "      background-color: #3B4455;\n",
              "      fill: #D2E3FC;\n",
              "    }\n",
              "\n",
              "    [theme=dark] .colab-df-convert:hover {\n",
              "      background-color: #434B5C;\n",
              "      box-shadow: 0px 1px 3px 1px rgba(0, 0, 0, 0.15);\n",
              "      filter: drop-shadow(0px 1px 2px rgba(0, 0, 0, 0.3));\n",
              "      fill: #FFFFFF;\n",
              "    }\n",
              "  </style>\n",
              "\n",
              "      <script>\n",
              "        const buttonEl =\n",
              "          document.querySelector('#df-f2a9726c-e5a6-4ae9-a276-53cac4b0fd02 button.colab-df-convert');\n",
              "        buttonEl.style.display =\n",
              "          google.colab.kernel.accessAllowed ? 'block' : 'none';\n",
              "\n",
              "        async function convertToInteractive(key) {\n",
              "          const element = document.querySelector('#df-f2a9726c-e5a6-4ae9-a276-53cac4b0fd02');\n",
              "          const dataTable =\n",
              "            await google.colab.kernel.invokeFunction('convertToInteractive',\n",
              "                                                     [key], {});\n",
              "          if (!dataTable) return;\n",
              "\n",
              "          const docLinkHtml = 'Like what you see? Visit the ' +\n",
              "            '<a target=\"_blank\" href=https://colab.research.google.com/notebooks/data_table.ipynb>data table notebook</a>'\n",
              "            + ' to learn more about interactive tables.';\n",
              "          element.innerHTML = '';\n",
              "          dataTable['output_type'] = 'display_data';\n",
              "          await google.colab.output.renderOutput(dataTable, element);\n",
              "          const docLink = document.createElement('div');\n",
              "          docLink.innerHTML = docLinkHtml;\n",
              "          element.appendChild(docLink);\n",
              "        }\n",
              "      </script>\n",
              "    </div>\n",
              "  </div>\n",
              "  "
            ],
            "text/plain": [
              "              Pred-Mask  Pred-No-Mask\n",
              "Real-Mask           390             4\n",
              "Real-No-Mask          0           405"
            ]
          },
          "metadata": {}
        },
        {
          "output_type": "display_data",
          "data": {
            "text/html": [
              "\n",
              "  <div id=\"df-33a2a511-19d9-4690-abc0-ba5634d8cdbe\">\n",
              "    <div class=\"colab-df-container\">\n",
              "      <div>\n",
              "<style scoped>\n",
              "    .dataframe tbody tr th:only-of-type {\n",
              "        vertical-align: middle;\n",
              "    }\n",
              "\n",
              "    .dataframe tbody tr th {\n",
              "        vertical-align: top;\n",
              "    }\n",
              "\n",
              "    .dataframe thead th {\n",
              "        text-align: right;\n",
              "    }\n",
              "</style>\n",
              "<table border=\"1\" class=\"dataframe\">\n",
              "  <thead>\n",
              "    <tr style=\"text-align: right;\">\n",
              "      <th></th>\n",
              "      <th>Pred-Mask</th>\n",
              "      <th>Pred-No-Mask</th>\n",
              "    </tr>\n",
              "  </thead>\n",
              "  <tbody>\n",
              "    <tr>\n",
              "      <th>Real-Mask</th>\n",
              "      <td>97</td>\n",
              "      <td>8</td>\n",
              "    </tr>\n",
              "    <tr>\n",
              "      <th>Real-No-Mask</th>\n",
              "      <td>1</td>\n",
              "      <td>94</td>\n",
              "    </tr>\n",
              "  </tbody>\n",
              "</table>\n",
              "</div>\n",
              "      <button class=\"colab-df-convert\" onclick=\"convertToInteractive('df-33a2a511-19d9-4690-abc0-ba5634d8cdbe')\"\n",
              "              title=\"Convert this dataframe to an interactive table.\"\n",
              "              style=\"display:none;\">\n",
              "        \n",
              "  <svg xmlns=\"http://www.w3.org/2000/svg\" height=\"24px\"viewBox=\"0 0 24 24\"\n",
              "       width=\"24px\">\n",
              "    <path d=\"M0 0h24v24H0V0z\" fill=\"none\"/>\n",
              "    <path d=\"M18.56 5.44l.94 2.06.94-2.06 2.06-.94-2.06-.94-.94-2.06-.94 2.06-2.06.94zm-11 1L8.5 8.5l.94-2.06 2.06-.94-2.06-.94L8.5 2.5l-.94 2.06-2.06.94zm10 10l.94 2.06.94-2.06 2.06-.94-2.06-.94-.94-2.06-.94 2.06-2.06.94z\"/><path d=\"M17.41 7.96l-1.37-1.37c-.4-.4-.92-.59-1.43-.59-.52 0-1.04.2-1.43.59L10.3 9.45l-7.72 7.72c-.78.78-.78 2.05 0 2.83L4 21.41c.39.39.9.59 1.41.59.51 0 1.02-.2 1.41-.59l7.78-7.78 2.81-2.81c.8-.78.8-2.07 0-2.86zM5.41 20L4 18.59l7.72-7.72 1.47 1.35L5.41 20z\"/>\n",
              "  </svg>\n",
              "      </button>\n",
              "      \n",
              "  <style>\n",
              "    .colab-df-container {\n",
              "      display:flex;\n",
              "      flex-wrap:wrap;\n",
              "      gap: 12px;\n",
              "    }\n",
              "\n",
              "    .colab-df-convert {\n",
              "      background-color: #E8F0FE;\n",
              "      border: none;\n",
              "      border-radius: 50%;\n",
              "      cursor: pointer;\n",
              "      display: none;\n",
              "      fill: #1967D2;\n",
              "      height: 32px;\n",
              "      padding: 0 0 0 0;\n",
              "      width: 32px;\n",
              "    }\n",
              "\n",
              "    .colab-df-convert:hover {\n",
              "      background-color: #E2EBFA;\n",
              "      box-shadow: 0px 1px 2px rgba(60, 64, 67, 0.3), 0px 1px 3px 1px rgba(60, 64, 67, 0.15);\n",
              "      fill: #174EA6;\n",
              "    }\n",
              "\n",
              "    [theme=dark] .colab-df-convert {\n",
              "      background-color: #3B4455;\n",
              "      fill: #D2E3FC;\n",
              "    }\n",
              "\n",
              "    [theme=dark] .colab-df-convert:hover {\n",
              "      background-color: #434B5C;\n",
              "      box-shadow: 0px 1px 3px 1px rgba(0, 0, 0, 0.15);\n",
              "      filter: drop-shadow(0px 1px 2px rgba(0, 0, 0, 0.3));\n",
              "      fill: #FFFFFF;\n",
              "    }\n",
              "  </style>\n",
              "\n",
              "      <script>\n",
              "        const buttonEl =\n",
              "          document.querySelector('#df-33a2a511-19d9-4690-abc0-ba5634d8cdbe button.colab-df-convert');\n",
              "        buttonEl.style.display =\n",
              "          google.colab.kernel.accessAllowed ? 'block' : 'none';\n",
              "\n",
              "        async function convertToInteractive(key) {\n",
              "          const element = document.querySelector('#df-33a2a511-19d9-4690-abc0-ba5634d8cdbe');\n",
              "          const dataTable =\n",
              "            await google.colab.kernel.invokeFunction('convertToInteractive',\n",
              "                                                     [key], {});\n",
              "          if (!dataTable) return;\n",
              "\n",
              "          const docLinkHtml = 'Like what you see? Visit the ' +\n",
              "            '<a target=\"_blank\" href=https://colab.research.google.com/notebooks/data_table.ipynb>data table notebook</a>'\n",
              "            + ' to learn more about interactive tables.';\n",
              "          element.innerHTML = '';\n",
              "          dataTable['output_type'] = 'display_data';\n",
              "          await google.colab.output.renderOutput(dataTable, element);\n",
              "          const docLink = document.createElement('div');\n",
              "          docLink.innerHTML = docLinkHtml;\n",
              "          element.appendChild(docLink);\n",
              "        }\n",
              "      </script>\n",
              "    </div>\n",
              "  </div>\n",
              "  "
            ],
            "text/plain": [
              "              Pred-Mask  Pred-No-Mask\n",
              "Real-Mask            97             8\n",
              "Real-No-Mask          1            94"
            ]
          },
          "metadata": {}
        },
        {
          "output_type": "stream",
          "name": "stdout",
          "text": [
            "accuracy_train:  0.9949937421777222\n",
            "accuracy_test:  0.955\n",
            "recall_train:  1.0\n",
            "recall_test:  0.9894736842105263\n",
            "precision_train:  0.9902200488997555\n",
            "precision_test:  0.9215686274509803\n",
            "f1score_train:  0.995085995085995\n",
            "f1score_test:  0.9543147208121827\n"
          ]
        }
      ]
    },
    {
      "cell_type": "markdown",
      "source": [
        "## Theory"
      ],
      "metadata": {
        "id": "DFWZYQD1fntP"
      }
    },
    {
      "cell_type": "markdown",
      "metadata": {
        "id": "RsOJITRulULQ"
      },
      "source": [
        "| Risultato Esatto   | Risulato Predetto |  |\n",
        "|------------|---------------------------|--|\n",
        "|            |   Negativo | Positivo |\n",
        "|Negativo    |    TN=97750     |    FP=150    |\n",
        "|Positivo    |    FN=330      |    TP=1770    |\n",
        "\n",
        "\n",
        "\n",
        "* Accuracy = $\\frac{TP+TN}{TP+TN+FP+FN}$\n",
        "\n",
        "* Recall = $\\frac{TP}{TP+FN}$\n",
        "\n",
        "* Precision = $\\frac{TP}{TP+FP}$\n",
        "\n",
        "* F1 = $\\frac{2*Precision*recall}{Precision+Recall}$"
      ]
    }
  ]
}