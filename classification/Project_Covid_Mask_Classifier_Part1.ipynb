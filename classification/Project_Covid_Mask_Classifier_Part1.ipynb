{
  "nbformat": 4,
  "nbformat_minor": 0,
  "metadata": {
    "colab": {
      "name": "Project_Covid_Mask_Classifier_Part1.ipynb",
      "provenance": [],
      "authorship_tag": "ABX9TyNQS5pASgvNUhfJudbQ16Xr",
      "include_colab_link": true
    },
    "kernelspec": {
      "name": "python3",
      "display_name": "Python 3"
    },
    "language_info": {
      "name": "python"
    }
  },
  "cells": [
    {
      "cell_type": "markdown",
      "metadata": {
        "id": "view-in-github",
        "colab_type": "text"
      },
      "source": [
        "<a href=\"https://colab.research.google.com/github/visiont3lab/machine-learning-course/blob/main/classification/Project_Covid_Mask_Classifier_Part1.ipynb\" target=\"_parent\"><img src=\"https://colab.research.google.com/assets/colab-badge.svg\" alt=\"Open In Colab\"/></a>"
      ]
    },
    {
      "cell_type": "markdown",
      "metadata": {
        "id": "I7k9MHRWkdPi"
      },
      "source": [
        "# Classification Project Part1: Mask-NoMask Classifier"
      ]
    },
    {
      "cell_type": "markdown",
      "metadata": {
        "id": "hlBBehykk122"
      },
      "source": [
        "## Setup"
      ]
    },
    {
      "cell_type": "code",
      "metadata": {
        "colab": {
          "base_uri": "https://localhost:8080/"
        },
        "id": "VUOBTdbzkdyg",
        "outputId": "c67036e2-1870-47cd-cfcd-aaf8056cf723"
      },
      "source": [
        "# Scaricare il repositorio da github per avere accesso alle immagini\n",
        "!git clone https://github.com/visiont3lab/covid-mask-classifier.git"
      ],
      "execution_count": 1,
      "outputs": [
        {
          "output_type": "stream",
          "name": "stdout",
          "text": [
            "Cloning into 'covid-mask-classifier'...\n",
            "remote: Enumerating objects: 1084, done.\u001b[K\n",
            "remote: Counting objects: 100% (71/71), done.\u001b[K\n",
            "remote: Compressing objects: 100% (64/64), done.\u001b[K\n",
            "remote: Total 1084 (delta 26), reused 15 (delta 3), pack-reused 1013\u001b[K\n",
            "Receiving objects: 100% (1084/1084), 89.00 MiB | 26.39 MiB/s, done.\n",
            "Resolving deltas: 100% (27/27), done.\n"
          ]
        }
      ]
    },
    {
      "cell_type": "markdown",
      "metadata": {
        "id": "38Jj33Rkk7kP"
      },
      "source": [
        "## Intro to Image Processing"
      ]
    },
    {
      "cell_type": "code",
      "metadata": {
        "colab": {
          "base_uri": "https://localhost:8080/",
          "height": 206
        },
        "id": "gdluDPzXk8xk",
        "outputId": "03844a54-fad5-42ce-8882-217b9f6e9137"
      },
      "source": [
        "import cv2\n",
        "from PIL import Image\n",
        "import numpy as np\n",
        "\n",
        "# Leggere un immagine (bianco e nero oppure a colori) e metterla dentro un numpy array\n",
        "filepath = \"/content/covid-mask-classifier/dataset/mask/2020-04_GQ_Face-Masks_3x2-7.jpg\"\n",
        "#im = cv2.imread(filepath, cv2.IMREAD_GRAYSCALE) # 0-255 \n",
        "#im = cv2.imread(filepath, cv2.IMREAD_UNCHANGED) # 0-255 \n",
        "im = cv2.imread(filepath, cv2.IMREAD_COLOR) # 0-255  unit8 -- unint16\n",
        "\n",
        "print( np.min(im) )\n",
        "print( np.max(im) )\n",
        "print( im.shape)\n",
        "print( im[0,0,0]) # Accediamo al pixel blu    --> B\n",
        "print( im[0,0,1]) # Accediamo al pixel verde  --> G\n",
        "print( im[0,0,2]) # Accediamo al pixel Ross   --> R\n",
        "\n",
        "im =cv2.cvtColor(im, cv2.COLOR_BGR2RGB)\n",
        "\n",
        "# Conversione da RGB a Bianco e nero\n",
        "im =cv2.cvtColor(im, cv2.COLOR_RGB2GRAY)\n",
        "\n",
        "# Colora un immagine in bianco e nero con una colormap\n",
        "im = cv2.applyColorMap(im, cv2.COLORMAP_JET);\n",
        "\n",
        "# La colormap e BGR convertila a RGB per visualizzazione correta\n",
        "im =cv2.cvtColor(im, cv2.COLOR_BGR2RGB)\n",
        "\n",
        "# Resize Immagine\n",
        "im = cv2.resize(im, (100,80))\n",
        "\n",
        "# numpy array --> Immagine PIL --> RGB\n",
        "display(Image.fromarray(im))\n",
        "#cv2.imshow()"
      ],
      "execution_count": 3,
      "outputs": [
        {
          "output_type": "stream",
          "name": "stdout",
          "text": [
            "18\n",
            "255\n",
            "(1205, 1070, 3)\n",
            "43\n",
            "55\n",
            "67\n"
          ]
        },
        {
          "output_type": "display_data",
          "data": {
            "image/png": "[encoded data removed]",
            "text/plain": [
              "<PIL.Image.Image image mode=RGB size=100x80 at 0x7FE727D71C10>"
            ]
          },
          "metadata": {}
        }
      ]
    },
    {
      "cell_type": "markdown",
      "metadata": {
        "id": "KWIfkIgUlEPd"
      },
      "source": [
        "## Read Data"
      ]
    },
    {
      "cell_type": "code",
      "metadata": {
        "id": "Ff3J0t0vlFEt"
      },
      "source": [
        "import os\n",
        "import cv2\n",
        "from PIL import Image\n",
        "import numpy as np\n",
        "\n",
        "\n",
        "# ritorna i nomi dei file contenuti nella cartella --> li ritorna come listaù\n",
        "directory_path_mask = \"/content/covid-mask-classifier/dataset/mask\"\n",
        "directory_path_nomask = \"/content/covid-mask-classifier/dataset/no-mask\"\n",
        "\n",
        "# Dati finali\n",
        "X = []\n",
        "Y = []\n",
        "\n",
        "def preprocess(filepath):\n",
        "\n",
        "  # Read Image\n",
        "  # im = cv2.imread(filepath, cv2.IMREAD_UNCHANGED) # 0-255  unit8 -- unint16\n",
        "  im = cv2.imread(filepath, cv2.IMREAD_COLOR) # 0-255  unit8 -- unint16\n",
        "  \n",
        "  # Conver to RGB\n",
        "  im =cv2.cvtColor(im, cv2.COLOR_BGR2RGB)\n",
        "\n",
        "  # Conversione da RGB a Bianco e nero\n",
        "  #im =cv2.cvtColor(im, cv2.COLOR_RGB2GRAY)\n",
        "\n",
        "  # Colora un immagine in bianco e nero con una colormap\n",
        "  #im = cv2.applyColorMap(im, cv2.COLORMAP_JET);\n",
        "\n",
        "  # La colormap e BGR convertila a RGB per visualizzazione correta\n",
        "  #im =cv2.cvtColor(im, cv2.COLOR_BGR2RGB)\n",
        "\n",
        "  # Resize Immagine\n",
        "  im = cv2.resize(im, (128,128))\n",
        "  #print(im.shape)\n",
        "\n",
        "  return im\n",
        "\n",
        "# Importante che le cartelle mask e no mask contengano lo stesso numero di immagini \n",
        "for name_mask, name_nomask in zip(os.listdir(directory_path_mask)[0:200] , os.listdir(directory_path_nomask)[0:200]):\n",
        "\n",
        "  # Get filepath (path completo) dell' immagine\n",
        "  filepath_mask = os.path.join(directory_path_mask,name_mask)\n",
        "  filepath_nomask = os.path.join(directory_path_nomask,name_nomask)\n",
        "  #filepath = directory_path + \"/\" + name\n",
        "\n",
        "  im_mask = preprocess(filepath_mask)\n",
        "  im_nomask = preprocess(filepath_nomask)\n",
        "\n",
        "  xdata_mask = im_mask.reshape(-1)\n",
        "  xdata_nomask = im_nomask.reshape(-1)\n",
        "  \n",
        "  X.append(xdata_mask)\n",
        "  X.append(xdata_nomask)\n",
        "  Y.append(0)\n",
        "  Y.append(1)\n",
        "  \n",
        "  # numpy array --> Immagine PIL --> RGB\n",
        "  #display(Image.fromarray(im_mask))\n",
        "  #display(Image.fromarray(im_nomask))\n",
        "  \n",
        "  #break\n",
        "\n",
        "X = np.array(X, dtype=np.float32)\n",
        "Y = np.array(Y, dtype=np.float32)\n"
      ],
      "execution_count": 5,
      "outputs": []
    },
    {
      "cell_type": "markdown",
      "metadata": {
        "id": "LQfhsF2UlIjI"
      },
      "source": [
        "## Training"
      ]
    },
    {
      "cell_type": "code",
      "metadata": {
        "id": "D1-2gVVAlJcs"
      },
      "source": [
        "from sklearn.model_selection import train_test_split\n",
        "# Train e test data\n",
        "X_train, X_test, y_train, y_test = train_test_split( X, Y, test_size=0.20,shuffle=True, random_state=25)"
      ],
      "execution_count": 6,
      "outputs": []
    },
    {
      "cell_type": "code",
      "metadata": {
        "colab": {
          "base_uri": "https://localhost:8080/"
        },
        "id": "pRqAeN9-lN-t",
        "outputId": "876cb355-3021-4c5a-f1a2-5fb54ef85ede"
      },
      "source": [
        "from sklearn.preprocessing import  MinMaxScaler  \n",
        "from sklearn.pipeline import Pipeline\n",
        "from sklearn.svm import SVC\n",
        "from sklearn.metrics import precision_score,recall_score, accuracy_score, f1_score\n",
        "from sklearn.externals import joblib\n",
        "from sklearn.decomposition import PCA\n",
        "\n",
        "pipe = Pipeline([\n",
        "    (\"normalize\", MinMaxScaler(feature_range=(0,1))), \n",
        "    (\"pca\", PCA(0.99)), \n",
        "    (\"model\", SVC()),\n",
        "])\n",
        "pipe.fit(X_train,y_train)\n",
        "\n",
        "y_train_hat = pipe.predict(X_train)\n",
        "y_test_hat = pipe.predict(X_test)\n",
        "\n",
        "# Save \n",
        "joblib.dump(pipe, \"model.pkl\")"
      ],
      "execution_count": 8,
      "outputs": [
        {
          "output_type": "execute_result",
          "data": {
            "text/plain": [
              "['model.pkl']"
            ]
          },
          "metadata": {},
          "execution_count": 8
        }
      ]
    },
    {
      "cell_type": "code",
      "metadata": {
        "colab": {
          "base_uri": "https://localhost:8080/"
        },
        "id": "lAnSa-3GlP_I",
        "outputId": "ebb874b0-d7be-453c-9107-54e8d99533be"
      },
      "source": [
        "precision = precision_score(y_test,y_test_hat)\n",
        "recall = recall_score(y_test,y_test_hat)\n",
        "accuracy = accuracy_score(y_test,y_test_hat)\n",
        "f1 = f1_score(y_test,y_test_hat,average=\"weighted\")\n",
        "print(\"precision:\", precision)\n",
        "print(\"recall:\", recall)\n",
        "print(\"accuracy:\", accuracy)\n",
        "print(\"f1:\", f1)\n"
      ],
      "execution_count": 9,
      "outputs": [
        {
          "output_type": "stream",
          "name": "stdout",
          "text": [
            "precision: 0.9\n",
            "recall: 1.0\n",
            "accuracy: 0.95\n",
            "f1: 0.9501253132832079\n"
          ]
        }
      ]
    },
    {
      "cell_type": "code",
      "metadata": {
        "colab": {
          "base_uri": "https://localhost:8080/",
          "height": 243
        },
        "id": "FW6C_-bKlRsF",
        "outputId": "27590b28-2bdd-44f7-ad46-53e158bf26b0"
      },
      "source": [
        "from sklearn.metrics import confusion_matrix\n",
        "import pandas as pd\n",
        "# 0  mask  1 senza\n",
        "cm_train = confusion_matrix(y_train,y_train_hat)\n",
        "cm_test = confusion_matrix(y_test,y_test_hat)\n",
        "df_train = pd.DataFrame(cm_train, columns=[\"Pred-Mask\",\"Pred-No-Mask\"], index=[\"Real-Mask\",\"Real-No-Mask\"])\n",
        "df_test = pd.DataFrame(cm_test, columns=[\"Pred-Mask\",\"Pred-No-Mask\"], index=[\"Real-Mask\",\"Real-No-Mask\"])\n",
        "print(\"TRAIN\")\n",
        "display(df_train)\n",
        "print(\"TEST\")\n",
        "display(df_test)"
      ],
      "execution_count": 10,
      "outputs": [
        {
          "output_type": "stream",
          "name": "stdout",
          "text": [
            "TRAIN\n"
          ]
        },
        {
          "output_type": "display_data",
          "data": {
            "text/html": [
              "<div>\n",
              "<style scoped>\n",
              "    .dataframe tbody tr th:only-of-type {\n",
              "        vertical-align: middle;\n",
              "    }\n",
              "\n",
              "    .dataframe tbody tr th {\n",
              "        vertical-align: top;\n",
              "    }\n",
              "\n",
              "    .dataframe thead th {\n",
              "        text-align: right;\n",
              "    }\n",
              "</style>\n",
              "<table border=\"1\" class=\"dataframe\">\n",
              "  <thead>\n",
              "    <tr style=\"text-align: right;\">\n",
              "      <th></th>\n",
              "      <th>Pred-Mask</th>\n",
              "      <th>Pred-No-Mask</th>\n",
              "    </tr>\n",
              "  </thead>\n",
              "  <tbody>\n",
              "    <tr>\n",
              "      <th>Real-Mask</th>\n",
              "      <td>155</td>\n",
              "      <td>1</td>\n",
              "    </tr>\n",
              "    <tr>\n",
              "      <th>Real-No-Mask</th>\n",
              "      <td>0</td>\n",
              "      <td>164</td>\n",
              "    </tr>\n",
              "  </tbody>\n",
              "</table>\n",
              "</div>"
            ],
            "text/plain": [
              "              Pred-Mask  Pred-No-Mask\n",
              "Real-Mask           155             1\n",
              "Real-No-Mask          0           164"
            ]
          },
          "metadata": {}
        },
        {
          "output_type": "stream",
          "name": "stdout",
          "text": [
            "TEST\n"
          ]
        },
        {
          "output_type": "display_data",
          "data": {
            "text/html": [
              "<div>\n",
              "<style scoped>\n",
              "    .dataframe tbody tr th:only-of-type {\n",
              "        vertical-align: middle;\n",
              "    }\n",
              "\n",
              "    .dataframe tbody tr th {\n",
              "        vertical-align: top;\n",
              "    }\n",
              "\n",
              "    .dataframe thead th {\n",
              "        text-align: right;\n",
              "    }\n",
              "</style>\n",
              "<table border=\"1\" class=\"dataframe\">\n",
              "  <thead>\n",
              "    <tr style=\"text-align: right;\">\n",
              "      <th></th>\n",
              "      <th>Pred-Mask</th>\n",
              "      <th>Pred-No-Mask</th>\n",
              "    </tr>\n",
              "  </thead>\n",
              "  <tbody>\n",
              "    <tr>\n",
              "      <th>Real-Mask</th>\n",
              "      <td>40</td>\n",
              "      <td>4</td>\n",
              "    </tr>\n",
              "    <tr>\n",
              "      <th>Real-No-Mask</th>\n",
              "      <td>0</td>\n",
              "      <td>36</td>\n",
              "    </tr>\n",
              "  </tbody>\n",
              "</table>\n",
              "</div>"
            ],
            "text/plain": [
              "              Pred-Mask  Pred-No-Mask\n",
              "Real-Mask            40             4\n",
              "Real-No-Mask          0            36"
            ]
          },
          "metadata": {}
        }
      ]
    },
    {
      "cell_type": "markdown",
      "metadata": {
        "id": "RsOJITRulULQ"
      },
      "source": [
        "| Risultato Esatto   | Risulato Predetto |  |\n",
        "|------------|---------------------------|--|\n",
        "|            |   Negativo | Positivo |\n",
        "|Negativo    |    TN=97750     |    FP=150    |\n",
        "|Positivo    |    FN=330      |    TP=1770    |\n",
        "\n",
        "\n",
        "\n",
        "* Accuracy = $\\frac{TP+TN}{TP+TN+FP+FN}$\n",
        "\n",
        "* Recall = $\\frac{TP}{TP+FN}$\n",
        "\n",
        "* Precision = $\\frac{TP}{TP+FP}$\n",
        "\n",
        "* F1 = $\\frac{2*Precision*recall}{Precision+Recall}$"
      ]
    },
    {
      "cell_type": "markdown",
      "metadata": {
        "id": "x1E0XMAwlXBl"
      },
      "source": [
        "## Extra PCA Examples"
      ]
    },
    {
      "cell_type": "code",
      "metadata": {
        "id": "mm7FT34tlUpe"
      },
      "source": [
        "from sklearn.decomposition import PCA \n",
        "pca = PCA(n_components=0.99)\n",
        "X_t = pca.fit_transform(X)  # 1000x 512*512*3\n",
        "print(X.shape)\n",
        "print(X_t.shape)"
      ],
      "execution_count": null,
      "outputs": []
    }
  ]
}