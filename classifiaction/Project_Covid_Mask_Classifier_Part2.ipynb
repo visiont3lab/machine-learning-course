{
  "nbformat": 4,
  "nbformat_minor": 0,
  "metadata": {
    "colab": {
      "name": "Project_Covid_Mask_Classifier_Part2.ipynb",
      "provenance": [],
      "collapsed_sections": [],
      "authorship_tag": "ABX9TyMK4nPcYs1irIMtg2KqUMCg",
      "include_colab_link": true
    },
    "kernelspec": {
      "name": "python3",
      "display_name": "Python 3"
    },
    "language_info": {
      "name": "python"
    }
  },
  "cells": [
    {
      "cell_type": "markdown",
      "metadata": {
        "id": "view-in-github",
        "colab_type": "text"
      },
      "source": [
        "<a href=\"https://colab.research.google.com/github/visiont3lab/machine-learning-course/blob/main/classifiaction/Project_Covid_Mask_Classifier_Part2.ipynb\" target=\"_parent\"><img src=\"https://colab.research.google.com/assets/colab-badge.svg\" alt=\"Open In Colab\"/></a>"
      ]
    },
    {
      "cell_type": "code",
      "metadata": {
        "colab": {
          "base_uri": "https://localhost:8080/"
        },
        "id": "zP_WGTxW_fDr",
        "outputId": "78bc5bbf-c4c0-4bf5-9512-07d3efe00c43"
      },
      "source": [
        "# Get data\n",
        "!git clone https://github.com/visiont3lab/mask-detector-covid.git"
      ],
      "execution_count": null,
      "outputs": [
        {
          "output_type": "stream",
          "name": "stdout",
          "text": [
            "Cloning into 'mask-detector-covid'...\n",
            "remote: Enumerating objects: 83, done.\u001b[K\n",
            "remote: Counting objects: 100% (83/83), done.\u001b[K\n",
            "remote: Compressing objects: 100% (62/62), done.\u001b[K\n",
            "remote: Total 83 (delta 43), reused 37 (delta 18), pack-reused 0\u001b[K\n",
            "Unpacking objects: 100% (83/83), done.\n"
          ]
        }
      ]
    },
    {
      "cell_type": "code",
      "metadata": {
        "id": "sS2HI3kpFL_G"
      },
      "source": [
        "# Haar cascade files\n",
        "#!git clone https://github.com/anaustinbeing/haar-cascade-files.git"
      ],
      "execution_count": null,
      "outputs": []
    },
    {
      "cell_type": "code",
      "metadata": {
        "id": "RSMZrLXC_mcO"
      },
      "source": [
        "import cv2\n",
        "from PIL import Image\n",
        "import numpy as np\n",
        "\n",
        "def rotate(image, angle, center=None, scale=1.0):\n",
        "    # grab the dimensions of the image\n",
        "    (h, w) = image.shape[:2]\n",
        "\n",
        "    # if the center is None, initialize it as the center of\n",
        "    # the image\n",
        "    if center is None:\n",
        "        center = (w // 2, h // 2)\n",
        "\n",
        "    # perform the rotation\n",
        "    M = cv2.getRotationMatrix2D(center, angle, scale)\n",
        "    rotated = cv2.warpAffine(image, M, (w, h))\n",
        "\n",
        "    # return the rotated image\n",
        "    return rotated\n",
        "\n",
        "def  findLargestBB(bbs):\n",
        "  areas = [w*h for x,y,w,h in bbs]\n",
        "  if not areas:\n",
        "      return False, None\n",
        "  else:\n",
        "      i_biggest = np.argmax(areas) \n",
        "      biggest = bbs[i_biggest]\n",
        "      return True, biggest\n",
        "\n",
        "cap = cv2.VideoCapture(\"mask-detector-covid/data/video.mp4\")\n",
        "\n",
        "if (cap.isOpened()== False): \n",
        "  print(\"Error opening video stream or file\")\n",
        "\n",
        "model_face = cv2.CascadeClassifier('mask-detector-covid/models/haarcascade_frontalface_default.xml')\n",
        "\n",
        "while(cap.isOpened()):\n",
        "\n",
        "  # lettura immagine\n",
        "  ret, frame = cap.read()\n",
        "  \n",
        "  # coversione immagine da BGR a RGB\n",
        "  frame = cv2.cvtColor(frame, cv2.COLOR_BGR2RGB)\n",
        "  #frame = cv2.cvtColor(frame, cv2.COLOR_RGB2GRAY)\n",
        "  \n",
        "  # Rotazione dell'immagine\n",
        "  frame = rotate(frame, -90)\n",
        "\n",
        "  # Trova tutte le facce nell'immagine\n",
        "  faces = model_face.detectMultiScale(frame,scaleFactor=1.05,minNeighbors=4, flags=cv2.CASCADE_DO_ROUGH_SEARCH | cv2.CASCADE_SCALE_IMAGE)\n",
        "  \n",
        "  # Trova la faccia piu grande (area piu grande)\n",
        "  ret, facebig = findLargestBB(faces)\n",
        "\n",
        "  # Per ogni faccia fai qualcosa\n",
        "  if ret == True:\n",
        "\n",
        "    # Extra coordiante of largest image\n",
        "    x,y,w,h = facebig\n",
        "    \n",
        "    # Crop image \n",
        "    roi = frame[y:y+h,x:x+w]\n",
        "\n",
        "    # Disegna il quadrato\n",
        "    #cv2.rectangle(frame,(x,y),(x+w,y+h),(255,0,0),2)\n",
        "\n",
        "    # Solo sul vostro pc\n",
        "    #cv2.imshow(\"Image\", roi)\n",
        "    #cv2.waitKey(33)\n",
        "\n",
        "    # In colab o jupyter\n",
        "    #frame = cv2.resize(frame, (128,128))\n",
        "    im_pil = Image.fromarray(roi)\n",
        "    display(im_pil)\n"
      ],
      "execution_count": null,
      "outputs": []
    },
    {
      "cell_type": "code",
      "metadata": {
        "id": "3tPtj5359swC"
      },
      "source": [
        ""
      ],
      "execution_count": null,
      "outputs": []
    }
  ]
}